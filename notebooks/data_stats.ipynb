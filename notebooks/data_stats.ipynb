{
 "cells": [
  {
   "cell_type": "code",
   "execution_count": 34,
   "metadata": {},
   "outputs": [],
   "source": [
    "import json"
   ]
  },
  {
   "cell_type": "markdown",
   "metadata": {},
   "source": [
    "### Dials Train analysis"
   ]
  },
  {
   "cell_type": "code",
   "execution_count": 35,
   "metadata": {},
   "outputs": [],
   "source": [
    "with open(\"../data/simmc2_dials_dstc10_train.json\", \"r\") as f:\n",
    "    data = json.load(f)"
   ]
  },
  {
   "cell_type": "code",
   "execution_count": 40,
   "metadata": {},
   "outputs": [
    {
     "data": {
      "text/plain": [
       "{'0': 'm_cloth_store_1498649_woman_5_3',\n",
       " '5': 'm_cloth_store_1498649_woman_5_0'}"
      ]
     },
     "execution_count": 40,
     "metadata": {},
     "output_type": "execute_result"
    }
   ],
   "source": [
    "data['dialogue_data'][0]['scene_ids']"
   ]
  },
  {
   "cell_type": "code",
   "execution_count": 26,
   "metadata": {},
   "outputs": [
    {
     "name": "stdout",
     "output_type": "stream",
     "text": [
      "[82, 58, 59]\n"
     ]
    }
   ],
   "source": [
    "print(data['dialogue_data'][0]['dialogue'][0]['system_transcript_annotated']['act_attributes']['objects'])"
   ]
  },
  {
   "cell_type": "code",
   "execution_count": 38,
   "metadata": {},
   "outputs": [
    {
     "name": "stdout",
     "output_type": "stream",
     "text": [
      "{0: 2270, 1: 2538, 2: 2893, 3: 2716, 4: 3339, 5: 3064, 6: 2784, 7: 2287, 8: 1965, 9: 1406, 10: 1258, 11: 1085, 12: 1066, 13: 892, 14: 865, 15: 818, 16: 735, 17: 677, 18: 673, 19: 608, 20: 576, 21: 514, 22: 449, 23: 469, 24: 452, 25: 423, 26: 464, 27: 447, 28: 372, 29: 396, 30: 362, 31: 313, 32: 352, 33: 304, 34: 309, 35: 279, 36: 237, 37: 263, 38: 289, 39: 321, 40: 279, 41: 294, 42: 237, 43: 227, 44: 219, 45: 228, 46: 188, 47: 222, 48: 213, 49: 236, 50: 201, 51: 208, 52: 151, 53: 149, 54: 188, 55: 179, 56: 139, 57: 149, 58: 172, 59: 183, 60: 137, 61: 148, 62: 166, 63: 140, 64: 127, 65: 116, 66: 135, 67: 102, 68: 121, 69: 126, 70: 133, 71: 128, 72: 131, 73: 128, 74: 124, 75: 101, 76: 117, 77: 73, 78: 86, 79: 58, 80: 71, 81: 61, 82: 69, 83: 71, 84: 73, 85: 77, 86: 55, 87: 50, 88: 74, 89: 64, 90: 58, 91: 35, 92: 50, 93: 52, 94: 47, 95: 24, 96: 35, 97: 48, 98: 46, 99: 33, 100: 28, 101: 35, 102: 30, 103: 37, 104: 32, 105: 42, 106: 29, 107: 23, 108: 18, 109: 26, 110: 12, 111: 5, 112: 7, 113: 8, 114: 1, 115: 1, 116: 3, 117: 1, 118: 2, 119: 7, 120: 2, 122: 3, 123: 2, 124: 5, 125: 2, 126: 1, 127: 7, 128: 1, 130: 1, 132: 4, 133: 1}\n"
     ]
    }
   ],
   "source": [
    "diff_ids = dict()\n",
    "\n",
    "for dial in data['dialogue_data']:\n",
    "    for turn in dial['dialogue']:\n",
    "        for obj_id in turn['system_transcript_annotated']['act_attributes']['objects']:\n",
    "            if obj_id in diff_ids:\n",
    "                diff_ids[obj_id] += 1\n",
    "            else:\n",
    "                diff_ids[obj_id] = 1\n",
    "\n",
    "\n",
    "print(dict(sorted(diff_ids.items())))"
   ]
  },
  {
   "cell_type": "code",
   "execution_count": 39,
   "metadata": {},
   "outputs": [
    {
     "name": "stdout",
     "output_type": "stream",
     "text": [
      "{1: 1, 2: 1, 4: 2, 55: 1, 58: 1, 59: 2, 82: 3}\n"
     ]
    }
   ],
   "source": [
    "diff_ids = dict()\n",
    "\n",
    "for turn in data['dialogue_data'][0]['dialogue']:\n",
    "    for obj_id in turn['system_transcript_annotated']['act_attributes']['objects']:\n",
    "        if obj_id in diff_ids:\n",
    "            diff_ids[obj_id] += 1\n",
    "        else:\n",
    "            diff_ids[obj_id] = 1\n",
    "\n",
    "\n",
    "print(dict(sorted(diff_ids.items())))"
   ]
  },
  {
   "cell_type": "code",
   "execution_count": null,
   "metadata": {},
   "outputs": [],
   "source": []
  },
  {
   "cell_type": "markdown",
   "metadata": {},
   "source": [
    "### Scene json analysis"
   ]
  },
  {
   "cell_type": "markdown",
   "metadata": {},
   "source": []
  },
  {
   "cell_type": "code",
   "execution_count": 5,
   "metadata": {},
   "outputs": [],
   "source": [
    "with open(\"../data/simmc2_scene_jsons_dstc10_public/cloth_store_1_1_1_scene.json\", \"r\") as f:\n",
    "    scene = json.load(f)\n"
   ]
  },
  {
   "cell_type": "code",
   "execution_count": 66,
   "metadata": {},
   "outputs": [
    {
     "data": {
      "text/plain": [
       "[{'prefab_path': '1208725/Jacket_blue',\n",
       "  'unique_id': 0,\n",
       "  'index': 0,\n",
       "  'bbox': [1303, 88, 218, 153],\n",
       "  'position': [-2.866098403930664, 0.05314898490905762, 1.6969716548919678]},\n",
       " {'prefab_path': '1208725/Jacket_blue',\n",
       "  'unique_id': 0,\n",
       "  'index': 1,\n",
       "  'bbox': [1916, 21, 289, 181],\n",
       "  'position': [-1.1282265186309814, 0.05314898490905762, 2.7818620204925537]},\n",
       " {'prefab_path': 'MensCollection/Prefabs/Rearranged/polo shirt 18',\n",
       "  'unique_id': 1,\n",
       "  'index': 2,\n",
       "  'bbox': [947, 166, 139, 54],\n",
       "  'position': [-5.126088619232178, 1.8119479417800903, 2.2323215007781982]},\n",
       " {'prefab_path': 'MensCollection/Prefabs/Rearranged/jacket_3_06',\n",
       "  'unique_id': 2,\n",
       "  'index': 3,\n",
       "  'bbox': [1045, 132, 182, 39],\n",
       "  'position': [-6.755237102508545, -0.7599018812179565, 4.868677139282227]},\n",
       " {'prefab_path': 'MensCollection/Prefabs/Rearranged/jacket_2_06',\n",
       "  'unique_id': 3,\n",
       "  'index': 4,\n",
       "  'bbox': [1065, 156, 148, 20],\n",
       "  'position': [-6.0655694007873535, -2.101559638977051, -1.9722471237182617]},\n",
       " {'prefab_path': 'MensCollection/Prefabs/Rearranged/long_coat_10 1',\n",
       "  'unique_id': 4,\n",
       "  'index': 5,\n",
       "  'bbox': [1025, 131, 189, 60],\n",
       "  'position': [-3.961207866668701, 1.4082798957824707, 4.4196882247924805]},\n",
       " {'prefab_path': 'MensCollection/Prefabs/Rearranged/long_coat_10 1',\n",
       "  'unique_id': 4,\n",
       "  'index': 6,\n",
       "  'bbox': [1076, 123, 199, 43],\n",
       "  'position': [-3.6342077255249023, 1.4082798957824707, 4.422687530517578]},\n",
       " {'prefab_path': 'MensCollection/Prefabs/Rearranged/jacket_4_05',\n",
       "  'unique_id': 5,\n",
       "  'index': 7,\n",
       "  'bbox': [1129, 116, 201, 32],\n",
       "  'position': [-4.468832015991211, 2.188898801803589, -0.7671551704406738]},\n",
       " {'prefab_path': 'MensCollection/Prefabs/Rearranged/long_coat_10 1',\n",
       "  'unique_id': 4,\n",
       "  'index': 8,\n",
       "  'bbox': [1147, 110, 214, 56],\n",
       "  'position': [-3.225207805633545, 1.4082798957824707, 4.4196882247924805]},\n",
       " {'prefab_path': 'MensCollection/Prefabs/Rearranged/long_coat_06',\n",
       "  'unique_id': 6,\n",
       "  'index': 9,\n",
       "  'bbox': [1188, 103, 222, 56],\n",
       "  'position': [-2.8060922622680664, 0.6689841747283936, 3.1460695266723633]},\n",
       " {'prefab_path': 'MensCollection/Prefabs/Rearranged/polo shirt 36',\n",
       "  'unique_id': 7,\n",
       "  'index': 10,\n",
       "  'bbox': [1220, 124, 169, 40],\n",
       "  'position': [-3.4826784133911133, 1.905760407447815, 2.245088577270508]},\n",
       " {'prefab_path': '1208725/Jacket_blue',\n",
       "  'unique_id': 0,\n",
       "  'index': 11,\n",
       "  'bbox': [1248, 109, 197, 26],\n",
       "  'position': [-3.8888626098632812, 0.05314898490905762, 2.2177734375]},\n",
       " {'prefab_path': 'clothing_store/models/prefab/trousers_2',\n",
       "  'unique_id': 8,\n",
       "  'index': 12,\n",
       "  'bbox': [945, 336, 164, 58],\n",
       "  'position': [-5.106999397277832, 0.23014092445373535, 2.1661055088043213]},\n",
       " {'prefab_path': 'clothing_store/models/prefab/trousers_4',\n",
       "  'unique_id': 9,\n",
       "  'index': 13,\n",
       "  'bbox': [1039, 340, 181, 77],\n",
       "  'position': [-4.373917579650879, 0.23014092445373535, 2.2122232913970947]},\n",
       " {'prefab_path': '1514019/Rearranged/Jeans_Blue_V4',\n",
       "  'unique_id': 10,\n",
       "  'index': 14,\n",
       "  'bbox': [1171, 348, 203, 75],\n",
       "  'position': [-3.613121747970581, 0.24453043937683105, 2.2062571048736572]},\n",
       " {'prefab_path': 'clothing_store/models/prefab/trousers_4',\n",
       "  'unique_id': 9,\n",
       "  'index': 15,\n",
       "  'bbox': [1299, 352, 184, 120],\n",
       "  'position': [-2.897865056991577, 0.23014092445373535, 2.189257860183716]},\n",
       " {'prefab_path': 'clothing_store/models/prefab/trousers',\n",
       "  'unique_id': 11,\n",
       "  'index': 16,\n",
       "  'bbox': [1900, 377, 139, 197],\n",
       "  'position': [-1.1222920417785645, 0.2301410436630249, 2.24706768989563]},\n",
       " {'prefab_path': 'MensCollection/Prefabs/Rearranged/jacket_1',\n",
       "  'unique_id': 12,\n",
       "  'index': 17,\n",
       "  'bbox': [1375, 441, 80, 70],\n",
       "  'position': [-2.266435146331787, -2.1309332847595215, -1.2333738803863525]},\n",
       " {'prefab_path': '1208725/Tshirt_black',\n",
       "  'unique_id': 13,\n",
       "  'index': 18,\n",
       "  'bbox': [1428, 460, 47, 41],\n",
       "  'position': [-2.5947325229644775,\n",
       "   -0.49289125204086304,\n",
       "   -0.18958348035812378]},\n",
       " {'prefab_path': '1208725/Jacket_red',\n",
       "  'unique_id': 14,\n",
       "  'index': 19,\n",
       "  'bbox': [1513, 436, 63, 31],\n",
       "  'position': [-2.9410252571105957, 1.8819808959960938, 2.145235538482666]},\n",
       " {'prefab_path': 'MensCollection/Prefabs/Rearranged/jacket_3_06',\n",
       "  'unique_id': 2,\n",
       "  'index': 20,\n",
       "  'bbox': [1530, 401, 153, 122],\n",
       "  'position': [-5.19620418548584, -1.8049025535583496, 2.051140308380127]},\n",
       " {'prefab_path': '1208725/Jacket_red',\n",
       "  'unique_id': 14,\n",
       "  'index': 21,\n",
       "  'bbox': [1694, 447, 71, 27],\n",
       "  'position': [-1.2898681163787842, 1.8819806575775146, 2.1549997329711914]},\n",
       " {'prefab_path': 'MensCollection/Prefabs/Rearranged/jacket_4_09',\n",
       "  'unique_id': 15,\n",
       "  'index': 22,\n",
       "  'bbox': [1885, 433, 109, 117],\n",
       "  'position': [-1.9055615663528442, 0.7694786190986633, 0.1380312144756317]},\n",
       " {'prefab_path': 'MensCollection/Prefabs/Rearranged/long_coat_12',\n",
       "  'unique_id': 16,\n",
       "  'index': 23,\n",
       "  'bbox': [1982, 424, 133, 115],\n",
       "  'position': [-1.0638165473937988, -0.5723289847373962, 0.4042286276817322]},\n",
       " {'prefab_path': '870230/hoodie03',\n",
       "  'unique_id': 17,\n",
       "  'index': 24,\n",
       "  'bbox': [1691, 480, 75, 209],\n",
       "  'position': [-1.9966552257537842, 1.0199635028839111, 0.2162725329399109]},\n",
       " {'prefab_path': 'MensCollection/Prefabs/Rearranged/long_coat_10',\n",
       "  'unique_id': 18,\n",
       "  'index': 25,\n",
       "  'bbox': [1910, 447, 189, 186],\n",
       "  'position': [-2.0007622241973877, 0.8372488021850586, -0.20933988690376282]},\n",
       " {'prefab_path': 'clothing_store/models/prefab/sneakers_2',\n",
       "  'unique_id': 19,\n",
       "  'index': 26,\n",
       "  'bbox': [1178, 564, 29, 22],\n",
       "  'position': [-3.576437473297119, 0.03797276318073273, 2.1606364250183105]},\n",
       " {'prefab_path': 'MensCollection/Prefabs/Rearranged/long_coat_12',\n",
       "  'unique_id': 16,\n",
       "  'index': 27,\n",
       "  'bbox': [1198, 403, 385, 507],\n",
       "  'position': [-1.9855897426605225, -0.5723292231559753, 0.6882750988006592]},\n",
       " {'prefab_path': 'MensCollection/Prefabs/Rearranged/jacket_2_03',\n",
       "  'unique_id': 20,\n",
       "  'index': 28,\n",
       "  'bbox': [1612, 485, 155, 77],\n",
       "  'position': [-0.07216310501098633, -2.349472999572754, 1.1521568298339844]},\n",
       " {'prefab_path': '870230/hoodie03',\n",
       "  'unique_id': 17,\n",
       "  'index': 29,\n",
       "  'bbox': [1684, 548, 240, 291],\n",
       "  'position': [-2.0913333892822266, 1.0199635028839111, -0.23972150683403015]}]"
      ]
     },
     "execution_count": 66,
     "metadata": {},
     "output_type": "execute_result"
    }
   ],
   "source": [
    "scene['scenes'][0]['objects']"
   ]
  },
  {
   "cell_type": "code",
   "execution_count": null,
   "metadata": {},
   "outputs": [],
   "source": []
  }
 ],
 "metadata": {
  "interpreter": {
   "hash": "b67ed9e9af8edfed5c6ad12438b07039e5eeda5b93411503796bc35acfdbeaa1"
  },
  "kernelspec": {
   "display_name": "Python 3.9.0 ('venv': venv)",
   "language": "python",
   "name": "python3"
  },
  "language_info": {
   "codemirror_mode": {
    "name": "ipython",
    "version": 3
   },
   "file_extension": ".py",
   "mimetype": "text/x-python",
   "name": "python",
   "nbconvert_exporter": "python",
   "pygments_lexer": "ipython3",
   "version": "3.9.0"
  },
  "orig_nbformat": 4
 },
 "nbformat": 4,
 "nbformat_minor": 2
}
