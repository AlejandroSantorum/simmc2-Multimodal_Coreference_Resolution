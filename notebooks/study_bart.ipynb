{
 "cells": [
  {
   "cell_type": "code",
   "execution_count": 3,
   "metadata": {},
   "outputs": [],
   "source": [
    "import json, re, ast"
   ]
  },
  {
   "cell_type": "code",
   "execution_count": 9,
   "metadata": {},
   "outputs": [
    {
     "data": {
      "text/plain": [
       "345"
      ]
     },
     "execution_count": 9,
     "metadata": {},
     "output_type": "execute_result"
    }
   ],
   "source": [
    "FASHION_METAFILE=\"../data/fashion_prefab_metadata_all.json\"\n",
    "FURNITURE_METAFILE=\"../data/furniture_prefab_metadata_all.json\"\n",
    "\n",
    "with open(FASHION_METAFILE) as f:\n",
    "    fash_meta = json.load(f)\n",
    "\n",
    "with open(FURNITURE_METAFILE) as f:\n",
    "    fur_meta = json.load(f)\n",
    "\n",
    "len(fash_meta) + len(fur_meta)"
   ]
  },
  {
   "cell_type": "code",
   "execution_count": 58,
   "metadata": {},
   "outputs": [
    {
     "name": "stdout",
     "output_type": "stream",
     "text": [
      "116\n",
      "WomensCollection/Prefabs/Rearranged/leather_jacket_1\n",
      "Coats & More\n",
      "212 Local\n"
     ]
    }
   ],
   "source": [
    "name2id_fash = dict()\n",
    "for id, name in enumerate(fash_meta):\n",
    "    name2id_fash[name] = id\n",
    "\n",
    "name2id_fur = dict()\n",
    "for id, name in enumerate(fur_meta):\n",
    "    name2id_fur[name] = id\n",
    "\n",
    "id2name_fash = dict()\n",
    "for id, name in enumerate(fash_meta):\n",
    "    id2name_fash[id] = name\n",
    "\n",
    "id2name_fur = dict()\n",
    "for id, name in enumerate(fur_meta):\n",
    "    id2name_fur[id] = name\n",
    "\n",
    "print(name2id_fash['WomensCollection/Prefabs/Rearranged/leather_jacket_1'])\n",
    "print(id2name_fash[116])\n",
    "print(fash_meta[id2name_fash[116]]['brand'])\n",
    "print(fur_meta[id2name_fur[16]]['brand'])"
   ]
  },
  {
   "cell_type": "code",
   "execution_count": null,
   "metadata": {},
   "outputs": [],
   "source": []
  },
  {
   "cell_type": "code",
   "execution_count": 59,
   "metadata": {},
   "outputs": [],
   "source": [
    "def insert_attributes(line):\n",
    "    pos = 0\n",
    "    idx = line.find(\"<@\", pos)\n",
    "    while idx != -1:\n",
    "        # get absolute object ID\n",
    "        abs_id = line[idx+2:idx+6]\n",
    "        # get object type\n",
    "        meta = abs_id[0]\n",
    "        abs_id = int(abs_id[1:])\n",
    "        obj_type = fash_meta[id2name_fash[abs_id]]['brand'] if meta=='1' else fur_meta[id2name_fur[abs_id]]['brand']\n",
    "        # append object type to line\n",
    "        line = line[:idx+7] + obj_type + line[idx+7:]\n",
    "        # update pos and idx\n",
    "        pos = idx+4\n",
    "        idx = line.find(\"<@\", pos)\n",
    "    return line"
   ]
  },
  {
   "cell_type": "code",
   "execution_count": 60,
   "metadata": {},
   "outputs": [
    {
     "name": "stdout",
     "output_type": "stream",
     "text": [
      "Line before insertion: User : Hi, do you have any jackets today? <SOO><NOCOREF><OBJ><59><@1116><OBJ><80><@1127><OBJ><55><@1050><OBJ><67><@1132><OBJ><68><@1227><OBJ><70><@1235><OBJ><82><@1052><OBJ><79><@1283><OBJ><69><@1225><OBJ><72><@1137><OBJ><71><@1233><OBJ><73><@1109><OBJ><61><@1013><OBJ><62><@1015><OBJ><63><@1015><OBJ><58><@1018><OBJ><74><@1283><OBJ><75><@1166><OBJ><64><@1053><OBJ><76><@1067><EOO> => Belief State : \n",
      "Line after insertion: User : Hi, do you have any jackets today? <SOO><NOCOREF><OBJ><59><@1116>Coats & More<OBJ><80><@1127>The Vegan Baker<OBJ><55><@1050>Global Voyager<OBJ><67><@1132>Pedals & Gears<OBJ><68><@1227>212 Local<OBJ><70><@1235>The Vegan Baker<OBJ><82><@1052>Pedals & Gears<OBJ><79><@1283>Uptown Gallery<OBJ><69><@1225>Uptown Gallery<OBJ><72><@1137>HairDo<OBJ><71><@1233>Downtown Consignment<OBJ><73><@1109>Cats Are Great<OBJ><61><@1013>Downtown Consignment<OBJ><62><@1015>Modern Arts<OBJ><63><@1015>Modern Arts<OBJ><58><@1018>Yogi Fit<OBJ><74><@1283>Uptown Gallery<OBJ><75><@1166>New Fashion<OBJ><64><@1053>River Chateau<OBJ><76><@1067>Global Voyager<EOO> => Belief State : \n"
     ]
    }
   ],
   "source": [
    "with open(\"../models/bart_coref/data_object_special/simmc2_dials_dstc10_train_predict.txt\", encoding=\"utf-8\") as f:\n",
    "    for line in f.read().splitlines():\n",
    "        if (len(line) > 0 and not line.isspace()):\n",
    "            line_boxes = [ast.literal_eval(position.replace('(', '').replace(')', '')) for position in re.findall(r\"\\[\\([^\\)]+\\)\\]\", line)]\n",
    "            line = re.sub(r\"\\[\\([^\\)]*\\)\\]\", \"\", line)\n",
    "            l = insert_attributes(line)\n",
    "            print(\"Line before insertion:\", line)\n",
    "            print(\"Line after insertion:\", l)\n",
    "            break"
   ]
  },
  {
   "cell_type": "code",
   "execution_count": null,
   "metadata": {},
   "outputs": [],
   "source": []
  }
 ],
 "metadata": {
  "interpreter": {
   "hash": "b67ed9e9af8edfed5c6ad12438b07039e5eeda5b93411503796bc35acfdbeaa1"
  },
  "kernelspec": {
   "display_name": "Python 3.9.0 ('venv': venv)",
   "language": "python",
   "name": "python3"
  },
  "language_info": {
   "codemirror_mode": {
    "name": "ipython",
    "version": 3
   },
   "file_extension": ".py",
   "mimetype": "text/x-python",
   "name": "python",
   "nbconvert_exporter": "python",
   "pygments_lexer": "ipython3",
   "version": "3.9.0"
  },
  "orig_nbformat": 4
 },
 "nbformat": 4,
 "nbformat_minor": 2
}
