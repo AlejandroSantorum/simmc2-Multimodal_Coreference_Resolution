{
 "cells": [
  {
   "cell_type": "code",
   "execution_count": 4,
   "metadata": {},
   "outputs": [],
   "source": [
    "import json\n",
    "from utils.dataset import make_loader"
   ]
  },
  {
   "cell_type": "markdown",
   "metadata": {},
   "source": [
    "## 1.0 Dataset"
   ]
  },
  {
   "cell_type": "markdown",
   "metadata": {},
   "source": [
    "### 1.1 Train set"
   ]
  },
  {
   "cell_type": "code",
   "execution_count": 5,
   "metadata": {},
   "outputs": [],
   "source": [
    "with open('./processed/train.json', 'r', encoding='utf-8') as f:\n",
    "    data = json.load(f)"
   ]
  },
  {
   "cell_type": "code",
   "execution_count": 34,
   "metadata": {},
   "outputs": [
    {
     "data": {
      "text/plain": [
       "dict_keys(['dial', 'objects', 'reference_mask', 'reference_idx', 'candidate_ids', 'candidate_pos', 'candidate_bbox', 'candidate_relations', 'scene_seg', 'KB_ids', 'scenes', 'domain', 'dial_idx', 'round_idx', 'candidate_mentioned'])"
      ]
     },
     "execution_count": 34,
     "metadata": {},
     "output_type": "execute_result"
    }
   ],
   "source": [
    "data[2].keys()"
   ]
  },
  {
   "cell_type": "code",
   "execution_count": 59,
   "metadata": {},
   "outputs": [
    {
     "name": "stdout",
     "output_type": "stream",
     "text": [
      "0: User : Hi, do you have any jackets today? \n",
      "\n",
      "1: User : Hi, do you have any jackets today? System : I do, over at the back right there are a couple of black ones hanging on the wall in the bottom row.  There's also a brown jacket hanging up high to the right. System mentions : 82 and 58 and 59 User : Can you compare the brown one and the black one that's second from the left? \n",
      "\n",
      "2: User : Hi, do you have any jackets today? System : I do, over at the back right there are a couple of black ones hanging on the wall in the bottom row.  There's also a brown jacket hanging up high to the right. System mentions : 82 and 58 and 59 User : Can you compare the brown one and the black one that's second from the left? System : Yes, the brown one costs $199.99 and the black one costs $44.99. System mentions : 59 and 82 User : Are there any more jackets? \n",
      "\n",
      "3: User : Hi, do you have any jackets today? System : I do, over at the back right there are a couple of black ones hanging on the wall in the bottom row.  There's also a brown jacket hanging up high to the right. System mentions : 82 and 58 and 59 User : Can you compare the brown one and the black one that's second from the left? System : Yes, the brown one costs $199.99 and the black one costs $44.99. System mentions : 59 and 82 User : Are there any more jackets? System : There's one more, it's brown and at the top left of the back wall. System mentions : 55 User : Do you have anything like that one in terms of reviews but at a cheap price? \n",
      "\n",
      "4: User : Can you compare the brown one and the black one that's second from the left? System : Yes, the brown one costs $199.99 and the black one costs $44.99. System mentions : 59 and 82 User : Are there any more jackets? System : There's one more, it's brown and at the top left of the back wall. System mentions : 55 User : Do you have anything like that one in terms of reviews but at a cheap price? System : The black one in the middle of the bottom row is cheap. System mentions : 82 User : Do you have anything else to recommend? \n",
      "\n"
     ]
    }
   ],
   "source": [
    "print('0:', data[0]['dial'], '\\n')\n",
    "print('1:', data[1]['dial'], '\\n')\n",
    "print('2:', data[2]['dial'], '\\n')\n",
    "print('3:', data[3]['dial'], '\\n')\n",
    "print('4:', data[4]['dial'], '\\n')"
   ]
  },
  {
   "cell_type": "code",
   "execution_count": 57,
   "metadata": {},
   "outputs": [
    {
     "name": "stdout",
     "output_type": "stream",
     "text": [
      "12304 12304 10540\n"
     ]
    }
   ],
   "source": [
    "print(data[6]['dial_idx'], data[7]['dial_idx'], data[8]['dial_idx'])"
   ]
  },
  {
   "cell_type": "code",
   "execution_count": 54,
   "metadata": {},
   "outputs": [],
   "source": [
    "for i in range(0, 7):\n",
    "    if data[i]['candidate_ids'].sort() != data[i+1]['candidate_ids'].sort():\n",
    "        print(\"Different!\")"
   ]
  },
  {
   "cell_type": "markdown",
   "metadata": {},
   "source": [
    "### 1.2 Dev set"
   ]
  },
  {
   "cell_type": "code",
   "execution_count": 103,
   "metadata": {},
   "outputs": [],
   "source": [
    "with open('./processed/dev.json', 'r', encoding='utf-8') as f:\n",
    "    data = json.load(f)"
   ]
  },
  {
   "cell_type": "code",
   "execution_count": 104,
   "metadata": {},
   "outputs": [
    {
     "data": {
      "text/plain": [
       "dict_keys(['dial', 'objects', 'reference_mask', 'reference_idx', 'candidate_ids', 'candidate_pos', 'candidate_bbox', 'candidate_relations', 'scene_seg', 'KB_ids', 'scenes', 'domain', 'dial_idx', 'round_idx', 'candidate_mentioned'])"
      ]
     },
     "execution_count": 104,
     "metadata": {},
     "output_type": "execute_result"
    }
   ],
   "source": [
    "data[1].keys()"
   ]
  },
  {
   "cell_type": "code",
   "execution_count": 105,
   "metadata": {},
   "outputs": [
    {
     "name": "stdout",
     "output_type": "stream",
     "text": [
      "0: User : Do you have any shirts with good reviews? \n",
      "\n",
      "1: User : Do you have any shirts with good reviews? System : There are three shirts on the display table: a blue and white, a brown, and a grey and brown. System mentions : 37 and 40 and 12 User : Do you have anything with a similar size as the brown shirt and the grey and brown? \n",
      "\n",
      "2: User : Do you have any shirts with good reviews? System : There are three shirts on the display table: a blue and white, a brown, and a grey and brown. System mentions : 37 and 40 and 12 User : Do you have anything with a similar size as the brown shirt and the grey and brown? System : I have that grey and brown shirt, as well as the blue and white one on the table and the grey and black on the wall. System mentions : 33 and 37 and 12 User : Do you have the cost and size of the blue and white shirt and the grey and black? \n",
      "\n",
      "3: User : Do you have any shirts with good reviews? System : There are three shirts on the display table: a blue and white, a brown, and a grey and brown. System mentions : 37 and 40 and 12 User : Do you have anything with a similar size as the brown shirt and the grey and brown? System : I have that grey and brown shirt, as well as the blue and white one on the table and the grey and black on the wall. System mentions : 33 and 37 and 12 User : Do you have the cost and size of the blue and white shirt and the grey and black? System : The former is an XXL costing 24.99. The latter is a S running 74.99. System mentions : 37 and 33 User : I'll take them both. \n",
      "\n",
      "4: User : Do you have anything with a similar size as the brown shirt and the grey and brown? System : I have that grey and brown shirt, as well as the blue and white one on the table and the grey and black on the wall. System mentions : 33 and 37 and 12 User : Do you have the cost and size of the blue and white shirt and the grey and black? System : The former is an XXL costing 24.99. The latter is a S running 74.99. System mentions : 37 and 33 User : I'll take them both. System : Of course. I'll add them both now. System mentions : 33 and 37 User : Can I get two of the blue and white shirt? \n",
      "\n"
     ]
    }
   ],
   "source": [
    "print('0:', data[0]['dial'], '\\n')\n",
    "print('1:', data[1]['dial'], '\\n')\n",
    "print('2:', data[2]['dial'], '\\n')\n",
    "print('3:', data[3]['dial'], '\\n')\n",
    "print('4:', data[4]['dial'], '\\n')"
   ]
  },
  {
   "cell_type": "code",
   "execution_count": 106,
   "metadata": {},
   "outputs": [
    {
     "name": "stdout",
     "output_type": "stream",
     "text": [
      "10507 10507 10543\n"
     ]
    }
   ],
   "source": [
    "print(data[5]['dial_idx'], data[6]['dial_idx'], data[7]['dial_idx'])"
   ]
  },
  {
   "cell_type": "code",
   "execution_count": 110,
   "metadata": {},
   "outputs": [
    {
     "name": "stdout",
     "output_type": "stream",
     "text": [
      "Candidate ids: [0, 33, 7, 34, 35, 36, 37, 38, 39, 12, 40, 11, 41, 13, 42, 43, 15, 16, 17, 19, 18, 20, 21, 22, 88, 90, 98, 99, 89, 100, 101, 102, 23, 25, 26, 27, 28, 93, 91, 92, 29, 30, 94, 95, 97, 103] Length: 46\n",
      "Candidate kb_ids: [2, 203, 161, 232, 75, 84, 18, 265, 174, 22, 13, 38, 221, 38, 233, 284, 238, 19, 119, 92, 10, 241, 264, 217, 2, 15, 222, 19, 187, 1, 3, 211, 116, 185, 16, 185, 14, 16, 16, 185, 71, 178, 269, 222, 227, 254] Length: 46\n",
      "Candidate mentions: [0, 0, 0, 0, 0, 0, 1, 0, 0, 1, 1, 0, 0, 0, 0, 0, 0, 0, 0, 0, 0, 0, 0, 0, 0, 0, 0, 0, 0, 0, 0, 0, 0, 0, 0, 0, 0, 0, 0, 0, 0, 0, 0, 0, 0, 0]\n"
     ]
    }
   ],
   "source": [
    "print('Candidate ids:', data[2]['candidate_ids'], 'Length:', len(data[2]['candidate_ids']))\n",
    "print('Candidate kb_ids:', data[2]['KB_ids'], 'Length:', len(data[2]['KB_ids']))\n",
    "print('Candidate mentions:', data[1]['candidate_mentioned'])"
   ]
  },
  {
   "cell_type": "code",
   "execution_count": 111,
   "metadata": {},
   "outputs": [
    {
     "name": "stdout",
     "output_type": "stream",
     "text": [
      "Different mentions!\n",
      "Different mentions!\n",
      "Different mentions!\n",
      "Different mentions!\n",
      "Different mentions!\n"
     ]
    }
   ],
   "source": [
    "for i in range(0, 6):\n",
    "    if sorted(data[i]['candidate_ids']) != sorted(data[i+1]['candidate_ids']):\n",
    "        print(\"Different ids!\")\n",
    "    if sorted(data[i]['candidate_pos']) != sorted(data[i+1]['candidate_pos']):\n",
    "        print(\"Different pos!\")\n",
    "    if sorted(data[i]['candidate_bbox']) != sorted(data[i+1]['candidate_bbox']):\n",
    "        print(\"Different bbox!\")\n",
    "    if sorted(data[i]['KB_ids']) != sorted(data[i+1]['KB_ids']):\n",
    "        print(\"Different kb_ids!\")\n",
    "    if data[i]['candidate_mentioned'] != data[i+1]['candidate_mentioned']:\n",
    "        print(\"Different mentions!\")"
   ]
  },
  {
   "cell_type": "code",
   "execution_count": null,
   "metadata": {},
   "outputs": [],
   "source": []
  },
  {
   "cell_type": "markdown",
   "metadata": {},
   "source": [
    "## Training"
   ]
  },
  {
   "cell_type": "code",
   "execution_count": 112,
   "metadata": {},
   "outputs": [],
   "source": [
    "BATCH_SIZE = 16\n",
    "train_loader = make_loader('train', BATCH_SIZE, more_roi=False)"
   ]
  },
  {
   "cell_type": "code",
   "execution_count": null,
   "metadata": {},
   "outputs": [],
   "source": []
  }
 ],
 "metadata": {
  "interpreter": {
   "hash": "b67ed9e9af8edfed5c6ad12438b07039e5eeda5b93411503796bc35acfdbeaa1"
  },
  "kernelspec": {
   "display_name": "Python 3.9.0 ('venv': venv)",
   "language": "python",
   "name": "python3"
  },
  "language_info": {
   "codemirror_mode": {
    "name": "ipython",
    "version": 3
   },
   "file_extension": ".py",
   "mimetype": "text/x-python",
   "name": "python",
   "nbconvert_exporter": "python",
   "pygments_lexer": "ipython3",
   "version": "3.9.0"
  },
  "orig_nbformat": 4
 },
 "nbformat": 4,
 "nbformat_minor": 2
}
