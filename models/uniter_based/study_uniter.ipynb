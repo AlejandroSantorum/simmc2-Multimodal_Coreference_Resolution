{
 "cells": [
  {
   "cell_type": "code",
   "execution_count": 1,
   "metadata": {},
   "outputs": [],
   "source": [
    "import json\n",
    "import torch"
   ]
  },
  {
   "cell_type": "markdown",
   "metadata": {},
   "source": [
    "## 1.0 Dataset"
   ]
  },
  {
   "cell_type": "code",
   "execution_count": 2,
   "metadata": {},
   "outputs": [],
   "source": [
    "with open('./processed/train.json', 'r', encoding='utf-8') as f:\n",
    "    train_data = json.load(f)\n",
    "\n",
    "with open('./processed/dev.json', 'r', encoding='utf-8') as f:\n",
    "    dev_data = json.load(f)\n",
    "\n",
    "with open('./processed/devtest.json', 'r', encoding='utf-8') as f:\n",
    "    devtest_data = json.load(f)"
   ]
  },
  {
   "cell_type": "code",
   "execution_count": 7,
   "metadata": {},
   "outputs": [
    {
     "name": "stdout",
     "output_type": "stream",
     "text": [
      "Number of dialogs in fashion domain: 6385\n",
      "Number of dialogs in furniture domain 3155\n"
     ]
    }
   ],
   "source": [
    "fash_dials_ids = []\n",
    "furn_dials_ids = []\n",
    "\n",
    "for line in train_data:\n",
    "    if line['domain'] == 'fashion':\n",
    "        if line['dial_idx'] not in fash_dials_ids:\n",
    "            fash_dials_ids.append(line['dial_idx'])\n",
    "    else:\n",
    "        if line['dial_idx'] not in furn_dials_ids:\n",
    "            furn_dials_ids.append(line['dial_idx'])\n",
    "\n",
    "for line in dev_data:\n",
    "    if line['domain'] == 'fashion':\n",
    "        if line['dial_idx'] not in fash_dials_ids:\n",
    "            fash_dials_ids.append(line['dial_idx'])\n",
    "    else:\n",
    "        if line['dial_idx'] not in furn_dials_ids:\n",
    "            furn_dials_ids.append(line['dial_idx'])\n",
    "\n",
    "for line in devtest_data:\n",
    "    if line['domain'] == 'fashion':\n",
    "        if line['dial_idx'] not in fash_dials_ids:\n",
    "            fash_dials_ids.append(line['dial_idx'])\n",
    "    else:\n",
    "        if line['dial_idx'] not in furn_dials_ids:\n",
    "            furn_dials_ids.append(line['dial_idx'])\n",
    "\n",
    "print(\"Number of dialogs in fashion domain:\", len(fash_dials_ids))\n",
    "print(\"Number of dialogs in furniture domain\", len(furn_dials_ids))"
   ]
  },
  {
   "cell_type": "code",
   "execution_count": 20,
   "metadata": {},
   "outputs": [
    {
     "name": "stdout",
     "output_type": "stream",
     "text": [
      "Mean objs per scene within fashion: 34.587478559176674 +- 21.916584750465248\n",
      "Mean objs per scene within furniture: 12.880952380952381 +- 2.7097916011276495\n"
     ]
    }
   ],
   "source": [
    "import os\n",
    "import numpy as np\n",
    "\n",
    "fash_n_objs_list = []\n",
    "furn_n_objs_list = []\n",
    "for file in os.listdir(\"./data/jsons\"):\n",
    "    if file.endswith(\"bbox.json\"):\n",
    "        file_path = os.path.join(\"./data/jsons\", file)\n",
    "        with open(file_path, 'r') as f:\n",
    "            data = json.load(f)\n",
    "\n",
    "        if file.startswith(\"wayfair\"): # furniture domain\n",
    "            furn_n_objs_list.append(len(data['Items']))\n",
    "        else: # fashion domain\n",
    "            fash_n_objs_list.append(len(data['Items']))\n",
    "\n",
    "print(\"Mean objs per scene within fashion:\", np.mean(fash_n_objs_list), '+-', np.std(fash_n_objs_list))\n",
    "print(\"Mean objs per scene within furniture:\", np.mean(furn_n_objs_list), '+-', np.std(furn_n_objs_list))"
   ]
  },
  {
   "cell_type": "code",
   "execution_count": 25,
   "metadata": {},
   "outputs": [
    {
     "data": {
      "image/png": "[encoded data removed]",
      "text/plain": [
       "<Figure size 600x400 with 1 Axes>"
      ]
     },
     "metadata": {},
     "output_type": "display_data"
    }
   ],
   "source": [
    "import numpy as np\n",
    "import matplotlib.pyplot as plt\n",
    "import matplotlib as mpl\n",
    "mpl.rcParams['figure.dpi'] = 100 # iamge resolution\n",
    "import seaborn as sns\n",
    "sns.set_theme()\n",
    "\n",
    "means = [np.mean(fash_n_objs_list), np.mean(furn_n_objs_list)]\n",
    "stds = [np.std(fash_n_objs_list), np.std(furn_n_objs_list)]\n",
    "names = ['fashion', 'furniture']\n",
    "x_pos = np.arange(len(names))\n",
    "\n",
    "fig, ax = plt.subplots()\n",
    "ax.bar(x_pos, means, yerr=stds, alpha=0.9)\n",
    "ax.set_xticks(x_pos)\n",
    "ax.set_xticklabels(names)\n",
    "ax.set_ylabel('Average no. objects per scene', weight='bold')\n",
    "ax.set_xlabel('Domain', weight='bold')\n",
    "ax.set_title('Average no. objects per scene within each domain', weight='bold')\n",
    "\n",
    "plt.show()"
   ]
  },
  {
   "cell_type": "code",
   "execution_count": null,
   "metadata": {},
   "outputs": [],
   "source": []
  },
  {
   "cell_type": "code",
   "execution_count": null,
   "metadata": {},
   "outputs": [],
   "source": []
  },
  {
   "cell_type": "markdown",
   "metadata": {},
   "source": [
    "## 2.0 Scene-independent? Seen and unseen scenes/objects"
   ]
  },
  {
   "cell_type": "code",
   "execution_count": 34,
   "metadata": {},
   "outputs": [],
   "source": [
    "import json\n",
    "import torch"
   ]
  },
  {
   "cell_type": "code",
   "execution_count": 3,
   "metadata": {},
   "outputs": [
    {
     "name": "stdout",
     "output_type": "stream",
     "text": [
      "33801\n",
      "3080\n",
      "7669\n"
     ]
    }
   ],
   "source": [
    "with open('./processed/train.json', 'r', encoding='utf-8') as f:\n",
    "    train_data = json.load(f)\n",
    "\n",
    "with open('./processed/dev.json', 'r', encoding='utf-8') as f:\n",
    "    dev_data = json.load(f)\n",
    "\n",
    "with open('./processed/devtest.json', 'r', encoding='utf-8') as f:\n",
    "    devtest_data = json.load(f)\n",
    "\n",
    "print(len(train_data))\n",
    "print(len(dev_data))\n",
    "print(len(devtest_data))"
   ]
  },
  {
   "cell_type": "code",
   "execution_count": 5,
   "metadata": {},
   "outputs": [
    {
     "name": "stdout",
     "output_type": "stream",
     "text": [
      "33801 24315 9486\n",
      "3080 3080 0\n",
      "7669 5813 1856\n",
      "44550\n",
      "33208\n",
      "11342\n"
     ]
    }
   ],
   "source": [
    "def calc_stats(data):\n",
    "    n_total = 0\n",
    "    n_fash = 0\n",
    "    n_furn = 0\n",
    "\n",
    "    for line in data:\n",
    "        n_total += 1\n",
    "        if line['domain'] == 'fashion':\n",
    "            n_fash += 1\n",
    "        else:\n",
    "            n_furn += 1\n",
    "        \n",
    "    return n_total, n_fash, n_furn\n",
    "\n",
    "n_total_train, n_fash_train, n_furn_train = calc_stats(train_data)\n",
    "n_total_dev, n_fash_dev, n_furn_dev = calc_stats(dev_data)\n",
    "n_total_devtest, n_fash_devtest, n_furn_devtest = calc_stats(devtest_data)\n",
    "\n",
    "print(n_total_train, n_fash_train, n_furn_train)\n",
    "print(n_total_dev, n_fash_dev, n_furn_dev)\n",
    "print(n_total_devtest, n_fash_devtest, n_furn_devtest)\n",
    "print(n_total_train + n_total_dev + n_total_devtest)\n",
    "print(n_fash_train + n_fash_dev + n_fash_devtest)\n",
    "print(n_furn_train + n_furn_dev + n_furn_devtest)"
   ]
  },
  {
   "cell_type": "code",
   "execution_count": 9,
   "metadata": {},
   "outputs": [
    {
     "name": "stdout",
     "output_type": "stream",
     "text": [
      "1124\n",
      "263\n"
     ]
    }
   ],
   "source": [
    "all_train_scenes = set()\n",
    "for line in train_data:\n",
    "    all_train_scenes.update(line['scenes'])\n",
    "print(len(all_train_scenes))\n",
    "\n",
    "all_devtest_scenes = set()\n",
    "for line in devtest_data:\n",
    "    all_devtest_scenes.update(line['scenes'])\n",
    "print(len(all_devtest_scenes))"
   ]
  },
  {
   "cell_type": "code",
   "execution_count": 12,
   "metadata": {},
   "outputs": [
    {
     "name": "stdout",
     "output_type": "stream",
     "text": [
      "Number of devtest scenes: 263\n",
      "Number of unseen scenes: 263\n"
     ]
    }
   ],
   "source": [
    "n_unseen_scenes = 0\n",
    "for scene in all_devtest_scenes:\n",
    "    if scene not in all_train_scenes:\n",
    "        n_unseen_scenes += 1\n",
    "print('Number of devtest scenes:', len(all_devtest_scenes))\n",
    "print('Number of unseen scenes:', n_unseen_scenes)"
   ]
  },
  {
   "cell_type": "code",
   "execution_count": 64,
   "metadata": {},
   "outputs": [
    {
     "name": "stdout",
     "output_type": "stream",
     "text": [
      "Max number of scenes in a training dialog: 2\n",
      "Max number of scenes in a devtest dialog: 2\n"
     ]
    }
   ],
   "source": [
    "# Checking the maximum number of scenes per dialog\n",
    "\n",
    "max_scenes = 0\n",
    "for line in train_data:\n",
    "    if len(line['scenes']) > max_scenes:\n",
    "        max_scenes = len(line['scenes'])\n",
    "print(\"Max number of scenes in a training dialog:\", max_scenes)\n",
    "\n",
    "max_scenes = 0\n",
    "for line in devtest_data:\n",
    "    if len(line['scenes']) > max_scenes:\n",
    "        max_scenes = len(line['scenes'])\n",
    "print(\"Max number of scenes in a devtest dialog:\", max_scenes)"
   ]
  },
  {
   "cell_type": "code",
   "execution_count": null,
   "metadata": {},
   "outputs": [],
   "source": []
  },
  {
   "cell_type": "markdown",
   "metadata": {},
   "source": [
    "It seems like there are no seen scenes in the devtest, or atleast, with the same name. Things to do or experiment now:\n",
    "- How the scenes are named? Look for name patterns?\n",
    "    - Domain + store + setting + photo ID, for example 'cloth_store_1416238_woman_10_5' would be domain='cloth_store', store='1416238_woman', setting='10' and photoID='5'. Another example would be 'cloth_store_1_2_3' where domain='cloth_store', store='1', setting='2' and photoID='3'.\n",
    "- Are the different scenes generated just by changing the camera position?\n",
    "    - Not just the camera position, the items of the store are also changed.\n",
    "- Could we elaborate a train/devtest sets that have dis-joint objects?\n",
    "- Train on clothing test on furniture?\n",
    "- Train whole UNITER model (unfreeze weights) -> currently training, I believe we can initialize all the weights by changing the parameter 'from_scratch' in './Trasnformers_VQA_master/param.py'"
   ]
  },
  {
   "cell_type": "code",
   "execution_count": null,
   "metadata": {},
   "outputs": [],
   "source": []
  },
  {
   "cell_type": "markdown",
   "metadata": {},
   "source": [
    "### 2.1 Fashion vs Furniture"
   ]
  },
  {
   "cell_type": "code",
   "execution_count": 65,
   "metadata": {},
   "outputs": [
    {
     "name": "stdout",
     "output_type": "stream",
     "text": [
      "Number of clothing shop scenes in train: 1089\n",
      "Number of furniture shop scenes in train: 35\n",
      "1124 1124\n"
     ]
    }
   ],
   "source": [
    "n_fash = 0\n",
    "for scene in all_train_scenes:\n",
    "    if scene.find('cloth_store') != -1:\n",
    "        n_fash += 1\n",
    "print(\"Number of clothing shop scenes in train:\", n_fash)\n",
    "\n",
    "n_furn = 0\n",
    "for scene in all_train_scenes:\n",
    "    if scene.find('wayfair_store') != -1:\n",
    "        n_furn += 1\n",
    "print(\"Number of furniture shop scenes in train:\", n_furn)\n",
    "\n",
    "print(n_fash+n_furn, len(all_train_scenes))"
   ]
  },
  {
   "cell_type": "code",
   "execution_count": 66,
   "metadata": {},
   "outputs": [
    {
     "name": "stdout",
     "output_type": "stream",
     "text": [
      "Number of clothing shop scenes in devtest: 256\n",
      "Number of furniture shop scenes in devtest: 7\n",
      "263 263\n"
     ]
    }
   ],
   "source": [
    "n_fash = 0\n",
    "for scene in all_devtest_scenes:\n",
    "    if scene.find('cloth_store') != -1:\n",
    "        n_fash += 1\n",
    "print(\"Number of clothing shop scenes in devtest:\", n_fash)\n",
    "\n",
    "n_furn = 0\n",
    "for scene in all_devtest_scenes:\n",
    "    if scene.find('wayfair_store') != -1:\n",
    "        n_furn += 1\n",
    "print(\"Number of furniture shop scenes in devtest:\", n_furn)\n",
    "\n",
    "print(n_fash+n_furn, len(all_devtest_scenes))"
   ]
  },
  {
   "cell_type": "code",
   "execution_count": 37,
   "metadata": {},
   "outputs": [],
   "source": [
    "# CODE TO KNOW IF THERE ARE ANY DOMAIN COLLISIONS IN THE LIST OF SCENES OF A DIALOGUE\n",
    "def domain_scene_coll(scenes):\n",
    "    fash = False\n",
    "    if scenes[0].find('cloth_store') != -1:\n",
    "        fash = True\n",
    "    \n",
    "    for scene in scenes:\n",
    "        if scene.find('wayfair') == -1 and not fash:\n",
    "            return True\n",
    "        if scene.find('wayfair') != -1 and fash:\n",
    "            return True\n",
    "    return False\n",
    "\n",
    "\n",
    "for line in train_data:\n",
    "    if domain_scene_coll(line['scenes']):\n",
    "        print(line['scenes'])\n",
    "\n",
    "for line in devtest_data:\n",
    "    if domain_scene_coll(line['scenes']):\n",
    "        print(line['scenes'])"
   ]
  },
  {
   "cell_type": "code",
   "execution_count": 50,
   "metadata": {},
   "outputs": [],
   "source": [
    "# THERE ARE NO DIALOGUES IN THE FURNITURE DOMAIN WITH MORE THAN 1 SCENE\n",
    "for line in train_data:\n",
    "    if line['domain'] == 'furniture' and len(line['scenes'])>1:\n",
    "        print(line['scenes'])"
   ]
  },
  {
   "cell_type": "code",
   "execution_count": 51,
   "metadata": {},
   "outputs": [],
   "source": [
    "fashion_train = []\n",
    "furniture_test = []\n",
    "\n",
    "for line in train_data:\n",
    "    if line['domain'] == 'fashion':\n",
    "        fashion_train.append(line)\n",
    "    elif line['domain'] == 'furniture':\n",
    "        furniture_test.append(line)\n",
    "    else:\n",
    "        print(line['domain'])\n",
    "\n",
    "for line in devtest_data:\n",
    "    if line['domain'] == 'fashion':\n",
    "        fashion_train.append(line)\n",
    "    elif line['domain'] == 'furniture':\n",
    "        furniture_test.append(line)\n",
    "    else:\n",
    "        print(line['domain'])\n",
    "\n",
    "with open('./processed/train_on_just_fashion.json', 'w') as f:\n",
    "    json.dump(fashion_train, f)\n",
    "\n",
    "with open('./processed/test_on_just_furniture.json', 'w') as f:\n",
    "    json.dump(furniture_test, f)"
   ]
  },
  {
   "cell_type": "code",
   "execution_count": 53,
   "metadata": {},
   "outputs": [
    {
     "name": "stdout",
     "output_type": "stream",
     "text": [
      "30128 11342\n",
      "41470\n",
      "33801 7669\n",
      "41470\n"
     ]
    }
   ],
   "source": [
    "with open('./processed/train_on_just_fashion.json', 'r') as f:\n",
    "    test_fashion_train = json.load(f)\n",
    "\n",
    "with open('./processed/test_on_just_furniture.json', 'r') as f:\n",
    "    test_furniture_test = json.load(f)\n",
    "\n",
    "print(len(test_fashion_train), len(test_furniture_test))\n",
    "print(len(test_fashion_train) + len(test_furniture_test))\n",
    "\n",
    "print(len(train_data), len(devtest_data))\n",
    "print(len(train_data) + len(devtest_data))"
   ]
  },
  {
   "cell_type": "code",
   "execution_count": 5,
   "metadata": {},
   "outputs": [],
   "source": [
    "KB_train = torch.load('./processed/KB_train.pt', map_location='cpu')\n",
    "KB_dev = torch.load('./processed/KB_dev.pt', map_location='cpu')\n",
    "KB_devtest = torch.load('./processed/KB_devtest.pt', map_location='cpu')\n",
    "\n",
    "KB_all = {**KB_train,**KB_dev,  **KB_devtest}\n",
    "torch.save(KB_all, './processed/KB_all.pt')\n",
    "\n",
    "KB_SBERT_train = torch.load('./processed/KB_SBERT_train.pt', map_location='cpu')\n",
    "KB_SBERT_dev = torch.load('./processed/KB_SBERT_dev.pt', map_location='cpu')\n",
    "KB_SBERT_devtest = torch.load('./processed/KB_SBERT_devtest.pt', map_location='cpu')\n",
    "\n",
    "KB_SBERT_all = {**KB_SBERT_train, **KB_SBERT_dev, **KB_SBERT_devtest}\n",
    "torch.save(KB_SBERT_all, './processed/KB_SBERT_all.pt')"
   ]
  },
  {
   "cell_type": "markdown",
   "metadata": {},
   "source": [
    "### 2.2 Different stores or different items"
   ]
  },
  {
   "cell_type": "code",
   "execution_count": 3,
   "metadata": {},
   "outputs": [
    {
     "name": "stdout",
     "output_type": "stream",
     "text": [
      "Number of dialogues in different stores (train): 0\n",
      "Number of dialogues in different stores (devtest): 0\n",
      "Number of dialogues in different store settings (train): 765\n",
      "Number of dialogues in different store settings (devtest): 133\n"
     ]
    }
   ],
   "source": [
    "# CHECKING THAT EVERY DIALOGUE HAS SCENES IN THE SAME STORE/SETTING, I.E.,\n",
    "# ALL SCENES IN A DIALOGUE ARE SCENES OF THE SAME STORE OR SAME STORE SETTING.\n",
    "\n",
    "def get_store_prefix(scene_name):\n",
    "    aux = scene_name[::-1] # reversed string\n",
    "    first = False\n",
    "    for i in range(len(aux)):\n",
    "        if aux[i] == '_':\n",
    "            if first:\n",
    "                return scene_name[:-i]\n",
    "            first = True\n",
    "\n",
    "def check_scene_store_level(dataset):\n",
    "    count = 0\n",
    "    for line in dataset:\n",
    "        first_scene = line['scenes'][0]\n",
    "        prefix = get_store_prefix(first_scene)\n",
    "        for scene in line['scenes']:\n",
    "            if prefix != get_store_prefix(scene):\n",
    "                #print(line['dial_idx'], line['scenes'])\n",
    "                count += 1\n",
    "    return count\n",
    "\n",
    "\n",
    "def get_store_setting_prefix(scene_name):\n",
    "    aux = scene_name[::-1]\n",
    "    for i in range(len(aux)):\n",
    "        if aux[i] == '_':\n",
    "            return scene_name[:-i]\n",
    "\n",
    "def check_scene_store_setting_level(dataset):\n",
    "    count = 0\n",
    "    for line in dataset:\n",
    "        first_scene = line['scenes'][0]\n",
    "        prefix = get_store_setting_prefix(first_scene)\n",
    "        for scene in line['scenes']:\n",
    "            if prefix != get_store_setting_prefix(scene):\n",
    "                #print(line['dial_idx'], line['scenes'])\n",
    "                count += 1\n",
    "    return count\n",
    "\n",
    "\n",
    "c1 = check_scene_store_level(train_data)\n",
    "print(\"Number of dialogues in different stores (train):\", c1)\n",
    "c2 = check_scene_store_level(devtest_data)\n",
    "print(\"Number of dialogues in different stores (devtest):\", c2)\n",
    "c3 = check_scene_store_setting_level(train_data)\n",
    "print(\"Number of dialogues in different store settings (train):\", c3)\n",
    "c4 = check_scene_store_setting_level(devtest_data)\n",
    "print(\"Number of dialogues in different store settings (devtest):\", c4)\n"
   ]
  },
  {
   "cell_type": "code",
   "execution_count": 4,
   "metadata": {},
   "outputs": [],
   "source": [
    "def intersection_scenes(list1, list2):\n",
    "    return set(list1).intersection(list2)\n",
    "\n",
    "\n",
    "def get_intersection(dataset, idx1, idx2, verbose=True):\n",
    "    res = intersection_scenes(dataset[idx1]['KB_ids'], dataset[idx2]['KB_ids'])\n",
    "    if verbose:\n",
    "        print(idx1, dataset[idx1]['scenes'])\n",
    "        print(idx2, dataset[idx2]['scenes'])\n",
    "        print(res)\n",
    "    return res"
   ]
  },
  {
   "cell_type": "code",
   "execution_count": 40,
   "metadata": {},
   "outputs": [
    {
     "name": "stdout",
     "output_type": "stream",
     "text": [
      "Empty object intersection counter (NOT checking domains): 257187921\n",
      "Empty object intersection counter (checking domains): 26535831\n"
     ]
    }
   ],
   "source": [
    "dom_count = 0\n",
    "not_dom_count = 0\n",
    "for i in range(len(train_data)):\n",
    "    for j in range(i+1, len(train_data)):\n",
    "        if len(get_intersection(train_data, i, j, verbose=False))==0:\n",
    "            if train_data[i]['domain']==train_data[j]['domain']:\n",
    "                dom_count += 1\n",
    "            not_dom_count += 1\n",
    "print('Empty object intersection counter (NOT checking domains):', not_dom_count)\n",
    "print('Empty object intersection counter (checking domains):', dom_count)\n"
   ]
  },
  {
   "cell_type": "code",
   "execution_count": 44,
   "metadata": {},
   "outputs": [
    {
     "name": "stdout",
     "output_type": "stream",
     "text": [
      "9.692099749956954\n",
      "total number of training pairs: 571236900.0\n"
     ]
    }
   ],
   "source": [
    "print(not_dom_count/dom_count)\n",
    "\n",
    "print(\"total number of training pairs:\", len(train_data)*(len(train_data)-1)/2)"
   ]
  },
  {
   "cell_type": "code",
   "execution_count": 54,
   "metadata": {},
   "outputs": [
    {
     "name": "stdout",
     "output_type": "stream",
     "text": [
      "29\n",
      "494\n",
      "769\n"
     ]
    }
   ],
   "source": [
    "print(len(train_data[0]['KB_ids']))\n",
    "\n",
    "count = 0\n",
    "for i in range(len(train_data)):\n",
    "    if train_data[i]['domain'] == 'fashion':\n",
    "        if len(get_intersection(train_data, 0, i, verbose=False))==0:\n",
    "            count += 1\n",
    "print(count)\n",
    "for i in range(len(devtest_data)):\n",
    "    if devtest_data[i]['domain'] == 'fashion':\n",
    "        if len(intersection_scenes(train_data[0]['KB_ids'], devtest_data[i]['KB_ids']))==0:\n",
    "            count += 1\n",
    "print(count)\n"
   ]
  },
  {
   "cell_type": "code",
   "execution_count": 8,
   "metadata": {},
   "outputs": [
    {
     "name": "stdout",
     "output_type": "stream",
     "text": [
      "Total examples in train + devtest sets: 41470\n",
      "Total examples with cloth_store_3 (fashion): 3404\n",
      "Total fashion examples WITHOUT cloth_store_3: 26724\n",
      "Proportion of cloth_store_3: 0.11298459904407859\n"
     ]
    }
   ],
   "source": [
    "total_ex = 0\n",
    "special_ex = 0\n",
    "other_fash_ex = 0\n",
    "\n",
    "for line in train_data:\n",
    "    if line['domain'] == 'fashion':\n",
    "        if 'cloth_store_3' in line['scenes'][0]:\n",
    "            special_ex += 1\n",
    "        else:\n",
    "            other_fash_ex += 1\n",
    "    total_ex += 1\n",
    "\n",
    "for line in devtest_data:\n",
    "    if line['domain'] == 'fashion':\n",
    "        if 'cloth_store_3' in line['scenes'][0]:\n",
    "            special_ex += 1\n",
    "        else:\n",
    "            other_fash_ex += 1\n",
    "    total_ex += 1\n",
    "\n",
    "print(\"Total examples in train + devtest sets:\", total_ex)\n",
    "print(\"Total examples with cloth_store_3 (fashion):\", special_ex)\n",
    "print(\"Total fashion examples WITHOUT cloth_store_3:\", other_fash_ex)\n",
    "\n",
    "print(\"Proportion of cloth_store_3:\", special_ex/(special_ex+other_fash_ex))\n"
   ]
  },
  {
   "cell_type": "code",
   "execution_count": 10,
   "metadata": {},
   "outputs": [
    {
     "name": "stdout",
     "output_type": "stream",
     "text": [
      "Total examples in train + devtest sets: 41470\n",
      "Total examples with cloth_store_1498649_woman (fashion): 8807\n",
      "Total fashion examples WITHOUT cloth_store_1498649_woman: 21321\n",
      "Proportion of cloth_store_1498649_woman: 0.2923194370685077\n"
     ]
    }
   ],
   "source": [
    "total_ex = 0\n",
    "special_ex = 0\n",
    "other_fash_ex = 0\n",
    "\n",
    "for line in train_data:\n",
    "    if line['domain'] == 'fashion':\n",
    "        if 'cloth_store_1498649_woman' in line['scenes'][0]:\n",
    "            special_ex += 1\n",
    "        else:\n",
    "            other_fash_ex += 1\n",
    "    total_ex += 1\n",
    "\n",
    "for line in devtest_data:\n",
    "    if line['domain'] == 'fashion':\n",
    "        if 'cloth_store_1498649_woman' in line['scenes'][0]:\n",
    "            special_ex += 1\n",
    "        else:\n",
    "            other_fash_ex += 1\n",
    "    total_ex += 1\n",
    "\n",
    "print(\"Total examples in train + devtest sets:\", total_ex)\n",
    "print(\"Total examples with cloth_store_1498649_woman (fashion):\", special_ex)\n",
    "print(\"Total fashion examples WITHOUT cloth_store_1498649_woman:\", other_fash_ex)\n",
    "\n",
    "print(\"Proportion of cloth_store_1498649_woman:\", special_ex/(special_ex+other_fash_ex))\n"
   ]
  },
  {
   "cell_type": "code",
   "execution_count": 13,
   "metadata": {},
   "outputs": [
    {
     "name": "stdout",
     "output_type": "stream",
     "text": [
      "32663 8807\n"
     ]
    }
   ],
   "source": [
    "### BUILDING A NEW SPECIAL DATASET\n",
    "train_ex = []\n",
    "test_ex = []\n",
    "\n",
    "for line in train_data:\n",
    "    if 'cloth_store_1498649_woman' in line['scenes'][0]:\n",
    "        test_ex.append(line)\n",
    "    else:\n",
    "        train_ex.append(line)\n",
    "\n",
    "for line in devtest_data:\n",
    "    if 'cloth_store_1498649_woman' in line['scenes'][0]:\n",
    "        test_ex.append(line)\n",
    "    else:\n",
    "        train_ex.append(line)\n",
    "\n",
    "print(len(train_ex), len(test_ex))\n",
    "\n",
    "with open('./processed/special_woman_store_train.json', 'w') as f:\n",
    "    json.dump(train_ex, f)\n",
    "\n",
    "with open('./processed/special_woman_store_test.json', 'w') as f:\n",
    "    json.dump(test_ex, f)\n",
    "\n"
   ]
  },
  {
   "cell_type": "markdown",
   "metadata": {},
   "source": [
    "### 2.3 Counting potential new sets sizes"
   ]
  },
  {
   "cell_type": "markdown",
   "metadata": {},
   "source": [
    "New sets (Option 1):\n",
    "- Out-of-Domain test set: all examples of furniture in train+devtest sets.\n",
    "- In-Domain-Held-Out test set: all fashion examples in \"woman49\" shop.\n",
    "- In-Domain test set: randomly pick examples from the remaining set.\n",
    "- Train set: remaining set after all extractions."
   ]
  },
  {
   "cell_type": "code",
   "execution_count": 3,
   "metadata": {},
   "outputs": [
    {
     "name": "stdout",
     "output_type": "stream",
     "text": [
      "41470\n"
     ]
    }
   ],
   "source": [
    "whole_set = []\n",
    "for line in train_data:\n",
    "    whole_set.append(line)\n",
    "for line in devtest_data:\n",
    "    whole_set.append(line)\n",
    "print(len((whole_set)))"
   ]
  },
  {
   "cell_type": "code",
   "execution_count": 5,
   "metadata": {},
   "outputs": [
    {
     "name": "stdout",
     "output_type": "stream",
     "text": [
      "11342\n"
     ]
    }
   ],
   "source": [
    "fash_set = []\n",
    "furn_set = []\n",
    "for line in whole_set:\n",
    "    if line['domain'] == 'fashion':\n",
    "        fash_set.append(line)\n",
    "    else:\n",
    "        furn_set.append(line)\n",
    "print(len(furn_set))"
   ]
  },
  {
   "cell_type": "code",
   "execution_count": 6,
   "metadata": {},
   "outputs": [
    {
     "name": "stdout",
     "output_type": "stream",
     "text": [
      "8807\n",
      "21321\n"
     ]
    }
   ],
   "source": [
    "in_dom_diff_shop = []\n",
    "rest_set = []\n",
    "for line in fash_set:\n",
    "    if 'cloth_store_1498649_woman' in line['scenes'][0]:\n",
    "        in_dom_diff_shop.append(line)\n",
    "    else:\n",
    "        rest_set.append(line)\n",
    "\n",
    "print(len(in_dom_diff_shop))\n",
    "print(len(rest_set))\n"
   ]
  },
  {
   "cell_type": "code",
   "execution_count": 17,
   "metadata": {},
   "outputs": [
    {
     "name": "stdout",
     "output_type": "stream",
     "text": [
      "Training set: 14321 0.34533397636845914\n",
      "Out-Domain test set: 11342 0.2734989148782252\n",
      "In-Domain-Held-Out test set: 8807 0.21237038823245719\n",
      "In-Domain test set: 7000 0.16879672052085845\n"
     ]
    }
   ],
   "source": [
    "print(\"Training set:\", 14321, 14321/41470)\n",
    "print(\"Out-Domain test set:\", 11342, 11342/41470)\n",
    "print(\"In-Domain-Held-Out test set:\", 8807, 8807/41470)\n",
    "print(\"In-Domain test set:\", 7000, 7000/41470)"
   ]
  },
  {
   "cell_type": "markdown",
   "metadata": {},
   "source": [
    "New sets (Option 2): Let's call *fashion_set* to all examples in original train/dev/devtest sets within fashion domains.\n",
    "- Out-of-Domain test set: all examples of furniture in original devtest set.\n",
    "- In-Domain-Held-Out test set: all fashion examples in *fashion_set* taking place in \"woman49\" shop.\n",
    "- In-Domain test set: randomly pick examples from the remaining *fashion_set* matching the size of In-Domain-Held-Out test set.\n",
    "- Train set: remaining *fashion_set* after all extractions."
   ]
  },
  {
   "cell_type": "code",
   "execution_count": 23,
   "metadata": {},
   "outputs": [
    {
     "name": "stdout",
     "output_type": "stream",
     "text": [
      "9567\n",
      "23641\n"
     ]
    }
   ],
   "source": [
    "in_domain_held_out = []\n",
    "rest_fashion = []\n",
    "for line in train_data:\n",
    "    if line['domain'] == 'fashion':\n",
    "        if 'cloth_store_1498649_woman' in line['scenes'][0]:\n",
    "            in_domain_held_out.append(line)\n",
    "        else:\n",
    "            rest_fashion.append(line)\n",
    "for line in dev_data:\n",
    "    if line['domain'] == 'fashion':\n",
    "        if 'cloth_store_1498649_woman' in line['scenes'][0]:\n",
    "            in_domain_held_out.append(line)\n",
    "        else:\n",
    "            rest_fashion.append(line)\n",
    "for line in devtest_data:\n",
    "    if line['domain'] == 'fashion':\n",
    "        if 'cloth_store_1498649_woman' in line['scenes'][0]:\n",
    "            in_domain_held_out.append(line)\n",
    "        else:\n",
    "            rest_fashion.append(line)\n",
    "\n",
    "print(len(in_domain_held_out))\n",
    "print(len(rest_fashion))\n"
   ]
  },
  {
   "cell_type": "code",
   "execution_count": 35,
   "metadata": {},
   "outputs": [
    {
     "name": "stdout",
     "output_type": "stream",
     "text": [
      "9486\n"
     ]
    }
   ],
   "source": [
    "out_domain_test_set = []\n",
    "for line in train_data:\n",
    "    if line['domain'] == 'furniture':\n",
    "        out_domain_test_set.append(line)\n",
    "\n",
    "print(len(out_domain_test_set))\n"
   ]
  },
  {
   "cell_type": "code",
   "execution_count": 33,
   "metadata": {},
   "outputs": [
    {
     "data": {
      "text/plain": [
       "14641"
      ]
     },
     "execution_count": 33,
     "metadata": {},
     "output_type": "execute_result"
    }
   ],
   "source": [
    "23641 - 9000"
   ]
  },
  {
   "cell_type": "code",
   "execution_count": 43,
   "metadata": {},
   "outputs": [
    {
     "name": "stdout",
     "output_type": "stream",
     "text": [
      "9486\n",
      "9567\n",
      "9000\n",
      "14641\n"
     ]
    }
   ],
   "source": [
    "with open('./processed/new_datasets/out_of_domain_test.json', 'r', encoding='utf-8') as f:\n",
    "    out_domain_test_data = json.load(f)\n",
    "\n",
    "with open('./processed/new_datasets/in_domain_held_out_test.json', 'r', encoding='utf-8') as f:\n",
    "    in_domain_held_out_test_data = json.load(f)\n",
    "\n",
    "with open('./processed/new_datasets/in_domain_test.json', 'r', encoding='utf-8') as f:\n",
    "    in_domain_test_data = json.load(f)\n",
    "\n",
    "with open('./processed/new_datasets/seen_unseen_OOD_train.json', 'r', encoding='utf-8') as f:\n",
    "    new_train_data = json.load(f)\n",
    "\n",
    "print(len(out_domain_test_data))\n",
    "print(len(in_domain_held_out_test_data))\n",
    "print(len(in_domain_test_data))\n",
    "print(len(new_train_data))"
   ]
  },
  {
   "cell_type": "code",
   "execution_count": 6,
   "metadata": {},
   "outputs": [],
   "source": [
    "with open('./processed/new_datasets/in_domain_test.json', 'r', encoding='utf-8') as f:\n",
    "    in_domain_test_data = json.load(f)\n",
    "\n",
    "with open('./processed/new_datasets/in_domain_target.json', 'r', encoding='utf-8') as f:\n",
    "    in_domain_target_data = json.load(f)\n",
    "\n",
    "with open('./processed/new_datasets/in_domain_held_out_test.json', 'r', encoding='utf-8') as f:\n",
    "    in_domain_held_out_test_data = json.load(f)\n",
    "\n",
    "with open('./processed/new_datasets/in_domain_held_out_target.json', 'r', encoding='utf-8') as f:\n",
    "    in_domain_held_out_target_data = json.load(f)\n",
    "\n",
    "with open('./processed/new_datasets/out_of_domain_test.json', 'r', encoding='utf-8') as f:\n",
    "    out_domain_test_data = json.load(f)\n",
    "\n",
    "with open('./processed/new_datasets/out_of_domain_target.json', 'r', encoding='utf-8') as f:\n",
    "    out_domain_target_data = json.load(f)"
   ]
  },
  {
   "cell_type": "code",
   "execution_count": 45,
   "metadata": {},
   "outputs": [],
   "source": [
    "def check_dialogue_ids(test, target):\n",
    "    for line in test:\n",
    "        found = False\n",
    "        for dial in target['dialogue_data']:\n",
    "            if line['dial_idx'] == dial['dialogue_idx']:\n",
    "                found = True\n",
    "                break\n",
    "        if found == False:\n",
    "            print(\"In test but not in target:\", line['dial_idx'])\n",
    "    \n",
    "    for dial in target['dialogue_data']:\n",
    "        found = False\n",
    "        for line in test:\n",
    "            if line['dial_idx'] == dial['dialogue_idx']:\n",
    "                found = True\n",
    "                break\n",
    "        if found == False:\n",
    "            print(\"In target but not in test:\", dial['dialogue_idx'])"
   ]
  },
  {
   "cell_type": "code",
   "execution_count": 46,
   "metadata": {},
   "outputs": [],
   "source": [
    "check_dialogue_ids(in_domain_test_data, in_domain_target_data)"
   ]
  },
  {
   "cell_type": "code",
   "execution_count": null,
   "metadata": {},
   "outputs": [],
   "source": []
  },
  {
   "cell_type": "markdown",
   "metadata": {},
   "source": [
    "### 2.4 Calculating object intersection between 'in-domain' and 'in-domain-held-out' test sets"
   ]
  },
  {
   "cell_type": "code",
   "execution_count": 38,
   "metadata": {},
   "outputs": [
    {
     "name": "stdout",
     "output_type": "stream",
     "text": [
      "14641\n",
      "9000\n",
      "9567\n"
     ]
    }
   ],
   "source": [
    "with open('./processed/new_datasets/seen_unseen_OOD_train.json', 'r') as f:\n",
    "    train_data = json.load(f)\n",
    "\n",
    "with open('./processed/new_datasets/in_domain_test.json', 'r') as f:\n",
    "    in_domain_data = json.load(f)\n",
    "\n",
    "with open('./processed/new_datasets/in_domain_held_out_test.json', 'r') as f:\n",
    "    in_domain_held_out_data = json.load(f)\n",
    "\n",
    "print(len(train_data))\n",
    "print(len(in_domain_data))\n",
    "print(len(in_domain_held_out_data))"
   ]
  },
  {
   "cell_type": "code",
   "execution_count": 73,
   "metadata": {},
   "outputs": [],
   "source": [
    "def count_objs(dataset):\n",
    "    d = dict()\n",
    "    for line in dataset:\n",
    "        for obj_id in line['KB_ids']:\n",
    "            if obj_id in d:\n",
    "                d[obj_id] += 1\n",
    "            else:\n",
    "                d[obj_id] = 1\n",
    "    return d\n",
    "\n",
    "train_obj_dict = count_objs(train_data)\n",
    "in_domain_obj_dict = count_objs(in_domain_data)\n",
    "in_domain_held_out_obj_dict = count_objs(in_domain_held_out_data)"
   ]
  },
  {
   "cell_type": "code",
   "execution_count": 75,
   "metadata": {},
   "outputs": [
    {
     "name": "stdout",
     "output_type": "stream",
     "text": [
      "Train:\n",
      "255\n",
      "[(92, 14785), (238, 14611), (187, 14294), (33, 14151), (239, 13879), (240, 13603), (197, 13586), (168, 13488), (19, 13235), (116, 13006)]\n",
      "\n",
      "In-domain:\n",
      "[(92, 8901), (187, 8739), (238, 8712), (33, 8508), (19, 8194), (240, 8193), (116, 8103), (168, 8088), (239, 8056), (197, 7833)]\n",
      "\n",
      "In-domain-held-out:\n",
      "[(128, 4539), (284, 4427), (153, 4286), (241, 3960), (10, 3869), (204, 3848), (259, 3639), (187, 3610), (251, 3497), (7, 3285)]\n",
      "\n"
     ]
    }
   ],
   "source": [
    "print(\"Train:\")\n",
    "print(len(train_obj_dict.keys()))\n",
    "train_obj_dict_sorted = sorted(train_obj_dict.items(), key=lambda x:x[1])[::-1]\n",
    "print(train_obj_dict_sorted[:10])\n",
    "print()\n",
    "\n",
    "print(\"In-domain:\")\n",
    "in_domain_obj_dict_sorted = sorted(in_domain_obj_dict.items(), key=lambda x:x[1])[::-1]\n",
    "print(in_domain_obj_dict_sorted[:10])\n",
    "print()\n",
    "\n",
    "print(\"In-domain-held-out:\")\n",
    "in_domain_held_out_obj_dict_sorted = sorted(in_domain_held_out_obj_dict.items(), key=lambda x:x[1])[::-1]\n",
    "print(in_domain_held_out_obj_dict_sorted[:10])\n",
    "print()"
   ]
  },
  {
   "cell_type": "code",
   "execution_count": 76,
   "metadata": {},
   "outputs": [
    {
     "name": "stdout",
     "output_type": "stream",
     "text": [
      "Seen ids: 255\n",
      "Unseen ids: 0\n",
      "% of in-domain items seen in training set: 1.0\n"
     ]
    }
   ],
   "source": [
    "ids_in = set()\n",
    "ids_out = set()\n",
    "\n",
    "for line in in_domain_data:\n",
    "    for obj_id in line['KB_ids']:\n",
    "        if obj_id in train_obj_dict:\n",
    "            ids_in.add(obj_id)\n",
    "        else:\n",
    "            ids_out.add(obj_id)\n",
    "\n",
    "print(\"Seen ids:\", len(ids_in))\n",
    "print(\"Unseen ids:\", len(ids_out))\n",
    "print(\"% of in-domain items seen in training set:\", len(ids_in)/(len(ids_in)+len(ids_out)))"
   ]
  },
  {
   "cell_type": "code",
   "execution_count": 79,
   "metadata": {},
   "outputs": [
    {
     "name": "stdout",
     "output_type": "stream",
     "text": [
      "Seen ids: 206\n",
      "Unseen ids: 6\n",
      "% of in-domain-held-out items seen in training set: 0.9716981132075472\n",
      "Object with ID 144 is the 207-th most common id in held-out set\n",
      "Object with ID 177 is the 130-th most common id in held-out set\n",
      "Object with ID 146 is the 198-th most common id in held-out set\n",
      "Object with ID 179 is the 90-th most common id in held-out set\n",
      "Object with ID 275 is the 201-th most common id in held-out set\n",
      "Object with ID 213 is the 148-th most common id in held-out set\n"
     ]
    }
   ],
   "source": [
    "ids_in = set()\n",
    "ids_out = set()\n",
    "\n",
    "for line in in_domain_held_out_data:\n",
    "    for obj_id in line['KB_ids']:\n",
    "        if obj_id in train_obj_dict:\n",
    "            ids_in.add(obj_id)\n",
    "        else:\n",
    "            ids_out.add(obj_id)\n",
    "\n",
    "print(\"Seen ids:\", len(ids_in))\n",
    "print(\"Unseen ids:\", len(ids_out))\n",
    "print(\"% of in-domain-held-out items seen in training set:\", len(ids_in)/(len(ids_in)+len(ids_out)))\n",
    "\n",
    "for id in ids_out:\n",
    "    for idx, sid_tuple in enumerate(in_domain_held_out_obj_dict_sorted):\n",
    "        if id == sid_tuple[0]:\n",
    "            print(\"Object with ID\", id, \"is the\", str(idx)+\"-th most common id in held-out set\")\n",
    "    "
   ]
  },
  {
   "cell_type": "code",
   "execution_count": 88,
   "metadata": {},
   "outputs": [],
   "source": [
    "import matplotlib.pyplot as plt\n",
    "\n",
    "def plot_most_common(sorted_obj_dict, set_name, k=10):\n",
    "    if k > len(sorted_obj_dict):\n",
    "        print(\"Error: not enough items\")\n",
    "        return\n",
    "    \n",
    "    str_ids = [str(tup[0]) for tup in sorted_obj_dict[:k]]\n",
    "    freqs = [tup[1] for tup in sorted_obj_dict[:k]]\n",
    "\n",
    "    plt.barh(str_ids, freqs)\n",
    "    plt.title(\"Most frequent objects in \"+set_name, fontweight='bold')\n",
    "    plt.ylabel(\"Object Global ID\", fontweight='bold')\n",
    "    plt.xlabel(\"No. of occurrences in \"+set_name, fontweight='bold')\n",
    "    plt.show()\n",
    "\n"
   ]
  },
  {
   "cell_type": "code",
   "execution_count": 89,
   "metadata": {},
   "outputs": [
    {
     "data": {
      "image/png": "[encoded data removed]",
      "text/plain": [
       "<Figure size 432x288 with 1 Axes>"
      ]
     },
     "metadata": {
      "needs_background": "light"
     },
     "output_type": "display_data"
    }
   ],
   "source": [
    "plot_most_common(train_obj_dict_sorted, \"training set\", k=15)"
   ]
  },
  {
   "cell_type": "code",
   "execution_count": 90,
   "metadata": {},
   "outputs": [
    {
     "data": {
      "image/png": "[encoded data removed]",
      "text/plain": [
       "<Figure size 432x288 with 1 Axes>"
      ]
     },
     "metadata": {
      "needs_background": "light"
     },
     "output_type": "display_data"
    }
   ],
   "source": [
    "plot_most_common(in_domain_obj_dict_sorted, \"in-domain test set\", k=15)"
   ]
  },
  {
   "cell_type": "code",
   "execution_count": 91,
   "metadata": {},
   "outputs": [
    {
     "data": {
      "image/png": "[encoded data removed]",
      "text/plain": [
       "<Figure size 432x288 with 1 Axes>"
      ]
     },
     "metadata": {
      "needs_background": "light"
     },
     "output_type": "display_data"
    }
   ],
   "source": [
    "plot_most_common(in_domain_held_out_obj_dict_sorted, \"in-domain-held-out test set\", k=15)"
   ]
  },
  {
   "cell_type": "code",
   "execution_count": null,
   "metadata": {},
   "outputs": [],
   "source": []
  },
  {
   "cell_type": "markdown",
   "metadata": {},
   "source": [
    "### 2.5 Calculating percentage of mentioned objects that are also the targets in cloth_store_1498649_woman"
   ]
  },
  {
   "cell_type": "code",
   "execution_count": 30,
   "metadata": {},
   "outputs": [],
   "source": [
    "with open('./processed/train.json', 'r') as f:\n",
    "    train_data = json.load(f)\n",
    " \n",
    "with open('./processed/devtest.json', 'r') as f:\n",
    "    devtest_data = json.load(f)"
   ]
  },
  {
   "cell_type": "code",
   "execution_count": 16,
   "metadata": {},
   "outputs": [],
   "source": [
    "import json\n",
    "\n",
    "with open('./processed/new_datasets/in_domain_held_out_test.json', 'r') as f:\n",
    "    idho_data = json.load(f)\n",
    "\n",
    "with open('./processed/new_datasets/in_domain_test.json', 'r') as f:\n",
    "    indom_data = json.load(f)"
   ]
  },
  {
   "cell_type": "code",
   "execution_count": 22,
   "metadata": {},
   "outputs": [],
   "source": [
    "def calc_mentioned_targets_perc(data):\n",
    "    n_targets = 0\n",
    "    n_ment = 0\n",
    "    for line in data:\n",
    "        for target_idx in line['reference_idx']:\n",
    "            if line['candidate_mentioned'][target_idx] == 1:\n",
    "                n_ment += 1\n",
    "        n_targets += len(line['reference_idx'])\n",
    "    \n",
    "    return n_ment/n_targets * 100\n"
   ]
  },
  {
   "cell_type": "code",
   "execution_count": 23,
   "metadata": {},
   "outputs": [
    {
     "data": {
      "text/plain": [
       "57.45950554134698"
      ]
     },
     "execution_count": 23,
     "metadata": {},
     "output_type": "execute_result"
    }
   ],
   "source": [
    "calc_mentioned_targets_perc(devtest_data)"
   ]
  },
  {
   "cell_type": "code",
   "execution_count": 24,
   "metadata": {},
   "outputs": [
    {
     "data": {
      "text/plain": [
       "57.39411847474321"
      ]
     },
     "execution_count": 24,
     "metadata": {},
     "output_type": "execute_result"
    }
   ],
   "source": [
    "calc_mentioned_targets_perc(indom_data)"
   ]
  },
  {
   "cell_type": "code",
   "execution_count": 25,
   "metadata": {},
   "outputs": [
    {
     "data": {
      "text/plain": [
       "56.00160578081091"
      ]
     },
     "execution_count": 25,
     "metadata": {},
     "output_type": "execute_result"
    }
   ],
   "source": [
    "calc_mentioned_targets_perc(idho_data)"
   ]
  },
  {
   "cell_type": "code",
   "execution_count": 26,
   "metadata": {},
   "outputs": [],
   "source": [
    "import numpy as np\n",
    "\n",
    "def count_mean_candidate_objs(data):\n",
    "    n_objs = []\n",
    "    for line in data:\n",
    "        n_objs.append(len(line['candidate_ids']))\n",
    "    return np.mean(n_objs)"
   ]
  },
  {
   "cell_type": "code",
   "execution_count": 31,
   "metadata": {},
   "outputs": [
    {
     "data": {
      "text/plain": [
       "27.245761959705334"
      ]
     },
     "execution_count": 31,
     "metadata": {},
     "output_type": "execute_result"
    }
   ],
   "source": [
    "count_mean_candidate_objs(train_data)"
   ]
  },
  {
   "cell_type": "code",
   "execution_count": 32,
   "metadata": {},
   "outputs": [
    {
     "data": {
      "text/plain": [
       "27.55691745990351"
      ]
     },
     "execution_count": 32,
     "metadata": {},
     "output_type": "execute_result"
    }
   ],
   "source": [
    "count_mean_candidate_objs(devtest_data)"
   ]
  },
  {
   "cell_type": "code",
   "execution_count": 33,
   "metadata": {},
   "outputs": [
    {
     "data": {
      "text/plain": [
       "35.92111111111111"
      ]
     },
     "execution_count": 33,
     "metadata": {},
     "output_type": "execute_result"
    }
   ],
   "source": [
    "count_mean_candidate_objs(indom_data)"
   ]
  },
  {
   "cell_type": "code",
   "execution_count": 34,
   "metadata": {},
   "outputs": [
    {
     "data": {
      "text/plain": [
       "29.99937284415177"
      ]
     },
     "execution_count": 34,
     "metadata": {},
     "output_type": "execute_result"
    }
   ],
   "source": [
    "count_mean_candidate_objs(idho_data)"
   ]
  },
  {
   "cell_type": "markdown",
   "metadata": {},
   "source": [
    "## 3.0 Adding more attributes to the object description"
   ]
  },
  {
   "cell_type": "code",
   "execution_count": 13,
   "metadata": {},
   "outputs": [],
   "source": [
    "import json\n",
    "import torch"
   ]
  },
  {
   "cell_type": "code",
   "execution_count": 64,
   "metadata": {},
   "outputs": [],
   "source": [
    "with open('./processed/devtest.json', 'r', encoding='utf-8') as f:\n",
    "    devtest_data = json.load(f)"
   ]
  },
  {
   "cell_type": "code",
   "execution_count": 84,
   "metadata": {},
   "outputs": [
    {
     "data": {
      "text/plain": [
       "'Item 0 is located at x : -614.89, y : -0.00, z: -280.93. Its located in the bounding box 130 370 57 71. Its price is $649. Its brand is Art Den. It is made with wood. It has a customer review of 3.8 out of 5. Its color is wooden. Its type is CoffeeTable. Its color is wooden. Its type is CoffeeTable. Its color is wooden. Its type is CoffeeTable.'"
      ]
     },
     "execution_count": 84,
     "metadata": {},
     "output_type": "execute_result"
    }
   ],
   "source": [
    "devtest_data[1736]['objects'][0]"
   ]
  },
  {
   "cell_type": "code",
   "execution_count": 57,
   "metadata": {},
   "outputs": [],
   "source": [
    "def get_id_from_attr_str(attr_str):\n",
    "    start = attr_str.find('Item ')\n",
    "    end = attr_str.find(' is located at')\n",
    "    id = attr_str[start+len('Item '):end]\n",
    "    return int(id)\n",
    "\n",
    "id = get_id_from_attr_str(dev_data[0]['objects'][1])"
   ]
  },
  {
   "cell_type": "code",
   "execution_count": 58,
   "metadata": {},
   "outputs": [],
   "source": [
    "KB_fash_path = './data/fashion_prefab_metadata_all.json'\n",
    "KB_furn_path = './data/furniture_prefab_metadata_all.json'\n",
    "\n",
    "with open(KB_fash_path, 'r', encoding='utf-8') as f:\n",
    "    KB_fash = json.load(f)\n",
    "\n",
    "with open(KB_furn_path, 'r', encoding='utf-8') as f:\n",
    "    KB_furn = json.load(f)"
   ]
  },
  {
   "cell_type": "code",
   "execution_count": 83,
   "metadata": {},
   "outputs": [
    {
     "name": "stdout",
     "output_type": "stream",
     "text": [
      "{'brand': 'Art Den', 'color': 'wooden', 'customerRating': 3.8, 'materials': 'wood', 'price': '$649', 'type': 'CoffeeTable'}\n"
     ]
    }
   ],
   "source": [
    "FASH_ATTR_NAME_LIST = ['color', 'type', 'assetType', 'pattern', 'sleeveLength']\n",
    "FURN_ATTR_NAME_LIST = ['color', 'type']\n",
    "\n",
    "def func(data):\n",
    "    for j,line in enumerate(data):\n",
    "        for i in range(len(line['objects'])):\n",
    "            cand_id = get_id_from_attr_str(line['objects'][i])\n",
    "            idx = line['candidate_ids'].index(cand_id)\n",
    "            abs_id = line['KB_ids'][idx]-1\n",
    "            if line['domain'] == 'fashion':\n",
    "                key = list(KB_fash.keys())[abs_id]\n",
    "                entry = KB_fash[key]\n",
    "                line['objects'][i] += \" Its color is \"+entry['color']+\\\n",
    "                                    \". Its type is \"+entry['type']+\\\n",
    "                                    \". Its asset type is \"+entry['assetType']+\\\n",
    "                                    \". Its pattern is \"+entry['pattern']+\\\n",
    "                                    \". Its sleeve length is \"+entry['sleeveLength']+\".\"\n",
    "            else:\n",
    "                #print(\"Furn\", j, abs_id-288)\n",
    "                abs_id = abs_id - 288\n",
    "                key = list(KB_furn.keys())[abs_id]\n",
    "                entry = KB_furn[key]\n",
    "                print(entry)\n",
    "                line['objects'][i] += \" Its color is \"+entry['color']+\\\n",
    "                                    \". Its type is \"+entry['type']+\".\"\n",
    "\n",
    "                return\n",
    "\n",
    "func(devtest_data)\n",
    "        "
   ]
  },
  {
   "cell_type": "code",
   "execution_count": null,
   "metadata": {},
   "outputs": [],
   "source": []
  },
  {
   "cell_type": "markdown",
   "metadata": {},
   "source": [
    "## 4. Adding num_target_objs head to UNITER"
   ]
  },
  {
   "cell_type": "code",
   "execution_count": 3,
   "metadata": {},
   "outputs": [],
   "source": [
    "with open('./processed/train.json', 'r', encoding='utf-8') as f:\n",
    "    train_data = json.load(f)"
   ]
  },
  {
   "cell_type": "code",
   "execution_count": 12,
   "metadata": {},
   "outputs": [
    {
     "name": "stdout",
     "output_type": "stream",
     "text": [
      "dict_keys(['dial', 'objects', 'reference_mask', 'reference_idx', 'candidate_ids', 'candidate_pos', 'candidate_bbox', 'candidate_relations', 'scene_seg', 'KB_ids', 'scenes', 'domain', 'dial_idx', 'round_idx', 'candidate_mentioned'])\n",
      "[1, 0, 0, 0, 0, 0, 1, 0, 0, 0, 0, 0, 0, 0, 0, 0, 0, 0, 0, 0, 0, 0, 0, 0, 0, 0, 0, 0, 0]\n",
      "[0, 6]\n",
      "[59, 80, 55, 67, 68, 70, 82, 79, 69, 72, 71, 73, 61, 62, 63, 58, 74, 75, 64, 76, 0, 1, 2, 3, 4, 5, 6, 7, 8]\n",
      "[117, 128, 51, 133, 228, 236, 53, 284, 226, 138, 234, 110, 14, 16, 16, 19, 284, 167, 54, 68, 168, 260, 261, 197, 10, 228, 73, 81, 7]\n",
      "29 29\n"
     ]
    }
   ],
   "source": [
    "print(train_data[1].keys())\n",
    "print(train_data[1]['reference_mask'])\n",
    "print(train_data[1]['reference_idx'])\n",
    "print(train_data[1]['candidate_ids'])\n",
    "print(train_data[1]['KB_ids'])\n",
    "print(len(train_data[1]['candidate_ids']), len(train_data[1]['KB_ids']))"
   ]
  },
  {
   "cell_type": "code",
   "execution_count": 22,
   "metadata": {},
   "outputs": [
    {
     "data": {
      "text/plain": [
       "tensor([[0., 1., 0., 0.],\n",
       "        [1., 0., 0., 0.],\n",
       "        [1., 0., 0., 0.],\n",
       "        [0., 1., 0., 0.],\n",
       "        [0., 0., 1., 0.],\n",
       "        [0., 0., 1., 0.],\n",
       "        [0., 1., 0., 0.],\n",
       "        [1., 0., 0., 0.],\n",
       "        [0., 0., 1., 0.],\n",
       "        [0., 1., 0., 0.],\n",
       "        [0., 0., 0., 1.],\n",
       "        [0., 0., 1., 0.],\n",
       "        [0., 0., 1., 0.],\n",
       "        [0., 1., 0., 0.],\n",
       "        [0., 0., 0., 1.],\n",
       "        [1., 0., 0., 0.]])"
      ]
     },
     "execution_count": 22,
     "metadata": {},
     "output_type": "execute_result"
    }
   ],
   "source": [
    "arr = torch.tensor([1,0,0,1,2,2,1,0,2,1,3,2,2,1,3,0])\n",
    "\n",
    "new_arr = torch.zeros(arr.shape[0], 4)\n",
    "\n",
    "for i in range(len(arr)):\n",
    "    idx = arr[i] if arr[i] < 3 else 3\n",
    "    new_arr[i][idx] = 1\n",
    "new_arr"
   ]
  },
  {
   "cell_type": "code",
   "execution_count": null,
   "metadata": {},
   "outputs": [],
   "source": []
  },
  {
   "cell_type": "markdown",
   "metadata": {},
   "source": [
    "## 5. 100 random examples subset of devtest: statistics"
   ]
  },
  {
   "cell_type": "code",
   "execution_count": 1,
   "metadata": {},
   "outputs": [],
   "source": [
    "import json\n",
    "\n",
    "with open('./processed/random_test_subset/random_devtest_samples.json', 'r') as f:\n",
    "    subset_data = json.load(f)\n",
    "\n",
    "with open('./processed/devtest.json', 'r') as f:\n",
    "    devtest_data = json.load(f)"
   ]
  },
  {
   "cell_type": "code",
   "execution_count": 7,
   "metadata": {},
   "outputs": [
    {
     "name": "stdout",
     "output_type": "stream",
     "text": [
      "Percentage of examples without any target on devtest set: 50.17603338114487\n",
      "Percentage of examples without any target on random subset: 53.0\n"
     ]
    }
   ],
   "source": [
    "noref = 0\n",
    "for example in devtest_data:\n",
    "    if len(example['reference_idx']) == 0:\n",
    "        noref += 1\n",
    "print(\"Percentage of examples without any target on devtest set:\", noref/len(devtest_data) * 100)\n",
    "\n",
    "noref = 0\n",
    "for example in subset_data:\n",
    "    if len(example['reference_idx']) == 0:\n",
    "        noref += 1\n",
    "print(\"Percentage of examples without any target on random subset:\", noref/len(subset_data) * 100)\n"
   ]
  },
  {
   "cell_type": "code",
   "execution_count": 12,
   "metadata": {},
   "outputs": [
    {
     "name": "stdout",
     "output_type": "stream",
     "text": [
      "Percentage of targets that were previously mentioned in the dialog on devtest set: 57.45950554134698\n",
      "Percentage of targets that were previously mentioned in the dialog on devtest set: 75.0\n"
     ]
    }
   ],
   "source": [
    "n_men = 0\n",
    "n_targets = 0\n",
    "for example in devtest_data:\n",
    "    for idx in example['reference_idx']:\n",
    "        n_targets += 1\n",
    "        if example['candidate_mentioned'][idx] == 1:\n",
    "            n_men += 1\n",
    "print(\"Percentage of targets that were previously mentioned in the dialog on devtest set:\", n_men/n_targets * 100)\n",
    "\n",
    "n_men = 0\n",
    "n_targets = 0\n",
    "for example in subset_data:\n",
    "    for idx in example['reference_idx']:\n",
    "        n_targets += 1\n",
    "        if example['candidate_mentioned'][idx] == 1:\n",
    "            n_men += 1\n",
    "print(\"Percentage of targets that were previously mentioned in the dialog on devtest set:\", n_men/n_targets * 100)"
   ]
  },
  {
   "cell_type": "code",
   "execution_count": null,
   "metadata": {},
   "outputs": [],
   "source": []
  }
 ],
 "metadata": {
  "kernelspec": {
   "display_name": "Python 3.9.0 ('venv': venv)",
   "language": "python",
   "name": "python3"
  },
  "language_info": {
   "codemirror_mode": {
    "name": "ipython",
    "version": 3
   },
   "file_extension": ".py",
   "mimetype": "text/x-python",
   "name": "python",
   "nbconvert_exporter": "python",
   "pygments_lexer": "ipython3",
   "version": "3.9.0"
  },
  "orig_nbformat": 4,
  "vscode": {
   "interpreter": {
    "hash": "b67ed9e9af8edfed5c6ad12438b07039e5eeda5b93411503796bc35acfdbeaa1"
   }
  }
 },
 "nbformat": 4,
 "nbformat_minor": 2
}
