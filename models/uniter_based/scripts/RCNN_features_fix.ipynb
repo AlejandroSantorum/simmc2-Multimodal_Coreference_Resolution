{
 "cells": [
  {
   "cell_type": "code",
   "execution_count": 1,
   "id": "c718430c",
   "metadata": {
    "_cell_guid": "b1076dfc-b9ad-4769-8c92-a6c4dae69d19",
    "_uuid": "8f2839f25d086af736a60e9eeb907d3b93b6e0e5",
    "execution": {
     "iopub.execute_input": "2021-10-07T12:08:10.037886Z",
     "iopub.status.busy": "2021-10-07T12:08:10.037023Z",
     "iopub.status.idle": "2021-10-07T12:08:10.041087Z",
     "shell.execute_reply": "2021-10-07T12:08:10.040313Z",
     "shell.execute_reply.started": "2021-10-07T12:02:29.525154Z"
    },
    "papermill": {
     "duration": 0.022345,
     "end_time": "2021-10-07T12:08:10.041295",
     "exception": false,
     "start_time": "2021-10-07T12:08:10.018950",
     "status": "completed"
    },
    "tags": []
   },
   "outputs": [],
   "source": [
    "import json"
   ]
  },
  {
   "cell_type": "code",
   "execution_count": 2,
   "id": "59b308fc",
   "metadata": {
    "execution": {
     "iopub.execute_input": "2021-10-07T12:08:10.058293Z",
     "iopub.status.busy": "2021-10-07T12:08:10.054966Z",
     "iopub.status.idle": "2021-10-07T12:09:07.073856Z",
     "shell.execute_reply": "2021-10-07T12:09:07.073058Z",
     "shell.execute_reply.started": "2021-10-07T12:05:09.597686Z"
    },
    "papermill": {
     "duration": 57.02709,
     "end_time": "2021-10-07T12:09:07.074034",
     "exception": false,
     "start_time": "2021-10-07T12:08:10.046944",
     "status": "completed"
    },
    "tags": []
   },
   "outputs": [],
   "source": [
    "data = {}\n",
    "a = json.load(open('../input/dstc-extract-feature/with_m.json'))\n",
    "b = json.load(open('../input/dstc-extract-feature/without_m.json'))\n",
    "for k, v in a.items():\n",
    "    data[f'm_{k}'] = v\n",
    "for k, v in b.items():\n",
    "    data[k] = v"
   ]
  },
  {
   "cell_type": "code",
   "execution_count": 3,
   "id": "93e646de",
   "metadata": {
    "execution": {
     "iopub.execute_input": "2021-10-07T12:09:07.110489Z",
     "iopub.status.busy": "2021-10-07T12:09:07.095466Z",
     "iopub.status.idle": "2021-10-07T12:12:19.888123Z",
     "shell.execute_reply": "2021-10-07T12:12:19.887234Z"
    },
    "papermill": {
     "duration": 192.809091,
     "end_time": "2021-10-07T12:12:19.888329",
     "exception": false,
     "start_time": "2021-10-07T12:09:07.079238",
     "status": "completed"
    },
    "tags": []
   },
   "outputs": [],
   "source": [
    "with open('img_fea_rcnn.json', 'w') as f:\n",
    "    json.dump(data, f)"
   ]
  },
  {
   "cell_type": "code",
   "execution_count": null,
   "id": "d575b44c",
   "metadata": {
    "papermill": {
     "duration": 0.004485,
     "end_time": "2021-10-07T12:12:19.898062",
     "exception": false,
     "start_time": "2021-10-07T12:12:19.893577",
     "status": "completed"
    },
    "tags": []
   },
   "outputs": [],
   "source": []
  }
 ],
 "metadata": {
  "kernelspec": {
   "display_name": "Python 3",
   "language": "python",
   "name": "python3"
  },
  "language_info": {
   "codemirror_mode": {
    "name": "ipython",
    "version": 3
   },
   "file_extension": ".py",
   "mimetype": "text/x-python",
   "name": "python",
   "nbconvert_exporter": "python",
   "pygments_lexer": "ipython3",
   "version": "3.7.10"
  },
  "papermill": {
   "default_parameters": {},
   "duration": 262.968805,
   "end_time": "2021-10-07T12:12:23.551832",
   "environment_variables": {},
   "exception": null,
   "input_path": "__notebook__.ipynb",
   "output_path": "__notebook__.ipynb",
   "parameters": {},
   "start_time": "2021-10-07T12:08:00.583027",
   "version": "2.3.3"
  }
 },
 "nbformat": 4,
 "nbformat_minor": 5
}
