{
 "cells": [
  {
   "cell_type": "markdown",
   "id": "8288d15b",
   "metadata": {
    "papermill": {
     "duration": 0.009115,
     "end_time": "2021-10-06T07:36:42.992518",
     "exception": false,
     "start_time": "2021-10-06T07:36:42.983403",
     "status": "completed"
    },
    "tags": []
   },
   "source": [
    "# CLIP for extracting visual features\n",
    "* Why CLIP?  \n",
    "   Because setting up the original BUTD feature extracter is an absolute nightmare...  \n",
    "   ... and we will corrupt the image features with KB embeddings anyway"
   ]
  },
  {
   "cell_type": "markdown",
   "id": "1dfa7407",
   "metadata": {
    "papermill": {
     "duration": 0.007807,
     "end_time": "2021-10-06T07:36:43.008905",
     "exception": false,
     "start_time": "2021-10-06T07:36:43.001098",
     "status": "completed"
    },
    "tags": []
   },
   "source": [
    "## Setup"
   ]
  },
  {
   "cell_type": "code",
   "execution_count": 1,
   "id": "55e22dde",
   "metadata": {
    "execution": {
     "iopub.execute_input": "2021-10-06T07:36:43.108799Z",
     "iopub.status.busy": "2021-10-06T07:36:43.102081Z",
     "iopub.status.idle": "2021-10-06T07:37:03.668696Z",
     "shell.execute_reply": "2021-10-06T07:37:03.668025Z",
     "shell.execute_reply.started": "2021-10-03T10:59:24.399676Z"
    },
    "papermill": {
     "duration": 20.652207,
     "end_time": "2021-10-06T07:37:03.668856",
     "exception": false,
     "start_time": "2021-10-06T07:36:43.016649",
     "status": "completed"
    },
    "tags": []
   },
   "outputs": [],
   "source": [
    "# CLIP\n",
    "!pip install ftfy regex tqdm\n",
    "!pip install git+https://github.com/openai/CLIP.git\n",
    "from IPython.display import clear_output \n",
    "clear_output()"
   ]
  },
  {
   "cell_type": "code",
   "execution_count": 2,
   "id": "c2b8e8b6",
   "metadata": {
    "execution": {
     "iopub.execute_input": "2021-10-06T07:37:03.691920Z",
     "iopub.status.busy": "2021-10-06T07:37:03.691140Z",
     "iopub.status.idle": "2021-10-06T07:37:13.058418Z",
     "shell.execute_reply": "2021-10-06T07:37:13.057928Z",
     "shell.execute_reply.started": "2021-10-03T10:59:44.080128Z"
    },
    "papermill": {
     "duration": 9.38095,
     "end_time": "2021-10-06T07:37:13.058545",
     "exception": false,
     "start_time": "2021-10-06T07:37:03.677595",
     "status": "completed"
    },
    "tags": []
   },
   "outputs": [
    {
     "name": "stderr",
     "output_type": "stream",
     "text": [
      "2021-10-06 07:37:08.896060: I tensorflow/stream_executor/platform/default/dso_loader.cc:49] Successfully opened dynamic library libcudart.so.11.0\n"
     ]
    }
   ],
   "source": [
    "# Stuff we may or may not need.\n",
    "# Handling data\n",
    "import glob\n",
    "import json\n",
    "from PIL import Image\n",
    "import os\n",
    "import random\n",
    "\n",
    "# Modeling and training\n",
    "import torch\n",
    "import numpy\n",
    "from transformers import AutoConfig, AutoTokenizer, GPT2PreTrainedModel, GPT2Model, AdamW, get_linear_schedule_with_warmup, get_cosine_with_hard_restarts_schedule_with_warmup\n",
    "\n",
    "from torch.utils.tensorboard import SummaryWriter\n",
    "import tqdm\n",
    "\n",
    "# Pretrained CLIP models\n",
    "import clip\n",
    "\n",
    "# Evaluation\n",
    "import torchtext\n",
    "\n",
    "import matplotlib.pyplot as plt"
   ]
  },
  {
   "cell_type": "code",
   "execution_count": 3,
   "id": "f0f2dfee",
   "metadata": {
    "execution": {
     "iopub.execute_input": "2021-10-06T07:37:13.080683Z",
     "iopub.status.busy": "2021-10-06T07:37:13.080168Z",
     "iopub.status.idle": "2021-10-06T07:37:25.582573Z",
     "shell.execute_reply": "2021-10-06T07:37:25.582090Z",
     "shell.execute_reply.started": "2021-10-03T10:59:53.765664Z"
    },
    "papermill": {
     "duration": 12.515344,
     "end_time": "2021-10-06T07:37:25.582708",
     "exception": false,
     "start_time": "2021-10-06T07:37:13.067364",
     "status": "completed"
    },
    "tags": []
   },
   "outputs": [
    {
     "name": "stdout",
     "output_type": "stream",
     "text": [
      "Available CLIP variants: ['RN50', 'RN101', 'RN50x4', 'RN50x16', 'ViT-B/32', 'ViT-B/16']\n"
     ]
    },
    {
     "name": "stderr",
     "output_type": "stream",
     "text": [
      "100%|████████████████████████████████████████| 338M/338M [00:01<00:00, 225MiB/s]\n"
     ]
    }
   ],
   "source": [
    "device = \"cuda\" if torch.cuda.is_available() else \"cpu\"\n",
    "torch.manual_seed(21)\n",
    "\n",
    "encoder_name = \"ViT-B/32\"\n",
    "\n",
    "print(\"Available CLIP variants: {}\".format(clip.available_models()))\n",
    "encoder, preprocess = clip.load(encoder_name, device=device)\n",
    "\n",
    "batch_size = 16"
   ]
  },
  {
   "cell_type": "code",
   "execution_count": 4,
   "id": "27ff8a8b",
   "metadata": {
    "execution": {
     "iopub.execute_input": "2021-10-06T07:37:25.613598Z",
     "iopub.status.busy": "2021-10-06T07:37:25.613064Z",
     "iopub.status.idle": "2021-10-06T07:37:25.803963Z",
     "shell.execute_reply": "2021-10-06T07:37:25.803414Z",
     "shell.execute_reply.started": "2021-10-03T11:00:10.878915Z"
    },
    "papermill": {
     "duration": 0.207694,
     "end_time": "2021-10-06T07:37:25.804102",
     "exception": false,
     "start_time": "2021-10-06T07:37:25.596408",
     "status": "completed"
    },
    "tags": []
   },
   "outputs": [
    {
     "name": "stdout",
     "output_type": "stream",
     "text": [
      "1740\n",
      "../input/simmc-img/data/simmc2_scene_jsons_dstc10_public/public/cloth_store_paul_5_4_scene.json\n"
     ]
    }
   ],
   "source": [
    "scene_paths = glob.glob('../input/simmc-img/data/simmc2_scene_jsons_dstc10_public/public/*_scene.json')\n",
    "print(len(scene_paths))\n",
    "print(scene_paths[5])"
   ]
  },
  {
   "cell_type": "markdown",
   "id": "1a1a66e7",
   "metadata": {
    "papermill": {
     "duration": 0.013623,
     "end_time": "2021-10-06T07:37:25.831528",
     "exception": false,
     "start_time": "2021-10-06T07:37:25.817905",
     "status": "completed"
    },
    "tags": []
   },
   "source": [
    "# Do the thing"
   ]
  },
  {
   "cell_type": "code",
   "execution_count": 5,
   "id": "74ee240a",
   "metadata": {
    "execution": {
     "iopub.execute_input": "2021-10-06T07:37:25.864587Z",
     "iopub.status.busy": "2021-10-06T07:37:25.862977Z",
     "iopub.status.idle": "2021-10-06T07:37:25.865273Z",
     "shell.execute_reply": "2021-10-06T07:37:25.865666Z",
     "shell.execute_reply.started": "2021-10-03T11:00:11.100211Z"
    },
    "papermill": {
     "duration": 0.020553,
     "end_time": "2021-10-06T07:37:25.865784",
     "exception": false,
     "start_time": "2021-10-06T07:37:25.845231",
     "status": "completed"
    },
    "tags": []
   },
   "outputs": [],
   "source": [
    "def get_features(img):\n",
    "    img = preprocess(img).to(device)\n",
    "    encoder.eval()\n",
    "    with torch.no_grad():\n",
    "        image_features = encoder.encode_image(img.unsqueeze(0))\n",
    "    return image_features"
   ]
  },
  {
   "cell_type": "code",
   "execution_count": 6,
   "id": "5b4a45c8",
   "metadata": {
    "execution": {
     "iopub.execute_input": "2021-10-06T07:37:25.901049Z",
     "iopub.status.busy": "2021-10-06T07:37:25.900455Z",
     "iopub.status.idle": "2021-10-06T07:54:25.292167Z",
     "shell.execute_reply": "2021-10-06T07:54:25.292737Z",
     "shell.execute_reply.started": "2021-10-03T11:05:25.861358Z"
    },
    "papermill": {
     "duration": 1019.413617,
     "end_time": "2021-10-06T07:54:25.292965",
     "exception": false,
     "start_time": "2021-10-06T07:37:25.879348",
     "status": "completed"
    },
    "tags": []
   },
   "outputs": [
    {
     "name": "stdout",
     "output_type": "stream",
     "text": [
      "# ERROR: 4\n"
     ]
    }
   ],
   "source": [
    "out = {} \n",
    "error = 0 # 3 corrupted images\n",
    "for idx, scene_path in enumerate(scene_paths):\n",
    "    \n",
    "    with open(scene_path, 'r') as f:\n",
    "        objects = json.load(f)['scenes'][0]['objects']\n",
    "    \n",
    "    # Retrive image path\n",
    "    img_path = '../input/simmc-img/data/all_images/'+scene_path.split('/')[-1].replace('m_','').replace('_scene.json','.png')\n",
    "    \n",
    "    # Get the scene image\n",
    "    scene_img = Image.open(img_path)\n",
    "    \n",
    "    # Get sub-images for each bbox\n",
    "    try:\n",
    "        imgs = {'scene': get_features(scene_img)}\n",
    "    except:\n",
    "        error += 1\n",
    "        continue\n",
    "    for obj_i, object in enumerate(objects):\n",
    "        index = object['index']\n",
    "        x,y,h,w = object['bbox']\n",
    "        x = max(x,1) # Some bbox has width 0 ???\n",
    "        y = max(y,1)\n",
    "        w = max(w,1)\n",
    "        h = max(h,1)\n",
    "        \n",
    "        obj_img = scene_img.crop((x,y,x+w,y+h))\n",
    "        imgs[index] = get_features(obj_img)\n",
    "    \n",
    "    out[scene_path.split('/')[-1].replace('.json','')] = imgs\n",
    "    \n",
    "#     if idx > 10:\n",
    "#         break\n",
    "\n",
    "torch.save(out, './img_features.pt')\n",
    "print(f\"# ERROR: {error}\")"
   ]
  },
  {
   "cell_type": "code",
   "execution_count": 7,
   "id": "71fe41fd",
   "metadata": {
    "execution": {
     "iopub.execute_input": "2021-10-06T07:54:25.325656Z",
     "iopub.status.busy": "2021-10-06T07:54:25.324730Z",
     "iopub.status.idle": "2021-10-06T07:54:30.562228Z",
     "shell.execute_reply": "2021-10-06T07:54:30.562915Z",
     "shell.execute_reply.started": "2021-10-03T11:00:19.194796Z"
    },
    "papermill": {
     "duration": 5.255597,
     "end_time": "2021-10-06T07:54:30.563120",
     "exception": false,
     "start_time": "2021-10-06T07:54:25.307523",
     "status": "completed"
    },
    "tags": []
   },
   "outputs": [
    {
     "name": "stdout",
     "output_type": "stream",
     "text": [
      "torch.Size([1, 512])\n",
      "tensor([[ 1.5833e-01,  8.3313e-02, -6.0449e-01,  8.7128e-03,  3.2990e-02,\n",
      "         -2.2253e-01,  2.2510e-01,  7.2656e-01,  8.9307e-01,  9.6069e-02,\n",
      "          5.0586e-01, -1.7017e-01,  6.3525e-01, -2.0654e-01, -3.5449e-01,\n",
      "         -2.0459e-01,  3.8867e-01, -2.0679e-01,  2.7979e-01,  6.6223e-02,\n",
      "          2.8516e-01,  1.3513e-01,  1.7236e-01, -3.8788e-02,  3.7817e-01,\n",
      "          2.8857e-01, -9.7717e-02, -3.1592e-01, -3.9258e-01, -2.6074e-01,\n",
      "          1.5228e-02,  1.2451e-01,  3.7524e-01, -9.9915e-02, -4.9097e-01,\n",
      "         -4.4342e-02, -3.2812e-01,  2.1863e-01, -1.1124e-02, -5.2490e-01,\n",
      "         -6.4746e-01, -5.0000e-01, -7.3576e-04, -3.3813e-01, -7.2266e-01,\n",
      "          1.7539e+00,  2.8564e-01,  1.3257e-01, -1.1884e-01, -2.1204e-01,\n",
      "          2.8833e-01, -9.4910e-02,  9.4177e-02, -2.8247e-01, -1.9714e-01,\n",
      "          2.4609e-01, -1.3611e-01,  4.2381e-03,  1.2622e-01,  3.6279e-01,\n",
      "          1.0283e+00,  2.4438e-01,  6.7139e-02, -6.5479e-01, -1.5613e-01,\n",
      "         -9.9060e-02,  2.0520e-01, -5.5127e-01, -4.4647e-02, -2.1106e-01,\n",
      "         -1.5295e-01, -2.1899e-01,  1.9690e-01, -2.4768e-01, -2.1423e-01,\n",
      "         -1.9153e-01,  3.0322e-01, -3.8574e-01, -1.0278e-01, -6.7969e-01,\n",
      "         -2.4609e-01,  3.0487e-02, -2.8345e-01, -3.7305e-01,  5.0537e-01,\n",
      "          3.5913e-01, -6.4111e-01,  5.4901e-02, -6.6553e-01, -2.0923e-01,\n",
      "          3.8452e-01,  6.6681e-03, -8.6797e+00,  8.3594e-01,  2.8394e-01,\n",
      "          4.1821e-01, -1.5369e-01, -2.0276e-01,  1.0605e+00,  4.4238e-01,\n",
      "          4.8309e-02, -1.0577e-01,  1.8628e-01, -1.7761e-01,  3.0200e-01,\n",
      "          6.0364e-02, -1.5156e+00,  4.9512e-01, -3.7744e-01,  1.3354e-01,\n",
      "         -2.3279e-01, -1.2445e-01, -1.9836e-01, -2.4304e-01, -1.0303e-01,\n",
      "          2.3853e-01, -4.7485e-01,  9.6069e-02,  1.1145e-01,  2.4231e-01,\n",
      "          3.5693e-01, -2.9785e-01,  3.5156e-01, -2.7802e-02,  5.1807e-01,\n",
      "         -6.7871e-02, -2.8397e-02, -4.1504e-02,  1.7542e-01,  3.1543e-01,\n",
      "         -6.6284e-02, -1.1688e-02,  8.4900e-02,  1.1055e+00,  2.5562e-01,\n",
      "          3.8770e-01,  3.1616e-01, -9.7656e-01, -6.2354e-01, -3.4393e-02,\n",
      "          2.6733e-01, -1.3892e-01,  2.6685e-01, -2.0740e-01, -3.1543e-01,\n",
      "         -1.5312e-02,  1.5457e-02,  4.3066e-01, -3.6597e-01, -4.6417e-02,\n",
      "         -5.5511e-02, -2.6978e-01, -5.8105e-02, -4.4580e-01,  2.8955e-01,\n",
      "         -3.8354e-01,  2.0740e-01,  3.7769e-01, -4.7266e-01,  5.6885e-01,\n",
      "         -1.6937e-02,  1.0583e-01,  1.9727e-01,  2.6367e-01,  2.3352e-01,\n",
      "          6.0840e-01,  6.7920e-01,  3.4668e-01, -3.3887e-01,  3.8867e-01,\n",
      "          4.9414e-01, -3.6353e-01,  3.7292e-02, -6.5430e-01, -4.8389e-01,\n",
      "         -9.4055e-02,  7.2449e-02, -9.3018e-02, -4.8755e-01, -6.8115e-02,\n",
      "          5.1221e-01,  2.7206e-02,  5.5176e-01, -1.7505e-01, -2.6782e-01,\n",
      "          7.2266e-02, -1.7212e-02, -1.0815e-01, -1.0388e-01,  2.0691e-01,\n",
      "          2.1045e-01, -2.1045e-01, -7.3181e-02,  1.9067e-01, -8.7280e-02,\n",
      "         -3.0792e-02, -1.3525e-01,  8.4534e-03, -1.0742e+00,  8.8013e-02,\n",
      "         -2.4133e-01, -2.6587e-01,  6.2927e-02,  4.9829e-01,  2.0764e-01,\n",
      "         -1.2585e-01, -1.9958e-01, -1.1261e-01,  2.2522e-01,  2.5659e-01,\n",
      "          1.2103e-01,  6.4111e-01,  9.5703e-02, -5.8411e-02, -3.0371e-01,\n",
      "         -1.0413e-01, -1.1401e-01, -1.8906e-02,  2.2815e-01, -3.4399e-01,\n",
      "          2.0776e-01, -2.8198e-01, -1.0944e-01, -4.4464e-02,  3.2288e-02,\n",
      "          3.4253e-01, -1.8018e-01, -6.5552e-02, -2.8613e-01,  1.1169e-01,\n",
      "          1.3794e-01, -2.4072e-01,  3.6108e-01, -4.1455e-01, -1.3464e-01,\n",
      "          2.2498e-01,  1.4624e-01,  4.1528e-01, -4.8157e-02,  1.7334e-02,\n",
      "         -9.9304e-02,  1.5503e-01,  8.6670e-02,  1.3098e-01,  1.9214e-01,\n",
      "         -6.1328e-01,  2.8149e-01,  1.0583e-01,  9.8328e-02, -1.8896e-01,\n",
      "         -5.0079e-02,  4.7577e-02,  6.8604e-01, -4.5319e-02, -4.4289e-03,\n",
      "          8.4778e-02, -1.8567e-01,  2.4048e-01, -1.5068e+00,  2.8247e-01,\n",
      "          1.7908e-01, -2.2058e-01,  7.1594e-02, -6.2256e-01, -1.4172e-01,\n",
      "          1.4148e-01,  4.3384e-01,  2.7588e-01,  7.8125e-02, -2.9810e-01,\n",
      "          1.1792e-01,  5.7922e-02,  1.0406e-01, -6.3623e-01, -9.4543e-02,\n",
      "          3.6816e-01,  8.6609e-02,  1.6052e-01, -3.6475e-01, -3.6084e-01,\n",
      "          4.2633e-02,  1.8951e-02, -5.2002e-01, -3.0444e-01, -1.9482e-01,\n",
      "         -3.2935e-01,  1.3496e+00,  3.3569e-01,  3.0762e-01,  1.6345e-01,\n",
      "          3.3016e-03, -3.6401e-01,  6.9641e-02,  5.3369e-01, -1.6663e-01,\n",
      "          1.4575e-01, -2.5732e-01,  1.4453e-01,  1.5662e-01,  1.5051e-01,\n",
      "          5.5078e-01, -1.3985e-02, -3.5229e-01,  5.0293e-01,  1.4478e-01,\n",
      "         -1.1318e+00, -3.0884e-01, -3.7695e-01, -1.5637e-01,  1.5649e-01,\n",
      "         -4.7461e-01,  5.1855e-01,  1.1045e+00,  3.8770e-01,  3.6133e-01,\n",
      "         -2.2491e-02,  1.9360e-01,  9.2896e-02, -3.8672e-01,  2.4155e-02,\n",
      "          3.3447e-01,  1.6621e+00, -1.9421e-01, -6.0997e-03, -4.1821e-01,\n",
      "         -1.3342e-01,  2.0187e-02, -4.3762e-02, -2.1790e-01,  6.2305e-01,\n",
      "         -3.1030e-01,  1.6833e-01, -1.0596e-01, -3.6133e-01,  8.7402e-02,\n",
      "          7.1411e-02,  1.7859e-01, -1.5015e-01,  1.1261e-01,  5.7764e-01,\n",
      "          6.6071e-03, -2.3560e-01,  2.4426e-01, -2.6245e-02,  3.5889e-01,\n",
      "          1.7554e-01,  1.4368e-01,  2.4023e-01,  1.6455e-01, -3.1470e-01,\n",
      "          7.9785e-01, -3.4790e-02,  2.9517e-01, -1.7798e-01,  3.9014e-01,\n",
      "         -4.2407e-01, -3.3960e-01,  9.4849e-02,  1.6144e-02, -8.7708e-02,\n",
      "         -5.7129e-01, -2.0679e-01,  2.3254e-01,  2.4170e-01, -9.8816e-02,\n",
      "          1.7605e-03, -7.0374e-02, -7.1143e-01,  1.1896e-01,  1.1951e-01,\n",
      "          1.3062e-01,  2.9907e-01,  8.1238e-02,  3.4521e-01,  6.2207e-01,\n",
      "          2.6221e-01, -5.9418e-02,  2.8564e-01, -3.3301e-01,  2.0288e-01,\n",
      "          3.1586e-02, -3.4180e-01, -1.4233e-01, -5.3375e-02,  1.7285e-01,\n",
      "         -5.8563e-02, -2.4170e-01,  1.5784e-01, -2.7417e-01, -1.5762e+00,\n",
      "         -1.0996e+00,  8.1253e-03,  7.1228e-02,  8.5876e-02, -3.2397e-01,\n",
      "         -1.1328e-01,  1.5656e-02, -5.4596e-02, -3.0493e-01,  3.5815e-01,\n",
      "          3.6230e-01, -1.5295e-01,  9.6289e-01, -2.7075e-01, -2.5520e-03,\n",
      "          3.2129e-01,  2.2009e-01,  4.2139e-01,  3.2959e-01, -3.1616e-01,\n",
      "         -2.7075e-01, -1.0339e-01,  1.0034e-01,  2.3651e-02, -1.1969e-01,\n",
      "         -1.7065e-01,  3.0835e-01,  4.0210e-01, -2.4341e-01,  6.3232e-02,\n",
      "         -2.1716e-01, -3.8818e-01, -1.8738e-01, -7.1777e-01, -4.6356e-02,\n",
      "         -4.0918e-01,  4.1351e-02, -4.3457e-01,  5.8594e-01,  1.6125e-01,\n",
      "         -3.4497e-01,  1.0028e-01,  3.6646e-01,  1.8311e-01, -4.5972e-01,\n",
      "          1.4246e-01,  2.3718e-01,  1.2030e-01, -5.0201e-02,  1.4294e-01,\n",
      "         -4.2065e-01, -2.1130e-01, -3.7280e-01,  3.9355e-01,  2.8610e-03,\n",
      "         -8.2336e-02,  4.3384e-01, -1.1206e-01,  1.8140e-01, -1.9482e-01,\n",
      "         -1.6724e-01,  1.5515e-01,  1.9800e-01,  8.0627e-02, -3.3765e-01,\n",
      "          3.6548e-01, -2.5171e-01,  1.9287e-01, -3.3447e-01, -1.0004e-01,\n",
      "          1.6052e-01, -2.7176e-02, -4.7021e-01, -1.7139e-01,  5.1270e-01,\n",
      "         -1.2619e-02,  8.1836e-01, -3.3960e-01, -2.8906e-01, -3.5400e-01,\n",
      "          1.9373e-01, -1.1749e-01,  7.0312e-01, -2.1228e-01, -4.4067e-02,\n",
      "         -2.7222e-01,  2.6636e-01,  3.1763e-01,  3.7212e-03, -1.3525e-01,\n",
      "         -2.4194e-01, -1.2915e-01, -6.7017e-02,  2.8223e-01, -1.3904e-01,\n",
      "          1.5100e-01, -1.5808e-02,  3.1372e-01, -3.7567e-02, -4.4586e-02,\n",
      "          5.9863e-01,  1.0559e-01,  3.7378e-01, -3.1177e-01, -2.7084e-02,\n",
      "         -5.6689e-01, -2.7563e-01,  5.5389e-03,  3.0420e-01,  5.4657e-02,\n",
      "         -1.1963e-01,  2.7539e-01, -2.2632e-01,  4.9316e-02,  8.5791e-01,\n",
      "         -3.9307e-01, -1.2292e-01,  7.3425e-02, -3.9917e-01,  6.0938e-01,\n",
      "          5.0232e-02,  1.3420e-02]], device='cuda:0', dtype=torch.float16)\n"
     ]
    }
   ],
   "source": [
    "data = torch.load('img_features.pt')\n",
    "img = data['cloth_store_2_11_11_scene'][2]\n",
    "print(img.shape)\n",
    "print(img)"
   ]
  },
  {
   "cell_type": "code",
   "execution_count": null,
   "id": "a018a492",
   "metadata": {
    "papermill": {
     "duration": 0.013818,
     "end_time": "2021-10-06T07:54:30.591195",
     "exception": false,
     "start_time": "2021-10-06T07:54:30.577377",
     "status": "completed"
    },
    "tags": []
   },
   "outputs": [],
   "source": []
  },
  {
   "cell_type": "code",
   "execution_count": null,
   "id": "cdf44d6e",
   "metadata": {
    "papermill": {
     "duration": 0.013788,
     "end_time": "2021-10-06T07:54:30.618985",
     "exception": false,
     "start_time": "2021-10-06T07:54:30.605197",
     "status": "completed"
    },
    "tags": []
   },
   "outputs": [],
   "source": []
  }
 ],
 "metadata": {
  "kernelspec": {
   "display_name": "Python 3",
   "language": "python",
   "name": "python3"
  },
  "language_info": {
   "codemirror_mode": {
    "name": "ipython",
    "version": 3
   },
   "file_extension": ".py",
   "mimetype": "text/x-python",
   "name": "python",
   "nbconvert_exporter": "python",
   "pygments_lexer": "ipython3",
   "version": "3.7.10"
  },
  "papermill": {
   "default_parameters": {},
   "duration": 1076.837569,
   "end_time": "2021-10-06T07:54:33.533322",
   "environment_variables": {},
   "exception": null,
   "input_path": "__notebook__.ipynb",
   "output_path": "__notebook__.ipynb",
   "parameters": {},
   "start_time": "2021-10-06T07:36:36.695753",
   "version": "2.3.3"
  }
 },
 "nbformat": 4,
 "nbformat_minor": 5
}
