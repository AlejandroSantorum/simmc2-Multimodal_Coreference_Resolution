{
  "nbformat": 4,
  "nbformat_minor": 0,
  "metadata": {
    "colab": {
      "name": "openI_VQA.ipynb",
      "provenance": [],
      "collapsed_sections": [
        "YxFGskafyP2L",
        "qNuJtgvu2b6Q",
        "mZ3wU6U_7X-B"
      ],
      "authorship_tag": "ABX9TyPUcD7PCUEme3I2fm5FeUMD",
      "include_colab_link": true
    },
    "kernelspec": {
      "name": "python3",
      "display_name": "Python 3"
    },
    "accelerator": "GPU",
    "widgets": {
      "application/vnd.jupyter.widget-state+json": {
        "72c243f0fea84d21b818beb4ac27b2d7": {
          "model_module": "@jupyter-widgets/controls",
          "model_name": "HBoxModel",
          "state": {
            "_view_name": "HBoxView",
            "_dom_classes": [],
            "_model_name": "HBoxModel",
            "_view_module": "@jupyter-widgets/controls",
            "_model_module_version": "1.5.0",
            "_view_count": null,
            "_view_module_version": "1.5.0",
            "box_style": "",
            "layout": "IPY_MODEL_b9374f4e4b32423892a28b34b553b332",
            "_model_module": "@jupyter-widgets/controls",
            "children": [
              "IPY_MODEL_a95bbddd8e5c4e03bff64e3b80bd881f",
              "IPY_MODEL_76b353baa18c49acb52df0366ca87c97"
            ]
          }
        },
        "b9374f4e4b32423892a28b34b553b332": {
          "model_module": "@jupyter-widgets/base",
          "model_name": "LayoutModel",
          "state": {
            "_view_name": "LayoutView",
            "grid_template_rows": null,
            "right": null,
            "justify_content": null,
            "_view_module": "@jupyter-widgets/base",
            "overflow": null,
            "_model_module_version": "1.2.0",
            "_view_count": null,
            "flex_flow": null,
            "width": null,
            "min_width": null,
            "border": null,
            "align_items": null,
            "bottom": null,
            "_model_module": "@jupyter-widgets/base",
            "top": null,
            "grid_column": null,
            "overflow_y": null,
            "overflow_x": null,
            "grid_auto_flow": null,
            "grid_area": null,
            "grid_template_columns": null,
            "flex": null,
            "_model_name": "LayoutModel",
            "justify_items": null,
            "grid_row": null,
            "max_height": null,
            "align_content": null,
            "visibility": null,
            "align_self": null,
            "height": null,
            "min_height": null,
            "padding": null,
            "grid_auto_rows": null,
            "grid_gap": null,
            "max_width": null,
            "order": null,
            "_view_module_version": "1.2.0",
            "grid_template_areas": null,
            "object_position": null,
            "object_fit": null,
            "grid_auto_columns": null,
            "margin": null,
            "display": null,
            "left": null
          }
        },
        "a95bbddd8e5c4e03bff64e3b80bd881f": {
          "model_module": "@jupyter-widgets/controls",
          "model_name": "FloatProgressModel",
          "state": {
            "_view_name": "ProgressView",
            "style": "IPY_MODEL_ab3a076576404f63866e8cff6f5482a4",
            "_dom_classes": [],
            "description": "100%",
            "_model_name": "FloatProgressModel",
            "bar_style": "success",
            "max": 161,
            "_view_module": "@jupyter-widgets/controls",
            "_model_module_version": "1.5.0",
            "value": 161,
            "_view_count": null,
            "_view_module_version": "1.5.0",
            "orientation": "horizontal",
            "min": 0,
            "description_tooltip": null,
            "_model_module": "@jupyter-widgets/controls",
            "layout": "IPY_MODEL_4a1a8b0eea6a48318a0e8b8ec9f188c2"
          }
        },
        "76b353baa18c49acb52df0366ca87c97": {
          "model_module": "@jupyter-widgets/controls",
          "model_name": "HTMLModel",
          "state": {
            "_view_name": "HTMLView",
            "style": "IPY_MODEL_41046242a45c4bb6b84d69819ee8418a",
            "_dom_classes": [],
            "description": "",
            "_model_name": "HTMLModel",
            "placeholder": "​",
            "_view_module": "@jupyter-widgets/controls",
            "_model_module_version": "1.5.0",
            "value": " 161/161 [01:41&lt;00:00,  1.59it/s]",
            "_view_count": null,
            "_view_module_version": "1.5.0",
            "description_tooltip": null,
            "_model_module": "@jupyter-widgets/controls",
            "layout": "IPY_MODEL_11a99243f3654a6084292750006628dc"
          }
        },
        "ab3a076576404f63866e8cff6f5482a4": {
          "model_module": "@jupyter-widgets/controls",
          "model_name": "ProgressStyleModel",
          "state": {
            "_view_name": "StyleView",
            "_model_name": "ProgressStyleModel",
            "description_width": "initial",
            "_view_module": "@jupyter-widgets/base",
            "_model_module_version": "1.5.0",
            "_view_count": null,
            "_view_module_version": "1.2.0",
            "bar_color": null,
            "_model_module": "@jupyter-widgets/controls"
          }
        },
        "4a1a8b0eea6a48318a0e8b8ec9f188c2": {
          "model_module": "@jupyter-widgets/base",
          "model_name": "LayoutModel",
          "state": {
            "_view_name": "LayoutView",
            "grid_template_rows": null,
            "right": null,
            "justify_content": null,
            "_view_module": "@jupyter-widgets/base",
            "overflow": null,
            "_model_module_version": "1.2.0",
            "_view_count": null,
            "flex_flow": null,
            "width": null,
            "min_width": null,
            "border": null,
            "align_items": null,
            "bottom": null,
            "_model_module": "@jupyter-widgets/base",
            "top": null,
            "grid_column": null,
            "overflow_y": null,
            "overflow_x": null,
            "grid_auto_flow": null,
            "grid_area": null,
            "grid_template_columns": null,
            "flex": null,
            "_model_name": "LayoutModel",
            "justify_items": null,
            "grid_row": null,
            "max_height": null,
            "align_content": null,
            "visibility": null,
            "align_self": null,
            "height": null,
            "min_height": null,
            "padding": null,
            "grid_auto_rows": null,
            "grid_gap": null,
            "max_width": null,
            "order": null,
            "_view_module_version": "1.2.0",
            "grid_template_areas": null,
            "object_position": null,
            "object_fit": null,
            "grid_auto_columns": null,
            "margin": null,
            "display": null,
            "left": null
          }
        },
        "41046242a45c4bb6b84d69819ee8418a": {
          "model_module": "@jupyter-widgets/controls",
          "model_name": "DescriptionStyleModel",
          "state": {
            "_view_name": "StyleView",
            "_model_name": "DescriptionStyleModel",
            "description_width": "",
            "_view_module": "@jupyter-widgets/base",
            "_model_module_version": "1.5.0",
            "_view_count": null,
            "_view_module_version": "1.2.0",
            "_model_module": "@jupyter-widgets/controls"
          }
        },
        "11a99243f3654a6084292750006628dc": {
          "model_module": "@jupyter-widgets/base",
          "model_name": "LayoutModel",
          "state": {
            "_view_name": "LayoutView",
            "grid_template_rows": null,
            "right": null,
            "justify_content": null,
            "_view_module": "@jupyter-widgets/base",
            "overflow": null,
            "_model_module_version": "1.2.0",
            "_view_count": null,
            "flex_flow": null,
            "width": null,
            "min_width": null,
            "border": null,
            "align_items": null,
            "bottom": null,
            "_model_module": "@jupyter-widgets/base",
            "top": null,
            "grid_column": null,
            "overflow_y": null,
            "overflow_x": null,
            "grid_auto_flow": null,
            "grid_area": null,
            "grid_template_columns": null,
            "flex": null,
            "_model_name": "LayoutModel",
            "justify_items": null,
            "grid_row": null,
            "max_height": null,
            "align_content": null,
            "visibility": null,
            "align_self": null,
            "height": null,
            "min_height": null,
            "padding": null,
            "grid_auto_rows": null,
            "grid_gap": null,
            "max_width": null,
            "order": null,
            "_view_module_version": "1.2.0",
            "grid_template_areas": null,
            "object_position": null,
            "object_fit": null,
            "grid_auto_columns": null,
            "margin": null,
            "display": null,
            "left": null
          }
        },
        "a7dfc96af13847c89543cfc62568b82e": {
          "model_module": "@jupyter-widgets/controls",
          "model_name": "HBoxModel",
          "state": {
            "_view_name": "HBoxView",
            "_dom_classes": [],
            "_model_name": "HBoxModel",
            "_view_module": "@jupyter-widgets/controls",
            "_model_module_version": "1.5.0",
            "_view_count": null,
            "_view_module_version": "1.5.0",
            "box_style": "",
            "layout": "IPY_MODEL_0faad0d7fe3c482db16a39107c58d35b",
            "_model_module": "@jupyter-widgets/controls",
            "children": [
              "IPY_MODEL_a67b28529fb9411dab2b981d9f6c84f6",
              "IPY_MODEL_b3a451c51c0444a0b9a395269909c496"
            ]
          }
        },
        "0faad0d7fe3c482db16a39107c58d35b": {
          "model_module": "@jupyter-widgets/base",
          "model_name": "LayoutModel",
          "state": {
            "_view_name": "LayoutView",
            "grid_template_rows": null,
            "right": null,
            "justify_content": null,
            "_view_module": "@jupyter-widgets/base",
            "overflow": null,
            "_model_module_version": "1.2.0",
            "_view_count": null,
            "flex_flow": null,
            "width": null,
            "min_width": null,
            "border": null,
            "align_items": null,
            "bottom": null,
            "_model_module": "@jupyter-widgets/base",
            "top": null,
            "grid_column": null,
            "overflow_y": null,
            "overflow_x": null,
            "grid_auto_flow": null,
            "grid_area": null,
            "grid_template_columns": null,
            "flex": null,
            "_model_name": "LayoutModel",
            "justify_items": null,
            "grid_row": null,
            "max_height": null,
            "align_content": null,
            "visibility": null,
            "align_self": null,
            "height": null,
            "min_height": null,
            "padding": null,
            "grid_auto_rows": null,
            "grid_gap": null,
            "max_width": null,
            "order": null,
            "_view_module_version": "1.2.0",
            "grid_template_areas": null,
            "object_position": null,
            "object_fit": null,
            "grid_auto_columns": null,
            "margin": null,
            "display": null,
            "left": null
          }
        },
        "a67b28529fb9411dab2b981d9f6c84f6": {
          "model_module": "@jupyter-widgets/controls",
          "model_name": "FloatProgressModel",
          "state": {
            "_view_name": "ProgressView",
            "style": "IPY_MODEL_24cea1f04ff24113a23ec5fcf7ef84c3",
            "_dom_classes": [],
            "description": "100%",
            "_model_name": "FloatProgressModel",
            "bar_style": "success",
            "max": 7,
            "_view_module": "@jupyter-widgets/controls",
            "_model_module_version": "1.5.0",
            "value": 7,
            "_view_count": null,
            "_view_module_version": "1.5.0",
            "orientation": "horizontal",
            "min": 0,
            "description_tooltip": null,
            "_model_module": "@jupyter-widgets/controls",
            "layout": "IPY_MODEL_71ab4c404745480481803c9d3f4b85fc"
          }
        },
        "b3a451c51c0444a0b9a395269909c496": {
          "model_module": "@jupyter-widgets/controls",
          "model_name": "HTMLModel",
          "state": {
            "_view_name": "HTMLView",
            "style": "IPY_MODEL_3839a97dea7c4571831c0bb5d89e4890",
            "_dom_classes": [],
            "description": "",
            "_model_name": "HTMLModel",
            "placeholder": "​",
            "_view_module": "@jupyter-widgets/controls",
            "_model_module_version": "1.5.0",
            "value": " 7/7 [00:08&lt;00:00,  1.21s/it]",
            "_view_count": null,
            "_view_module_version": "1.5.0",
            "description_tooltip": null,
            "_model_module": "@jupyter-widgets/controls",
            "layout": "IPY_MODEL_d6bb5f5da6904817b50588c3944f06ce"
          }
        },
        "24cea1f04ff24113a23ec5fcf7ef84c3": {
          "model_module": "@jupyter-widgets/controls",
          "model_name": "ProgressStyleModel",
          "state": {
            "_view_name": "StyleView",
            "_model_name": "ProgressStyleModel",
            "description_width": "initial",
            "_view_module": "@jupyter-widgets/base",
            "_model_module_version": "1.5.0",
            "_view_count": null,
            "_view_module_version": "1.2.0",
            "bar_color": null,
            "_model_module": "@jupyter-widgets/controls"
          }
        },
        "71ab4c404745480481803c9d3f4b85fc": {
          "model_module": "@jupyter-widgets/base",
          "model_name": "LayoutModel",
          "state": {
            "_view_name": "LayoutView",
            "grid_template_rows": null,
            "right": null,
            "justify_content": null,
            "_view_module": "@jupyter-widgets/base",
            "overflow": null,
            "_model_module_version": "1.2.0",
            "_view_count": null,
            "flex_flow": null,
            "width": null,
            "min_width": null,
            "border": null,
            "align_items": null,
            "bottom": null,
            "_model_module": "@jupyter-widgets/base",
            "top": null,
            "grid_column": null,
            "overflow_y": null,
            "overflow_x": null,
            "grid_auto_flow": null,
            "grid_area": null,
            "grid_template_columns": null,
            "flex": null,
            "_model_name": "LayoutModel",
            "justify_items": null,
            "grid_row": null,
            "max_height": null,
            "align_content": null,
            "visibility": null,
            "align_self": null,
            "height": null,
            "min_height": null,
            "padding": null,
            "grid_auto_rows": null,
            "grid_gap": null,
            "max_width": null,
            "order": null,
            "_view_module_version": "1.2.0",
            "grid_template_areas": null,
            "object_position": null,
            "object_fit": null,
            "grid_auto_columns": null,
            "margin": null,
            "display": null,
            "left": null
          }
        },
        "3839a97dea7c4571831c0bb5d89e4890": {
          "model_module": "@jupyter-widgets/controls",
          "model_name": "DescriptionStyleModel",
          "state": {
            "_view_name": "StyleView",
            "_model_name": "DescriptionStyleModel",
            "description_width": "",
            "_view_module": "@jupyter-widgets/base",
            "_model_module_version": "1.5.0",
            "_view_count": null,
            "_view_module_version": "1.2.0",
            "_model_module": "@jupyter-widgets/controls"
          }
        },
        "d6bb5f5da6904817b50588c3944f06ce": {
          "model_module": "@jupyter-widgets/base",
          "model_name": "LayoutModel",
          "state": {
            "_view_name": "LayoutView",
            "grid_template_rows": null,
            "right": null,
            "justify_content": null,
            "_view_module": "@jupyter-widgets/base",
            "overflow": null,
            "_model_module_version": "1.2.0",
            "_view_count": null,
            "flex_flow": null,
            "width": null,
            "min_width": null,
            "border": null,
            "align_items": null,
            "bottom": null,
            "_model_module": "@jupyter-widgets/base",
            "top": null,
            "grid_column": null,
            "overflow_y": null,
            "overflow_x": null,
            "grid_auto_flow": null,
            "grid_area": null,
            "grid_template_columns": null,
            "flex": null,
            "_model_name": "LayoutModel",
            "justify_items": null,
            "grid_row": null,
            "max_height": null,
            "align_content": null,
            "visibility": null,
            "align_self": null,
            "height": null,
            "min_height": null,
            "padding": null,
            "grid_auto_rows": null,
            "grid_gap": null,
            "max_width": null,
            "order": null,
            "_view_module_version": "1.2.0",
            "grid_template_areas": null,
            "object_position": null,
            "object_fit": null,
            "grid_auto_columns": null,
            "margin": null,
            "display": null,
            "left": null
          }
        },
        "07b93302c26f4706bf0ed979b2dcfdcc": {
          "model_module": "@jupyter-widgets/controls",
          "model_name": "HBoxModel",
          "state": {
            "_view_name": "HBoxView",
            "_dom_classes": [],
            "_model_name": "HBoxModel",
            "_view_module": "@jupyter-widgets/controls",
            "_model_module_version": "1.5.0",
            "_view_count": null,
            "_view_module_version": "1.5.0",
            "box_style": "",
            "layout": "IPY_MODEL_474c46c5156244e298007d98d23e3f85",
            "_model_module": "@jupyter-widgets/controls",
            "children": [
              "IPY_MODEL_5414298fd9084eb9b401e2b57ff47e58",
              "IPY_MODEL_d9b2695f88e14fad890ebd2015d3a48d"
            ]
          }
        },
        "474c46c5156244e298007d98d23e3f85": {
          "model_module": "@jupyter-widgets/base",
          "model_name": "LayoutModel",
          "state": {
            "_view_name": "LayoutView",
            "grid_template_rows": null,
            "right": null,
            "justify_content": null,
            "_view_module": "@jupyter-widgets/base",
            "overflow": null,
            "_model_module_version": "1.2.0",
            "_view_count": null,
            "flex_flow": null,
            "width": null,
            "min_width": null,
            "border": null,
            "align_items": null,
            "bottom": null,
            "_model_module": "@jupyter-widgets/base",
            "top": null,
            "grid_column": null,
            "overflow_y": null,
            "overflow_x": null,
            "grid_auto_flow": null,
            "grid_area": null,
            "grid_template_columns": null,
            "flex": null,
            "_model_name": "LayoutModel",
            "justify_items": null,
            "grid_row": null,
            "max_height": null,
            "align_content": null,
            "visibility": null,
            "align_self": null,
            "height": null,
            "min_height": null,
            "padding": null,
            "grid_auto_rows": null,
            "grid_gap": null,
            "max_width": null,
            "order": null,
            "_view_module_version": "1.2.0",
            "grid_template_areas": null,
            "object_position": null,
            "object_fit": null,
            "grid_auto_columns": null,
            "margin": null,
            "display": null,
            "left": null
          }
        },
        "5414298fd9084eb9b401e2b57ff47e58": {
          "model_module": "@jupyter-widgets/controls",
          "model_name": "FloatProgressModel",
          "state": {
            "_view_name": "ProgressView",
            "style": "IPY_MODEL_2de5b7ad8ac441059e1dd58cbd5bd72c",
            "_dom_classes": [],
            "description": "",
            "_model_name": "FloatProgressModel",
            "bar_style": "success",
            "max": 7,
            "_view_module": "@jupyter-widgets/controls",
            "_model_module_version": "1.5.0",
            "value": 7,
            "_view_count": null,
            "_view_module_version": "1.5.0",
            "orientation": "horizontal",
            "min": 0,
            "description_tooltip": null,
            "_model_module": "@jupyter-widgets/controls",
            "layout": "IPY_MODEL_eef1bcd19f7d47bcbede6f1d5c976e88"
          }
        },
        "d9b2695f88e14fad890ebd2015d3a48d": {
          "model_module": "@jupyter-widgets/controls",
          "model_name": "HTMLModel",
          "state": {
            "_view_name": "HTMLView",
            "style": "IPY_MODEL_1f0515e1a34a45d2b11df7f9fe96462e",
            "_dom_classes": [],
            "description": "",
            "_model_name": "HTMLModel",
            "placeholder": "​",
            "_view_module": "@jupyter-widgets/controls",
            "_model_module_version": "1.5.0",
            "value": " 161/? [01:40&lt;00:00,  1.60it/s]",
            "_view_count": null,
            "_view_module_version": "1.5.0",
            "description_tooltip": null,
            "_model_module": "@jupyter-widgets/controls",
            "layout": "IPY_MODEL_5527bc1e0de64cb08d3bab4840df7da5"
          }
        },
        "2de5b7ad8ac441059e1dd58cbd5bd72c": {
          "model_module": "@jupyter-widgets/controls",
          "model_name": "ProgressStyleModel",
          "state": {
            "_view_name": "StyleView",
            "_model_name": "ProgressStyleModel",
            "description_width": "initial",
            "_view_module": "@jupyter-widgets/base",
            "_model_module_version": "1.5.0",
            "_view_count": null,
            "_view_module_version": "1.2.0",
            "bar_color": null,
            "_model_module": "@jupyter-widgets/controls"
          }
        },
        "eef1bcd19f7d47bcbede6f1d5c976e88": {
          "model_module": "@jupyter-widgets/base",
          "model_name": "LayoutModel",
          "state": {
            "_view_name": "LayoutView",
            "grid_template_rows": null,
            "right": null,
            "justify_content": null,
            "_view_module": "@jupyter-widgets/base",
            "overflow": null,
            "_model_module_version": "1.2.0",
            "_view_count": null,
            "flex_flow": null,
            "width": null,
            "min_width": null,
            "border": null,
            "align_items": null,
            "bottom": null,
            "_model_module": "@jupyter-widgets/base",
            "top": null,
            "grid_column": null,
            "overflow_y": null,
            "overflow_x": null,
            "grid_auto_flow": null,
            "grid_area": null,
            "grid_template_columns": null,
            "flex": null,
            "_model_name": "LayoutModel",
            "justify_items": null,
            "grid_row": null,
            "max_height": null,
            "align_content": null,
            "visibility": null,
            "align_self": null,
            "height": null,
            "min_height": null,
            "padding": null,
            "grid_auto_rows": null,
            "grid_gap": null,
            "max_width": null,
            "order": null,
            "_view_module_version": "1.2.0",
            "grid_template_areas": null,
            "object_position": null,
            "object_fit": null,
            "grid_auto_columns": null,
            "margin": null,
            "display": null,
            "left": null
          }
        },
        "1f0515e1a34a45d2b11df7f9fe96462e": {
          "model_module": "@jupyter-widgets/controls",
          "model_name": "DescriptionStyleModel",
          "state": {
            "_view_name": "StyleView",
            "_model_name": "DescriptionStyleModel",
            "description_width": "",
            "_view_module": "@jupyter-widgets/base",
            "_model_module_version": "1.5.0",
            "_view_count": null,
            "_view_module_version": "1.2.0",
            "_model_module": "@jupyter-widgets/controls"
          }
        },
        "5527bc1e0de64cb08d3bab4840df7da5": {
          "model_module": "@jupyter-widgets/base",
          "model_name": "LayoutModel",
          "state": {
            "_view_name": "LayoutView",
            "grid_template_rows": null,
            "right": null,
            "justify_content": null,
            "_view_module": "@jupyter-widgets/base",
            "overflow": null,
            "_model_module_version": "1.2.0",
            "_view_count": null,
            "flex_flow": null,
            "width": null,
            "min_width": null,
            "border": null,
            "align_items": null,
            "bottom": null,
            "_model_module": "@jupyter-widgets/base",
            "top": null,
            "grid_column": null,
            "overflow_y": null,
            "overflow_x": null,
            "grid_auto_flow": null,
            "grid_area": null,
            "grid_template_columns": null,
            "flex": null,
            "_model_name": "LayoutModel",
            "justify_items": null,
            "grid_row": null,
            "max_height": null,
            "align_content": null,
            "visibility": null,
            "align_self": null,
            "height": null,
            "min_height": null,
            "padding": null,
            "grid_auto_rows": null,
            "grid_gap": null,
            "max_width": null,
            "order": null,
            "_view_module_version": "1.2.0",
            "grid_template_areas": null,
            "object_position": null,
            "object_fit": null,
            "grid_auto_columns": null,
            "margin": null,
            "display": null,
            "left": null
          }
        },
        "68b1d672ec60458e83f2ac7dcf999a78": {
          "model_module": "@jupyter-widgets/controls",
          "model_name": "HBoxModel",
          "state": {
            "_view_name": "HBoxView",
            "_dom_classes": [],
            "_model_name": "HBoxModel",
            "_view_module": "@jupyter-widgets/controls",
            "_model_module_version": "1.5.0",
            "_view_count": null,
            "_view_module_version": "1.5.0",
            "box_style": "",
            "layout": "IPY_MODEL_e7cec90be3af4a359e535d94d5c0b9d4",
            "_model_module": "@jupyter-widgets/controls",
            "children": [
              "IPY_MODEL_55151c83006a431997d35f5c7c3dcc94",
              "IPY_MODEL_88fafa6309754e759907ae056dcb39e7"
            ]
          }
        },
        "e7cec90be3af4a359e535d94d5c0b9d4": {
          "model_module": "@jupyter-widgets/base",
          "model_name": "LayoutModel",
          "state": {
            "_view_name": "LayoutView",
            "grid_template_rows": null,
            "right": null,
            "justify_content": null,
            "_view_module": "@jupyter-widgets/base",
            "overflow": null,
            "_model_module_version": "1.2.0",
            "_view_count": null,
            "flex_flow": null,
            "width": null,
            "min_width": null,
            "border": null,
            "align_items": null,
            "bottom": null,
            "_model_module": "@jupyter-widgets/base",
            "top": null,
            "grid_column": null,
            "overflow_y": null,
            "overflow_x": null,
            "grid_auto_flow": null,
            "grid_area": null,
            "grid_template_columns": null,
            "flex": null,
            "_model_name": "LayoutModel",
            "justify_items": null,
            "grid_row": null,
            "max_height": null,
            "align_content": null,
            "visibility": null,
            "align_self": null,
            "height": null,
            "min_height": null,
            "padding": null,
            "grid_auto_rows": null,
            "grid_gap": null,
            "max_width": null,
            "order": null,
            "_view_module_version": "1.2.0",
            "grid_template_areas": null,
            "object_position": null,
            "object_fit": null,
            "grid_auto_columns": null,
            "margin": null,
            "display": null,
            "left": null
          }
        },
        "55151c83006a431997d35f5c7c3dcc94": {
          "model_module": "@jupyter-widgets/controls",
          "model_name": "FloatProgressModel",
          "state": {
            "_view_name": "ProgressView",
            "style": "IPY_MODEL_229776e2db2f4d7fab001cbc062f4a88",
            "_dom_classes": [],
            "description": "100%",
            "_model_name": "FloatProgressModel",
            "bar_style": "success",
            "max": 7,
            "_view_module": "@jupyter-widgets/controls",
            "_model_module_version": "1.5.0",
            "value": 7,
            "_view_count": null,
            "_view_module_version": "1.5.0",
            "orientation": "horizontal",
            "min": 0,
            "description_tooltip": null,
            "_model_module": "@jupyter-widgets/controls",
            "layout": "IPY_MODEL_6bd0f9775c964014a1b8d632a29377d4"
          }
        },
        "88fafa6309754e759907ae056dcb39e7": {
          "model_module": "@jupyter-widgets/controls",
          "model_name": "HTMLModel",
          "state": {
            "_view_name": "HTMLView",
            "style": "IPY_MODEL_58d75a9ae4ff43ccbac6c5a24929a86b",
            "_dom_classes": [],
            "description": "",
            "_model_name": "HTMLModel",
            "placeholder": "​",
            "_view_module": "@jupyter-widgets/controls",
            "_model_module_version": "1.5.0",
            "value": " 7/7 [00:08&lt;00:00,  1.20s/it]",
            "_view_count": null,
            "_view_module_version": "1.5.0",
            "description_tooltip": null,
            "_model_module": "@jupyter-widgets/controls",
            "layout": "IPY_MODEL_43b6f8b08d504da581b496bfac7e33b0"
          }
        },
        "229776e2db2f4d7fab001cbc062f4a88": {
          "model_module": "@jupyter-widgets/controls",
          "model_name": "ProgressStyleModel",
          "state": {
            "_view_name": "StyleView",
            "_model_name": "ProgressStyleModel",
            "description_width": "initial",
            "_view_module": "@jupyter-widgets/base",
            "_model_module_version": "1.5.0",
            "_view_count": null,
            "_view_module_version": "1.2.0",
            "bar_color": null,
            "_model_module": "@jupyter-widgets/controls"
          }
        },
        "6bd0f9775c964014a1b8d632a29377d4": {
          "model_module": "@jupyter-widgets/base",
          "model_name": "LayoutModel",
          "state": {
            "_view_name": "LayoutView",
            "grid_template_rows": null,
            "right": null,
            "justify_content": null,
            "_view_module": "@jupyter-widgets/base",
            "overflow": null,
            "_model_module_version": "1.2.0",
            "_view_count": null,
            "flex_flow": null,
            "width": null,
            "min_width": null,
            "border": null,
            "align_items": null,
            "bottom": null,
            "_model_module": "@jupyter-widgets/base",
            "top": null,
            "grid_column": null,
            "overflow_y": null,
            "overflow_x": null,
            "grid_auto_flow": null,
            "grid_area": null,
            "grid_template_columns": null,
            "flex": null,
            "_model_name": "LayoutModel",
            "justify_items": null,
            "grid_row": null,
            "max_height": null,
            "align_content": null,
            "visibility": null,
            "align_self": null,
            "height": null,
            "min_height": null,
            "padding": null,
            "grid_auto_rows": null,
            "grid_gap": null,
            "max_width": null,
            "order": null,
            "_view_module_version": "1.2.0",
            "grid_template_areas": null,
            "object_position": null,
            "object_fit": null,
            "grid_auto_columns": null,
            "margin": null,
            "display": null,
            "left": null
          }
        },
        "58d75a9ae4ff43ccbac6c5a24929a86b": {
          "model_module": "@jupyter-widgets/controls",
          "model_name": "DescriptionStyleModel",
          "state": {
            "_view_name": "StyleView",
            "_model_name": "DescriptionStyleModel",
            "description_width": "",
            "_view_module": "@jupyter-widgets/base",
            "_model_module_version": "1.5.0",
            "_view_count": null,
            "_view_module_version": "1.2.0",
            "_model_module": "@jupyter-widgets/controls"
          }
        },
        "43b6f8b08d504da581b496bfac7e33b0": {
          "model_module": "@jupyter-widgets/base",
          "model_name": "LayoutModel",
          "state": {
            "_view_name": "LayoutView",
            "grid_template_rows": null,
            "right": null,
            "justify_content": null,
            "_view_module": "@jupyter-widgets/base",
            "overflow": null,
            "_model_module_version": "1.2.0",
            "_view_count": null,
            "flex_flow": null,
            "width": null,
            "min_width": null,
            "border": null,
            "align_items": null,
            "bottom": null,
            "_model_module": "@jupyter-widgets/base",
            "top": null,
            "grid_column": null,
            "overflow_y": null,
            "overflow_x": null,
            "grid_auto_flow": null,
            "grid_area": null,
            "grid_template_columns": null,
            "flex": null,
            "_model_name": "LayoutModel",
            "justify_items": null,
            "grid_row": null,
            "max_height": null,
            "align_content": null,
            "visibility": null,
            "align_self": null,
            "height": null,
            "min_height": null,
            "padding": null,
            "grid_auto_rows": null,
            "grid_gap": null,
            "max_width": null,
            "order": null,
            "_view_module_version": "1.2.0",
            "grid_template_areas": null,
            "object_position": null,
            "object_fit": null,
            "grid_auto_columns": null,
            "margin": null,
            "display": null,
            "left": null
          }
        }
      }
    }
  },
  "cells": [
    {
      "cell_type": "markdown",
      "metadata": {
        "id": "view-in-github",
        "colab_type": "text"
      },
      "source": [
        "<a href=\"https://colab.research.google.com/github/YIKUAN8/Transformers-VQA/blob/master/openI_VQA.ipynb\" target=\"_parent\"><img src=\"https://colab.research.google.com/assets/colab-badge.svg\" alt=\"Open In Colab\"/></a>"
      ]
    },
    {
      "cell_type": "markdown",
      "metadata": {
        "id": "kWvznJyKtdWm",
        "colab_type": "text"
      },
      "source": [
        "**In this notebook, we will classify 15 thoracic findings from Chest X-ray images and associated reports. This can be considered as an VQA task. We will fine-tune 3 pre-trained transformer based V+L models. After running through this notebook, you will be able to fine-tune these models on your customized dataset.**\n",
        "\n",
        "####**0.1 clone our repo and install dependencies!**\n"
      ]
    },
    {
      "cell_type": "code",
      "metadata": {
        "id": "3uk1gG1wtaHf",
        "colab_type": "code",
        "colab": {
          "base_uri": "https://localhost:8080/",
          "height": 445
        },
        "outputId": "ff1589f3-1a27-4e22-de8e-54827ef8402f"
      },
      "source": [
        "!git clone https://github.com/YIKUAN8/Transformers-VQA.git\n",
        "%cd Transformers-VQA/\n",
        "!pip install -r requirements.txt\n"
      ],
      "execution_count": 1,
      "outputs": [
        {
          "output_type": "stream",
          "text": [
            "Cloning into 'Transformers-VQA'...\n",
            "remote: Enumerating objects: 140, done.\u001b[K\n",
            "remote: Counting objects: 100% (140/140), done.\u001b[K\n",
            "remote: Compressing objects: 100% (122/122), done.\u001b[K\n",
            "remote: Total 140 (delta 40), reused 0 (delta 0), pack-reused 0\u001b[K\n",
            "Receiving objects: 100% (140/140), 1.92 MiB | 5.48 MiB/s, done.\n",
            "Resolving deltas: 100% (40/40), done.\n",
            "/content/Transformers-VQA\n",
            "Requirement already satisfied: torch>=1.0.0 in /usr/local/lib/python3.6/dist-packages (from -r requirements.txt (line 6)) (1.6.0+cu101)\n",
            "Requirement already satisfied: tqdm in /usr/local/lib/python3.6/dist-packages (from -r requirements.txt (line 8)) (4.41.1)\n",
            "Requirement already satisfied: boto3 in /usr/local/lib/python3.6/dist-packages (from -r requirements.txt (line 10)) (1.14.48)\n",
            "Requirement already satisfied: requests in /usr/local/lib/python3.6/dist-packages (from -r requirements.txt (line 12)) (2.23.0)\n",
            "Requirement already satisfied: numpy in /usr/local/lib/python3.6/dist-packages (from -r requirements.txt (line 14)) (1.18.5)\n",
            "Requirement already satisfied: future in /usr/local/lib/python3.6/dist-packages (from torch>=1.0.0->-r requirements.txt (line 6)) (0.16.0)\n",
            "Requirement already satisfied: botocore<1.18.0,>=1.17.48 in /usr/local/lib/python3.6/dist-packages (from boto3->-r requirements.txt (line 10)) (1.17.48)\n",
            "Requirement already satisfied: jmespath<1.0.0,>=0.7.1 in /usr/local/lib/python3.6/dist-packages (from boto3->-r requirements.txt (line 10)) (0.10.0)\n",
            "Requirement already satisfied: s3transfer<0.4.0,>=0.3.0 in /usr/local/lib/python3.6/dist-packages (from boto3->-r requirements.txt (line 10)) (0.3.3)\n",
            "Requirement already satisfied: idna<3,>=2.5 in /usr/local/lib/python3.6/dist-packages (from requests->-r requirements.txt (line 12)) (2.10)\n",
            "Requirement already satisfied: urllib3!=1.25.0,!=1.25.1,<1.26,>=1.21.1 in /usr/local/lib/python3.6/dist-packages (from requests->-r requirements.txt (line 12)) (1.24.3)\n",
            "Requirement already satisfied: chardet<4,>=3.0.2 in /usr/local/lib/python3.6/dist-packages (from requests->-r requirements.txt (line 12)) (3.0.4)\n",
            "Requirement already satisfied: certifi>=2017.4.17 in /usr/local/lib/python3.6/dist-packages (from requests->-r requirements.txt (line 12)) (2020.6.20)\n",
            "Requirement already satisfied: python-dateutil<3.0.0,>=2.1 in /usr/local/lib/python3.6/dist-packages (from botocore<1.18.0,>=1.17.48->boto3->-r requirements.txt (line 10)) (2.8.1)\n",
            "Requirement already satisfied: docutils<0.16,>=0.10 in /usr/local/lib/python3.6/dist-packages (from botocore<1.18.0,>=1.17.48->boto3->-r requirements.txt (line 10)) (0.15.2)\n",
            "Requirement already satisfied: six>=1.5 in /usr/local/lib/python3.6/dist-packages (from python-dateutil<3.0.0,>=2.1->botocore<1.18.0,>=1.17.48->boto3->-r requirements.txt (line 10)) (1.15.0)\n"
          ],
          "name": "stdout"
        }
      ]
    },
    {
      "cell_type": "markdown",
      "metadata": {
        "id": "xb8-z6tYBLFr",
        "colab_type": "text"
      },
      "source": [
        "**Change the 79th line of param.py from**\n",
        "```\n",
        "args = parser.parse_args()\n",
        "```\n",
        "to\n",
        "```\n",
        "args = parser.parse_args([])\n",
        "```\n",
        "This will enable us to use *argparse* in jupyter notebook!\n",
        "\n"
      ]
    },
    {
      "cell_type": "markdown",
      "metadata": {
        "id": "YxFGskafyP2L",
        "colab_type": "text"
      },
      "source": [
        "####**0.2 Download pre-trained models and place them to data/pretrained/, you could choose from [VisualBERT](https://github.com/uclanlp/visualbert), [LXMERT](https://github.com/airsplay/lxmert), [UNITER](https://github.com/ChenRocks/UNITER).**"
      ]
    },
    {
      "cell_type": "code",
      "metadata": {
        "id": "lHTrgovTxEQk",
        "colab_type": "code",
        "colab": {
          "base_uri": "https://localhost:8080/",
          "height": 853
        },
        "outputId": "77bce656-67db-41b4-92e5-b95eec0c43ca"
      },
      "source": [
        "#line 1: UNITER; line 2:LXMERT, line 3: VisualBERT. Comment out selected lines if you don't want to use this model\n",
        "#if the pre-trained VisualBERT cannot be downloaded succesfully, rerun one more time or refer to this link: https://drive.google.com/file/d/1kuPr187zWxSJbtCbVW87XzInXltM-i9Y/view?usp=sharing\n",
        "!wget https://convaisharables.blob.core.windows.net/uniter/pretrained/uniter-base.pt -P models/pretrained/\n",
        "!wget --no-check-certificate https://nlp1.cs.unc.edu/data/model_LXRT.pth -P models/pretrained/\n",
        "!wget --load-cookies /tmp/cookies.txt \"https://docs.google.com/uc?export=download&confirm=$(wget --quiet --save-cookies /tmp/cookies.txt --keep-session-cookies --no-check-certificate 'https://docs.google.com/uc?export=download&id=1kuPr187zWxSJbtCbVW87XzInXltM-i9Y' -O- | sed -rn 's/.*confirm=([0-9A-Za-z_]+).*/\\1\\n/p')&id=1kuPr187zWxSJbtCbVW87XzInXltM-i9Y\" -O models/pretrained/visualbert.th && rm -rf /tmp/cookies.txt\n"
      ],
      "execution_count": 2,
      "outputs": [
        {
          "output_type": "stream",
          "text": [
            "--2020-09-06 04:03:41--  https://convaisharables.blob.core.windows.net/uniter/pretrained/uniter-base.pt\n",
            "Resolving convaisharables.blob.core.windows.net (convaisharables.blob.core.windows.net)... 13.77.184.64\n",
            "Connecting to convaisharables.blob.core.windows.net (convaisharables.blob.core.windows.net)|13.77.184.64|:443... connected.\n",
            "HTTP request sent, awaiting response... 200 OK\n",
            "Length: 273600756 (261M) [application/octet-stream]\n",
            "Saving to: ‘models/pretrained/uniter-base.pt’\n",
            "\n",
            "uniter-base.pt      100%[===================>] 260.93M  81.4MB/s    in 3.2s    \n",
            "\n",
            "2020-09-06 04:03:45 (81.4 MB/s) - ‘models/pretrained/uniter-base.pt’ saved [273600756/273600756]\n",
            "\n",
            "--2020-09-06 04:03:45--  https://nlp1.cs.unc.edu/data/model_LXRT.pth\n",
            "Resolving nlp1.cs.unc.edu (nlp1.cs.unc.edu)... 152.2.142.178\n",
            "Connecting to nlp1.cs.unc.edu (nlp1.cs.unc.edu)|152.2.142.178|:443... connected.\n",
            "WARNING: no certificate subject alternative name matches\n",
            "\trequested host name ‘nlp1.cs.unc.edu’.\n",
            "HTTP request sent, awaiting response... 200 OK\n",
            "Length: 912336661 (870M)\n",
            "Saving to: ‘models/pretrained/model_LXRT.pth’\n",
            "\n",
            "model_LXRT.pth      100%[===================>] 870.07M  32.8MB/s    in 25s     \n",
            "\n",
            "2020-09-06 04:04:10 (34.9 MB/s) - ‘models/pretrained/model_LXRT.pth’ saved [912336661/912336661]\n",
            "\n",
            "--2020-09-06 04:04:10--  https://docs.google.com/uc?export=download&confirm=7JFj&id=1kuPr187zWxSJbtCbVW87XzInXltM-i9Y\n",
            "Resolving docs.google.com (docs.google.com)... 74.125.142.113, 74.125.142.101, 74.125.142.138, ...\n",
            "Connecting to docs.google.com (docs.google.com)|74.125.142.113|:443... connected.\n",
            "HTTP request sent, awaiting response... 302 Moved Temporarily\n",
            "Location: https://doc-0k-bg-docs.googleusercontent.com/docs/securesc/31d6lmaombq1h99jfe081l3eof7v28q0/9d6be19qj38t83pckmmvab57r10g3p0u/1599365025000/12682199137908966719/13329583650299206431Z/1kuPr187zWxSJbtCbVW87XzInXltM-i9Y?e=download [following]\n",
            "--2020-09-06 04:04:11--  https://doc-0k-bg-docs.googleusercontent.com/docs/securesc/31d6lmaombq1h99jfe081l3eof7v28q0/9d6be19qj38t83pckmmvab57r10g3p0u/1599365025000/12682199137908966719/13329583650299206431Z/1kuPr187zWxSJbtCbVW87XzInXltM-i9Y?e=download\n",
            "Resolving doc-0k-bg-docs.googleusercontent.com (doc-0k-bg-docs.googleusercontent.com)... 74.125.142.132, 2607:f8b0:400e:c08::84\n",
            "Connecting to doc-0k-bg-docs.googleusercontent.com (doc-0k-bg-docs.googleusercontent.com)|74.125.142.132|:443... connected.\n",
            "HTTP request sent, awaiting response... 302 Found\n",
            "Location: https://docs.google.com/nonceSigner?nonce=rml9s76a2hurs&continue=https://doc-0k-bg-docs.googleusercontent.com/docs/securesc/31d6lmaombq1h99jfe081l3eof7v28q0/9d6be19qj38t83pckmmvab57r10g3p0u/1599365025000/12682199137908966719/13329583650299206431Z/1kuPr187zWxSJbtCbVW87XzInXltM-i9Y?e%3Ddownload&hash=cq9slasru4bhqn0pqj5pqk9l6hnmsh2p [following]\n",
            "--2020-09-06 04:04:11--  https://docs.google.com/nonceSigner?nonce=rml9s76a2hurs&continue=https://doc-0k-bg-docs.googleusercontent.com/docs/securesc/31d6lmaombq1h99jfe081l3eof7v28q0/9d6be19qj38t83pckmmvab57r10g3p0u/1599365025000/12682199137908966719/13329583650299206431Z/1kuPr187zWxSJbtCbVW87XzInXltM-i9Y?e%3Ddownload&hash=cq9slasru4bhqn0pqj5pqk9l6hnmsh2p\n",
            "Connecting to docs.google.com (docs.google.com)|74.125.142.113|:443... connected.\n",
            "HTTP request sent, awaiting response... 302 Found\n",
            "Location: https://doc-0k-bg-docs.googleusercontent.com/docs/securesc/31d6lmaombq1h99jfe081l3eof7v28q0/9d6be19qj38t83pckmmvab57r10g3p0u/1599365025000/12682199137908966719/13329583650299206431Z/1kuPr187zWxSJbtCbVW87XzInXltM-i9Y?e=download&nonce=rml9s76a2hurs&user=13329583650299206431Z&hash=0g59a57dgi6ima3ic4h04n2lj8i0v904 [following]\n",
            "--2020-09-06 04:04:11--  https://doc-0k-bg-docs.googleusercontent.com/docs/securesc/31d6lmaombq1h99jfe081l3eof7v28q0/9d6be19qj38t83pckmmvab57r10g3p0u/1599365025000/12682199137908966719/13329583650299206431Z/1kuPr187zWxSJbtCbVW87XzInXltM-i9Y?e=download&nonce=rml9s76a2hurs&user=13329583650299206431Z&hash=0g59a57dgi6ima3ic4h04n2lj8i0v904\n",
            "Connecting to doc-0k-bg-docs.googleusercontent.com (doc-0k-bg-docs.googleusercontent.com)|74.125.142.132|:443... connected.\n",
            "HTTP request sent, awaiting response... 200 OK\n",
            "Length: unspecified [application/octet-stream]\n",
            "Saving to: ‘models/pretrained/visualbert.th’\n",
            "\n",
            "models/pretrained/v     [               <=>  ] 427.58M  92.6MB/s    in 4.7s    \n",
            "\n",
            "2020-09-06 04:04:16 (90.3 MB/s) - ‘models/pretrained/visualbert.th’ saved [448353963]\n",
            "\n"
          ],
          "name": "stdout"
        }
      ]
    },
    {
      "cell_type": "markdown",
      "metadata": {
        "id": "qNuJtgvu2b6Q",
        "colab_type": "text"
      },
      "source": [
        "####**0.3 Download OpenI dataset.**\n",
        "\n",
        "A detailed description of this dataset can be found at [here](https://openi.nlm.nih.gov/). In summary, there are 3684 CXR Image-Report pairs in this dataset. Each pair has an annotation of 15 throacic findings from MESH terms. We convert the raw data to a dataframe with better visibility. It can be accessed with the following command or this [link](https://drive.google.com/file/d/1i3wcfXJbH_4q3rS2rvLxtzbMiO-KuZCG/view?usp=sharing)."
      ]
    },
    {
      "cell_type": "code",
      "metadata": {
        "id": "3LtT2R7f182I",
        "colab_type": "code",
        "colab": {
          "base_uri": "https://localhost:8080/",
          "height": 445
        },
        "outputId": "2a5c42fb-a1ea-4810-cea2-4f22ba2b0572"
      },
      "source": [
        "!wget --load-cookies /tmp/cookies.txt \"https://docs.google.com/uc?export=download&confirm=$(wget --quiet --save-cookies /tmp/cookies.txt --keep-session-cookies --no-check-certificate 'https://docs.google.com/uc?export=download&id=1i3wcfXJbH_4q3rS2rvLxtzbMiO-KuZCG' -O- | sed -rn 's/.*confirm=([0-9A-Za-z_]+).*/\\1\\n/p')&id=1i3wcfXJbH_4q3rS2rvLxtzbMiO-KuZCG\" -O data/openIdf.csv && rm -rf /tmp/cookies.txt\n"
      ],
      "execution_count": 3,
      "outputs": [
        {
          "output_type": "stream",
          "text": [
            "--2020-09-06 04:04:28--  https://docs.google.com/uc?export=download&confirm=&id=1i3wcfXJbH_4q3rS2rvLxtzbMiO-KuZCG\n",
            "Resolving docs.google.com (docs.google.com)... 74.125.195.139, 74.125.195.102, 74.125.195.100, ...\n",
            "Connecting to docs.google.com (docs.google.com)|74.125.195.139|:443... connected.\n",
            "HTTP request sent, awaiting response... 302 Moved Temporarily\n",
            "Location: https://doc-10-7c-docs.googleusercontent.com/docs/securesc/26hanb4b42dlebdr1jtffqlfbuactei1/0bsku8rqimbeld6qscr8te4hn4n1r54l/1599365025000/09550986323973647809/13314145366510543445Z/1i3wcfXJbH_4q3rS2rvLxtzbMiO-KuZCG?e=download [following]\n",
            "--2020-09-06 04:04:28--  https://doc-10-7c-docs.googleusercontent.com/docs/securesc/26hanb4b42dlebdr1jtffqlfbuactei1/0bsku8rqimbeld6qscr8te4hn4n1r54l/1599365025000/09550986323973647809/13314145366510543445Z/1i3wcfXJbH_4q3rS2rvLxtzbMiO-KuZCG?e=download\n",
            "Resolving doc-10-7c-docs.googleusercontent.com (doc-10-7c-docs.googleusercontent.com)... 74.125.142.132, 2607:f8b0:400e:c08::84\n",
            "Connecting to doc-10-7c-docs.googleusercontent.com (doc-10-7c-docs.googleusercontent.com)|74.125.142.132|:443... connected.\n",
            "HTTP request sent, awaiting response... 302 Found\n",
            "Location: https://docs.google.com/nonceSigner?nonce=r0rq8shdl6m7a&continue=https://doc-10-7c-docs.googleusercontent.com/docs/securesc/26hanb4b42dlebdr1jtffqlfbuactei1/0bsku8rqimbeld6qscr8te4hn4n1r54l/1599365025000/09550986323973647809/13314145366510543445Z/1i3wcfXJbH_4q3rS2rvLxtzbMiO-KuZCG?e%3Ddownload&hash=njpvtanjc5purc3p95l4es8lhheriqla [following]\n",
            "--2020-09-06 04:04:28--  https://docs.google.com/nonceSigner?nonce=r0rq8shdl6m7a&continue=https://doc-10-7c-docs.googleusercontent.com/docs/securesc/26hanb4b42dlebdr1jtffqlfbuactei1/0bsku8rqimbeld6qscr8te4hn4n1r54l/1599365025000/09550986323973647809/13314145366510543445Z/1i3wcfXJbH_4q3rS2rvLxtzbMiO-KuZCG?e%3Ddownload&hash=njpvtanjc5purc3p95l4es8lhheriqla\n",
            "Connecting to docs.google.com (docs.google.com)|74.125.195.139|:443... connected.\n",
            "HTTP request sent, awaiting response... 302 Found\n",
            "Location: https://doc-10-7c-docs.googleusercontent.com/docs/securesc/26hanb4b42dlebdr1jtffqlfbuactei1/0bsku8rqimbeld6qscr8te4hn4n1r54l/1599365025000/09550986323973647809/13314145366510543445Z/1i3wcfXJbH_4q3rS2rvLxtzbMiO-KuZCG?e=download&nonce=r0rq8shdl6m7a&user=13314145366510543445Z&hash=9er9g8hj6d1bk20p5gtno8hv2777ba25 [following]\n",
            "--2020-09-06 04:04:28--  https://doc-10-7c-docs.googleusercontent.com/docs/securesc/26hanb4b42dlebdr1jtffqlfbuactei1/0bsku8rqimbeld6qscr8te4hn4n1r54l/1599365025000/09550986323973647809/13314145366510543445Z/1i3wcfXJbH_4q3rS2rvLxtzbMiO-KuZCG?e=download&nonce=r0rq8shdl6m7a&user=13314145366510543445Z&hash=9er9g8hj6d1bk20p5gtno8hv2777ba25\n",
            "Connecting to doc-10-7c-docs.googleusercontent.com (doc-10-7c-docs.googleusercontent.com)|74.125.142.132|:443... connected.\n",
            "HTTP request sent, awaiting response... 200 OK\n",
            "Length: 1138211 (1.1M) [text/csv]\n",
            "Saving to: ‘data/openIdf.csv’\n",
            "\n",
            "data/openIdf.csv    100%[===================>]   1.08M  --.-KB/s    in 0.008s  \n",
            "\n",
            "2020-09-06 04:04:29 (138 MB/s) - ‘data/openIdf.csv’ saved [1138211/1138211]\n",
            "\n"
          ],
          "name": "stdout"
        }
      ]
    },
    {
      "cell_type": "markdown",
      "metadata": {
        "id": "Jj4Bb46J544J",
        "colab_type": "text"
      },
      "source": [
        "***0.3.1 Have a glance of this dataframe, column 'TXT' is the radiology report; column 'split' and 'id' are self-explantory; All other columns are the 15 findings. Our task will be a 15-labels binary classification with visual and semantic input.***"
      ]
    },
    {
      "cell_type": "code",
      "metadata": {
        "id": "QYRxsh7G5xGK",
        "colab_type": "code",
        "colab": {
          "base_uri": "https://localhost:8080/",
          "height": 479
        },
        "outputId": "88870b26-ddc7-4959-a868-b55dbffcd91e"
      },
      "source": [
        "import pandas as pd\n",
        "openI = pd.read_csv('data/openIdf.csv',index_col=0)\n",
        "openI.head()"
      ],
      "execution_count": 4,
      "outputs": [
        {
          "output_type": "execute_result",
          "data": {
            "text/html": [
              "<div>\n",
              "<style scoped>\n",
              "    .dataframe tbody tr th:only-of-type {\n",
              "        vertical-align: middle;\n",
              "    }\n",
              "\n",
              "    .dataframe tbody tr th {\n",
              "        vertical-align: top;\n",
              "    }\n",
              "\n",
              "    .dataframe thead th {\n",
              "        text-align: right;\n",
              "    }\n",
              "</style>\n",
              "<table border=\"1\" class=\"dataframe\">\n",
              "  <thead>\n",
              "    <tr style=\"text-align: right;\">\n",
              "      <th></th>\n",
              "      <th>id</th>\n",
              "      <th>Atelectasis</th>\n",
              "      <th>Cardiomegaly</th>\n",
              "      <th>Effusion</th>\n",
              "      <th>Infiltration</th>\n",
              "      <th>Mass</th>\n",
              "      <th>Nodule</th>\n",
              "      <th>Pneumonia</th>\n",
              "      <th>Pneumothorax</th>\n",
              "      <th>Consolidation</th>\n",
              "      <th>Edema</th>\n",
              "      <th>Emphysema</th>\n",
              "      <th>Fibrosis</th>\n",
              "      <th>Pleural_Thickening</th>\n",
              "      <th>Hernia</th>\n",
              "      <th>Normal</th>\n",
              "      <th>split</th>\n",
              "      <th>TXT</th>\n",
              "    </tr>\n",
              "  </thead>\n",
              "  <tbody>\n",
              "    <tr>\n",
              "      <th>0</th>\n",
              "      <td>1</td>\n",
              "      <td>0</td>\n",
              "      <td>0</td>\n",
              "      <td>0</td>\n",
              "      <td>0</td>\n",
              "      <td>0</td>\n",
              "      <td>0</td>\n",
              "      <td>0</td>\n",
              "      <td>0</td>\n",
              "      <td>0</td>\n",
              "      <td>0</td>\n",
              "      <td>0</td>\n",
              "      <td>0</td>\n",
              "      <td>0</td>\n",
              "      <td>0</td>\n",
              "      <td>1</td>\n",
              "      <td>train</td>\n",
              "      <td>The cardiac silhouette and mediastinum size ar...</td>\n",
              "    </tr>\n",
              "    <tr>\n",
              "      <th>1021</th>\n",
              "      <td>2</td>\n",
              "      <td>0</td>\n",
              "      <td>1</td>\n",
              "      <td>0</td>\n",
              "      <td>0</td>\n",
              "      <td>0</td>\n",
              "      <td>0</td>\n",
              "      <td>0</td>\n",
              "      <td>0</td>\n",
              "      <td>0</td>\n",
              "      <td>0</td>\n",
              "      <td>0</td>\n",
              "      <td>0</td>\n",
              "      <td>0</td>\n",
              "      <td>0</td>\n",
              "      <td>0</td>\n",
              "      <td>train</td>\n",
              "      <td>Borderline cardiomegaly. Midline sternotomy XX...</td>\n",
              "    </tr>\n",
              "    <tr>\n",
              "      <th>2020</th>\n",
              "      <td>3</td>\n",
              "      <td>0</td>\n",
              "      <td>0</td>\n",
              "      <td>0</td>\n",
              "      <td>0</td>\n",
              "      <td>0</td>\n",
              "      <td>0</td>\n",
              "      <td>0</td>\n",
              "      <td>0</td>\n",
              "      <td>0</td>\n",
              "      <td>0</td>\n",
              "      <td>0</td>\n",
              "      <td>0</td>\n",
              "      <td>0</td>\n",
              "      <td>0</td>\n",
              "      <td>1</td>\n",
              "      <td>train</td>\n",
              "      <td>No displaced rib fractures, pneumothorax, or ...</td>\n",
              "    </tr>\n",
              "    <tr>\n",
              "      <th>3061</th>\n",
              "      <td>4</td>\n",
              "      <td>0</td>\n",
              "      <td>0</td>\n",
              "      <td>0</td>\n",
              "      <td>0</td>\n",
              "      <td>0</td>\n",
              "      <td>0</td>\n",
              "      <td>0</td>\n",
              "      <td>0</td>\n",
              "      <td>0</td>\n",
              "      <td>0</td>\n",
              "      <td>0</td>\n",
              "      <td>1</td>\n",
              "      <td>0</td>\n",
              "      <td>0</td>\n",
              "      <td>0</td>\n",
              "      <td>train</td>\n",
              "      <td>There are diffuse bilateral interstitial and a...</td>\n",
              "    </tr>\n",
              "    <tr>\n",
              "      <th>3169</th>\n",
              "      <td>5</td>\n",
              "      <td>0</td>\n",
              "      <td>0</td>\n",
              "      <td>0</td>\n",
              "      <td>0</td>\n",
              "      <td>0</td>\n",
              "      <td>0</td>\n",
              "      <td>0</td>\n",
              "      <td>0</td>\n",
              "      <td>0</td>\n",
              "      <td>0</td>\n",
              "      <td>0</td>\n",
              "      <td>0</td>\n",
              "      <td>1</td>\n",
              "      <td>0</td>\n",
              "      <td>0</td>\n",
              "      <td>train</td>\n",
              "      <td>The cardiomediastinal silhouette and pulmonary...</td>\n",
              "    </tr>\n",
              "  </tbody>\n",
              "</table>\n",
              "</div>"
            ],
            "text/plain": [
              "      id  Atelectasis  ...  split                                                TXT\n",
              "0      1            0  ...  train  The cardiac silhouette and mediastinum size ar...\n",
              "1021   2            0  ...  train  Borderline cardiomegaly. Midline sternotomy XX...\n",
              "2020   3            0  ...  train   No displaced rib fractures, pneumothorax, or ...\n",
              "3061   4            0  ...  train  There are diffuse bilateral interstitial and a...\n",
              "3169   5            0  ...  train  The cardiomediastinal silhouette and pulmonary...\n",
              "\n",
              "[5 rows x 18 columns]"
            ]
          },
          "metadata": {
            "tags": []
          },
          "execution_count": 4
        }
      ]
    },
    {
      "cell_type": "markdown",
      "metadata": {
        "id": "mZ3wU6U_7X-B",
        "colab_type": "text"
      },
      "source": [
        "####**0.4 Download the visaul features extracted by BUTD. 36 2048-dimension visual feature is extracted from each CXR Image. We use this [implementation](https://github.com/airsplay/py-bottom-up-attention). This step will take a while (~1min). To save downloading time, you can also make a copy of this [shareable link](https://drive.google.com/file/d/1BFw0jc0j-ffT2PhI4CZeP3IJFZg3GxlZ/view?usp=sharing) to your own google drive and mount you colab to your gdrive.**\n",
        "\n",
        "\n",
        "*If you are interested in the original CXR images, which is unnecessary to out project , you can access them [here](https://drive.google.com/drive/folders/1s5A0CFB6-2N5ThbuorUK1t-bUEKmZnjz?usp=sharing).*"
      ]
    },
    {
      "cell_type": "code",
      "metadata": {
        "id": "24qTThfK6R_z",
        "colab_type": "code",
        "colab": {
          "base_uri": "https://localhost:8080/",
          "height": 445
        },
        "outputId": "5e27e619-a70e-4b9f-95c5-e1dcf87be86b"
      },
      "source": [
        "!wget --load-cookies /tmp/cookies.txt \"https://docs.google.com/uc?export=download&confirm=$(wget --quiet --save-cookies /tmp/cookies.txt --keep-session-cookies --no-check-certificate 'https://docs.google.com/uc?export=download&id=1BFw0jc0j-ffT2PhI4CZeP3IJFZg3GxlZ' -O- | sed -rn 's/.*confirm=([0-9A-Za-z_]+).*/\\1\\n/p')&id=1BFw0jc0j-ffT2PhI4CZeP3IJFZg3GxlZ\" -O data/openI_v_features.pickle && rm -rf /tmp/cookies.txt"
      ],
      "execution_count": 5,
      "outputs": [
        {
          "output_type": "stream",
          "text": [
            "--2020-09-06 04:04:48--  https://docs.google.com/uc?export=download&confirm=6hrU&id=1BFw0jc0j-ffT2PhI4CZeP3IJFZg3GxlZ\n",
            "Resolving docs.google.com (docs.google.com)... 74.125.142.113, 74.125.142.101, 74.125.142.138, ...\n",
            "Connecting to docs.google.com (docs.google.com)|74.125.142.113|:443... connected.\n",
            "HTTP request sent, awaiting response... 302 Moved Temporarily\n",
            "Location: https://doc-0s-04-docs.googleusercontent.com/docs/securesc/iqb046dipnie0n4nop6f1jphpu9ve873/90glq5kpqavjkrg7pq6sj14s5s6d5676/1599365025000/09550986323973647809/13457397186708642344Z/1BFw0jc0j-ffT2PhI4CZeP3IJFZg3GxlZ?e=download [following]\n",
            "--2020-09-06 04:04:49--  https://doc-0s-04-docs.googleusercontent.com/docs/securesc/iqb046dipnie0n4nop6f1jphpu9ve873/90glq5kpqavjkrg7pq6sj14s5s6d5676/1599365025000/09550986323973647809/13457397186708642344Z/1BFw0jc0j-ffT2PhI4CZeP3IJFZg3GxlZ?e=download\n",
            "Resolving doc-0s-04-docs.googleusercontent.com (doc-0s-04-docs.googleusercontent.com)... 74.125.142.132, 2607:f8b0:400e:c08::84\n",
            "Connecting to doc-0s-04-docs.googleusercontent.com (doc-0s-04-docs.googleusercontent.com)|74.125.142.132|:443... connected.\n",
            "HTTP request sent, awaiting response... 302 Found\n",
            "Location: https://docs.google.com/nonceSigner?nonce=2jj62qr7hjkl6&continue=https://doc-0s-04-docs.googleusercontent.com/docs/securesc/iqb046dipnie0n4nop6f1jphpu9ve873/90glq5kpqavjkrg7pq6sj14s5s6d5676/1599365025000/09550986323973647809/13457397186708642344Z/1BFw0jc0j-ffT2PhI4CZeP3IJFZg3GxlZ?e%3Ddownload&hash=1v1pn4fhfbvqk0vsqa7loediiq5g4912 [following]\n",
            "--2020-09-06 04:04:49--  https://docs.google.com/nonceSigner?nonce=2jj62qr7hjkl6&continue=https://doc-0s-04-docs.googleusercontent.com/docs/securesc/iqb046dipnie0n4nop6f1jphpu9ve873/90glq5kpqavjkrg7pq6sj14s5s6d5676/1599365025000/09550986323973647809/13457397186708642344Z/1BFw0jc0j-ffT2PhI4CZeP3IJFZg3GxlZ?e%3Ddownload&hash=1v1pn4fhfbvqk0vsqa7loediiq5g4912\n",
            "Connecting to docs.google.com (docs.google.com)|74.125.142.113|:443... connected.\n",
            "HTTP request sent, awaiting response... 302 Found\n",
            "Location: https://doc-0s-04-docs.googleusercontent.com/docs/securesc/iqb046dipnie0n4nop6f1jphpu9ve873/90glq5kpqavjkrg7pq6sj14s5s6d5676/1599365025000/09550986323973647809/13457397186708642344Z/1BFw0jc0j-ffT2PhI4CZeP3IJFZg3GxlZ?e=download&nonce=2jj62qr7hjkl6&user=13457397186708642344Z&hash=7eke949a2comhvvgssed12ntq0a60s2l [following]\n",
            "--2020-09-06 04:04:49--  https://doc-0s-04-docs.googleusercontent.com/docs/securesc/iqb046dipnie0n4nop6f1jphpu9ve873/90glq5kpqavjkrg7pq6sj14s5s6d5676/1599365025000/09550986323973647809/13457397186708642344Z/1BFw0jc0j-ffT2PhI4CZeP3IJFZg3GxlZ?e=download&nonce=2jj62qr7hjkl6&user=13457397186708642344Z&hash=7eke949a2comhvvgssed12ntq0a60s2l\n",
            "Connecting to doc-0s-04-docs.googleusercontent.com (doc-0s-04-docs.googleusercontent.com)|74.125.142.132|:443... connected.\n",
            "HTTP request sent, awaiting response... 200 OK\n",
            "Length: unspecified [application/octet-stream]\n",
            "Saving to: ‘data/openI_v_features.pickle’\n",
            "\n",
            "data/openI_v_featur     [   <=>              ]   1.01G  92.6MB/s    in 11s     \n",
            "\n",
            "2020-09-06 04:05:00 (93.0 MB/s) - ‘data/openI_v_features.pickle’ saved [1088927664]\n",
            "\n"
          ],
          "name": "stdout"
        }
      ]
    },
    {
      "cell_type": "markdown",
      "metadata": {
        "id": "XI_nOZOh92F6",
        "colab_type": "text"
      },
      "source": [
        "***0.4.1 Load visual features***"
      ]
    },
    {
      "cell_type": "code",
      "metadata": {
        "id": "YkMj9DWU9hd4",
        "colab_type": "code",
        "colab": {}
      },
      "source": [
        "import pickle\n",
        "openI_v_f = pickle.load( open( \"/content/Transformers-VQA/data/openI_v_features.pickle\", \"rb\" ) )"
      ],
      "execution_count": 6,
      "outputs": []
    },
    {
      "cell_type": "code",
      "metadata": {
        "id": "RjNs-h_v-NSR",
        "colab_type": "code",
        "colab": {}
      },
      "source": [
        "assert set(list(openI_v_f.keys())) == set(openI.id.values), \"Visual Features are inconsistent with openI dataset\""
      ],
      "execution_count": 7,
      "outputs": []
    },
    {
      "cell_type": "code",
      "metadata": {
        "id": "eblFG3hO-TJl",
        "colab_type": "code",
        "colab": {}
      },
      "source": [
        "feature_example, bbox_example, (img_w_example, img_h_example) = openI_v_f[openI.id.iloc[0]]"
      ],
      "execution_count": 8,
      "outputs": []
    },
    {
      "cell_type": "code",
      "metadata": {
        "id": "RQif-R9R-6JL",
        "colab_type": "code",
        "colab": {
          "base_uri": "https://localhost:8080/",
          "height": 34
        },
        "outputId": "47cd90b6-a2d3-494b-ed74-fbeb706c91b0"
      },
      "source": [
        "feature_example.shape, bbox_example.shape, (img_w_example, img_h_example)"
      ],
      "execution_count": 9,
      "outputs": [
        {
          "output_type": "execute_result",
          "data": {
            "text/plain": [
              "((36, 4), (36, 2048), (420, 512))"
            ]
          },
          "metadata": {
            "tags": []
          },
          "execution_count": 9
        }
      ]
    },
    {
      "cell_type": "markdown",
      "metadata": {
        "id": "Av4fOtWY_kUy",
        "colab_type": "text"
      },
      "source": [
        "####**Now We have download all data, models, and dependencies. We are good to go!!!**\n",
        "**1. Change default arguments**\n",
        "\n",
        "First, let's check it out!"
      ]
    },
    {
      "cell_type": "code",
      "metadata": {
        "id": "JDbsVwU1L0fv",
        "colab_type": "code",
        "colab": {}
      },
      "source": [
        "from param import args"
      ],
      "execution_count": 10,
      "outputs": []
    },
    {
      "cell_type": "code",
      "metadata": {
        "id": "XWfkpkyqL0nx",
        "colab_type": "code",
        "colab": {
          "base_uri": "https://localhost:8080/",
          "height": 391
        },
        "outputId": "a4a09ce6-2226-400c-9bc0-fe0c3ea74b33"
      },
      "source": [
        "args.__dict__"
      ],
      "execution_count": 11,
      "outputs": [
        {
          "output_type": "execute_result",
          "data": {
            "text/plain": [
              "{'batch_size': 32,\n",
              " 'dropout': 0.1,\n",
              " 'epochs': 2,\n",
              " 'fast': False,\n",
              " 'from_scratch': False,\n",
              " 'load_pretrained': None,\n",
              " 'load_trained': None,\n",
              " 'lr': 0.0001,\n",
              " 'max_seq_length': 20,\n",
              " 'mce_loss': False,\n",
              " 'model': 'lxmert',\n",
              " 'multiGPU': False,\n",
              " 'num_workers': 0,\n",
              " 'optim': 'bert',\n",
              " 'optimizer': 'bert',\n",
              " 'output': 'models/trained/',\n",
              " 'seed': 9595,\n",
              " 'test': None,\n",
              " 'tiny': False,\n",
              " 'tqdm': True,\n",
              " 'train': 'train,nominival',\n",
              " 'valid': 'minival'}"
            ]
          },
          "metadata": {
            "tags": []
          },
          "execution_count": 11
        }
      ]
    },
    {
      "cell_type": "markdown",
      "metadata": {
        "id": "DjVa6bzEMD9o",
        "colab_type": "text"
      },
      "source": [
        "***1.1*** Let's overwrite some arguments***"
      ]
    },
    {
      "cell_type": "code",
      "metadata": {
        "id": "zr13E_VOL0lI",
        "colab_type": "code",
        "colab": {}
      },
      "source": [
        "args.batch_size = 18\n",
        "args.epochs = 2\n",
        "args.model = 'visualbert' # use visualbert\n",
        "args.load_pretrained = '/content/Transformers-VQA/models/pretrained/visualbert.th' #load pretrained visualbert model\n",
        "args.max_seq_length = 128 #truncate or pad report lengths to 128 subwords"
      ],
      "execution_count": 39,
      "outputs": []
    },
    {
      "cell_type": "code",
      "metadata": {
        "id": "tu7RcPXnL0i9",
        "colab_type": "code",
        "colab": {}
      },
      "source": [
        ""
      ],
      "execution_count": null,
      "outputs": []
    },
    {
      "cell_type": "markdown",
      "metadata": {
        "id": "ebDy_6n3LTIX",
        "colab_type": "text"
      },
      "source": [
        "####**2. Create customized dataloader**"
      ]
    },
    {
      "cell_type": "code",
      "metadata": {
        "id": "dRnXgYJUEzlm",
        "colab_type": "code",
        "colab": {
          "base_uri": "https://localhost:8080/",
          "height": 272
        },
        "outputId": "79e37e5b-d2d3-4362-ce38-63dab85f1839"
      },
      "source": [
        "findings = list(openI.columns[1:-2])\n",
        "findings"
      ],
      "execution_count": 13,
      "outputs": [
        {
          "output_type": "execute_result",
          "data": {
            "text/plain": [
              "['Atelectasis',\n",
              " 'Cardiomegaly',\n",
              " 'Effusion',\n",
              " 'Infiltration',\n",
              " 'Mass',\n",
              " 'Nodule',\n",
              " 'Pneumonia',\n",
              " 'Pneumothorax',\n",
              " 'Consolidation',\n",
              " 'Edema',\n",
              " 'Emphysema',\n",
              " 'Fibrosis',\n",
              " 'Pleural_Thickening',\n",
              " 'Hernia',\n",
              " 'Normal']"
            ]
          },
          "metadata": {
            "tags": []
          },
          "execution_count": 13
        }
      ]
    },
    {
      "cell_type": "code",
      "metadata": {
        "id": "698_jFhK_zyD",
        "colab_type": "code",
        "colab": {}
      },
      "source": [
        "from torch.utils.data import Dataset\n",
        "from torch.utils.data.dataloader import DataLoader\n",
        "import numpy as np\n",
        "class OpenIDataset(Dataset):\n",
        "  def __init__(self, df, vf, split, model = 'lxmert'):\n",
        "    # train_test_split and prepare labels\n",
        "    self.dataset = df[df['split'] == split]\n",
        "    self.visual_features = vf\n",
        "    self.id_list = self.dataset.id.tolist()\n",
        "    self.report_list = self.dataset.TXT.tolist()\n",
        "    self.findings_list = self.dataset.columns[1:-2]\n",
        "    self.target_list = self.dataset[self.findings_list].to_numpy().astype(np.float32)\n",
        "    self.model = model\n",
        "\n",
        "  def __len__(self):\n",
        "    return len(self.id_list)\n",
        "\n",
        "  def __getitem__(self, item):\n",
        "    cxr_id = self.id_list[item]\n",
        "    target = self.target_list[item]\n",
        "    boxes, feats, (img_w, img_h) = self.visual_features[cxr_id]\n",
        "    report = self.report_list[item]\n",
        "    if self.model == 'uniter':\n",
        "      boxes = self._uniterBoxes(boxes)\n",
        "    if self.model == 'lxmert':\n",
        "      boxes[:, (0, 2)] /= img_w\n",
        "      boxes[:, (1, 3)] /= img_h\n",
        "    return cxr_id, feats, boxes, report, target\n",
        "\n",
        "  def _uniterBoxes(self, boxes):#uniter requires a 7-dimensiom beside the regular 4-d bbox\n",
        "    new_boxes = np.zeros((boxes.shape[0],7),dtype='float32')\n",
        "    new_boxes = np.zeros((boxes.shape[0],7),dtype='float32')\n",
        "    new_boxes[:,1] = boxes[:,0]\n",
        "    new_boxes[:,0] = boxes[:,1]\n",
        "    new_boxes[:,3] = boxes[:,2]\n",
        "    new_boxes[:,2] = boxes[:,3]\n",
        "    new_boxes[:,4] = new_boxes[:,3]-new_boxes[:,1] #w\n",
        "    new_boxes[:,5] = new_boxes[:,2]-new_boxes[:,0] #h\n",
        "    new_boxes[:,6]=new_boxes[:,4]*new_boxes[:,5] #area\n",
        "    return new_boxes  "
      ],
      "execution_count": 14,
      "outputs": []
    },
    {
      "cell_type": "code",
      "metadata": {
        "id": "gbcfc_2JHllX",
        "colab_type": "code",
        "colab": {}
      },
      "source": [
        "training = OpenIDataset(df = openI, vf = openI_v_f,  split='train', model = args.model)\n",
        "testing = OpenIDataset(df = openI, vf = openI_v_f,  split='test', model = args.model)"
      ],
      "execution_count": 15,
      "outputs": []
    },
    {
      "cell_type": "code",
      "metadata": {
        "id": "VnnacfHxIhP3",
        "colab_type": "code",
        "colab": {}
      },
      "source": [
        "train_loader = DataLoader(training, batch_size=args.batch_size,shuffle=True, num_workers=0,drop_last=True, pin_memory=True)\n",
        "test_loader = DataLoader(testing, batch_size=128,shuffle=False, num_workers=0,drop_last=False, pin_memory=True)"
      ],
      "execution_count": 29,
      "outputs": []
    },
    {
      "cell_type": "markdown",
      "metadata": {
        "id": "eXPaP_mFNes3",
        "colab_type": "text"
      },
      "source": [
        "####**3. Model, Optimizer, Loss Function, and Evaluation Function**"
      ]
    },
    {
      "cell_type": "code",
      "metadata": {
        "id": "6uykSct2KTw3",
        "colab_type": "code",
        "colab": {}
      },
      "source": [
        "from vqa_model import VQAModel\n",
        "#init model\n",
        "model = VQAModel(num_answers = len(findings), model = args.model)"
      ],
      "execution_count": 50,
      "outputs": []
    },
    {
      "cell_type": "code",
      "metadata": {
        "id": "P3iW1th0Oh_u",
        "colab_type": "code",
        "colab": {
          "base_uri": "https://localhost:8080/",
          "height": 255
        },
        "outputId": "7b9d8b34-0ecd-4cc1-ca3d-58bf927506d6"
      },
      "source": [
        "#load pretrained weights\n",
        "model.encoder.load(args.load_pretrained)"
      ],
      "execution_count": 51,
      "outputs": [
        {
          "output_type": "stream",
          "text": [
            "Load VISUALBERT PreTrained Model from /content/Transformers-VQA/models/pretrained/visualbert.th\n",
            "\n",
            "Weights in loaded but not in model:\n",
            "cls.predictions.bias\n",
            "cls.predictions.decoder.weight\n",
            "cls.predictions.transform.LayerNorm.bias\n",
            "cls.predictions.transform.LayerNorm.weight\n",
            "cls.predictions.transform.dense.bias\n",
            "cls.predictions.transform.dense.weight\n",
            "cls.seq_relationship.bias\n",
            "cls.seq_relationship.weight\n",
            "\n",
            "Weights in model but not in loaded:\n",
            "\n"
          ],
          "name": "stdout"
        }
      ]
    },
    {
      "cell_type": "code",
      "metadata": {
        "id": "mu24KigJOzPh",
        "colab_type": "code",
        "colab": {}
      },
      "source": [
        "#send to GPU\n",
        "model = model.cuda()\n"
      ],
      "execution_count": 52,
      "outputs": []
    },
    {
      "cell_type": "code",
      "metadata": {
        "id": "X8PSIXBVPCzZ",
        "colab_type": "code",
        "colab": {}
      },
      "source": [
        "import torch\n",
        "loss = torch.nn.BCEWithLogitsLoss()"
      ],
      "execution_count": 53,
      "outputs": []
    },
    {
      "cell_type": "code",
      "metadata": {
        "id": "C7Ya8sMYPPZw",
        "colab_type": "code",
        "colab": {}
      },
      "source": [
        "from src.optimization import BertAdam\n",
        "optim = BertAdam(list(model.parameters()),lr=args.lr,warmup=0.1,t_total=len(train_loader)*args.epochs)\n",
        "# t_total denotes total training steps\n",
        "# batch_per_epoch = len(train_loader)\n",
        "# t_total = int(batch_per_epoch * args.epochs)"
      ],
      "execution_count": 54,
      "outputs": []
    },
    {
      "cell_type": "code",
      "metadata": {
        "id": "UEyAhI33Pu4T",
        "colab_type": "code",
        "colab": {}
      },
      "source": [
        "# Evaluation function, we will report the AUC and accuray of each finding\n",
        "def eval(target, pred):\n",
        "    acc_list = []\n",
        "    for i, d in enumerate(findings[:-1]): #normal is excluded\n",
        "        acc = np.mean(target[:,i] == (pred[:,i]>=0.5))\n",
        "        print(i,d,acc)\n",
        "        acc_list.append(acc)\n",
        "    print('Averaged: '+str(np.average(acc_list)))"
      ],
      "execution_count": 55,
      "outputs": []
    },
    {
      "cell_type": "code",
      "metadata": {
        "id": "3o3MuvKgShwb",
        "colab_type": "code",
        "colab": {}
      },
      "source": [
        "sgmd = torch.nn.Sigmoid()"
      ],
      "execution_count": 56,
      "outputs": []
    },
    {
      "cell_type": "markdown",
      "metadata": {
        "id": "3YFUoKlaQmYC",
        "colab_type": "text"
      },
      "source": [
        "####**4. HIT and RUN**"
      ]
    },
    {
      "cell_type": "code",
      "metadata": {
        "id": "bcqsru7nQdMv",
        "colab_type": "code",
        "colab": {
          "base_uri": "https://localhost:8080/",
          "height": 791,
          "referenced_widgets": [
            "72c243f0fea84d21b818beb4ac27b2d7",
            "b9374f4e4b32423892a28b34b553b332",
            "a95bbddd8e5c4e03bff64e3b80bd881f",
            "76b353baa18c49acb52df0366ca87c97",
            "ab3a076576404f63866e8cff6f5482a4",
            "4a1a8b0eea6a48318a0e8b8ec9f188c2",
            "41046242a45c4bb6b84d69819ee8418a",
            "11a99243f3654a6084292750006628dc",
            "a7dfc96af13847c89543cfc62568b82e",
            "0faad0d7fe3c482db16a39107c58d35b",
            "a67b28529fb9411dab2b981d9f6c84f6",
            "b3a451c51c0444a0b9a395269909c496",
            "24cea1f04ff24113a23ec5fcf7ef84c3",
            "71ab4c404745480481803c9d3f4b85fc",
            "3839a97dea7c4571831c0bb5d89e4890",
            "d6bb5f5da6904817b50588c3944f06ce",
            "07b93302c26f4706bf0ed979b2dcfdcc",
            "474c46c5156244e298007d98d23e3f85",
            "5414298fd9084eb9b401e2b57ff47e58",
            "d9b2695f88e14fad890ebd2015d3a48d",
            "2de5b7ad8ac441059e1dd58cbd5bd72c",
            "eef1bcd19f7d47bcbede6f1d5c976e88",
            "1f0515e1a34a45d2b11df7f9fe96462e",
            "5527bc1e0de64cb08d3bab4840df7da5",
            "68b1d672ec60458e83f2ac7dcf999a78",
            "e7cec90be3af4a359e535d94d5c0b9d4",
            "55151c83006a431997d35f5c7c3dcc94",
            "88fafa6309754e759907ae056dcb39e7",
            "229776e2db2f4d7fab001cbc062f4a88",
            "6bd0f9775c964014a1b8d632a29377d4",
            "58d75a9ae4ff43ccbac6c5a24929a86b",
            "43b6f8b08d504da581b496bfac7e33b0"
          ]
        },
        "outputId": "82e1788b-8de7-4048-8ce3-b7cc283ba19f"
      },
      "source": [
        "from tqdm.notebook import tqdm\n",
        "\n",
        "iter_wrapper = (lambda x: tqdm(x, total=len(train_loader))) if args.tqdm else (lambda x: x)\n",
        "best_valid = 0\n",
        "for epoch in range(args.epochs):\n",
        "  epoch_loss = 0\n",
        "  for i, (cxr_id, feats, boxes, report, target) in iter_wrapper(enumerate(train_loader)):\n",
        "    model.train()\n",
        "    optim.zero_grad()\n",
        "    feats, boxes, target = feats.cuda(), boxes.cuda(), target.cuda()\n",
        "    logit = model(feats, boxes, report)\n",
        "    running_loss = loss(logit, target)\n",
        "    running_loss = running_loss * logit.size(1)\n",
        "    epoch_loss += running_loss\n",
        "    running_loss.backward()\n",
        "    torch.nn.utils.clip_grad_norm_(model.parameters(), 5.)\n",
        "    optim.step()\n",
        "  print(\"Epoch \"+str(epoch)+\": Training Loss: \"+str(epoch_loss/len(train_loader)))\n",
        "  print('Evaluation: ')\n",
        "  model.eval()\n",
        "  logit_list, target_list = [], []\n",
        "  iter_wrapper = (lambda x: tqdm(x, total=len(test_loader)))\n",
        "  for i, (cxr_id, feats, boxes, report, target) in iter_wrapper(enumerate(test_loader)):\n",
        "    target_list.append(target)\n",
        "    with torch.no_grad():\n",
        "      feats, boxes = feats.cuda(), boxes.cuda()\n",
        "      logit = model(feats, boxes, report)\n",
        "      logit_list.append(sgmd(logit).cpu().numpy())\n",
        "\n",
        "  eval(np.concatenate(target_list,axis = 0), np.concatenate(logit_list,axis = 0))"
      ],
      "execution_count": 57,
      "outputs": [
        {
          "output_type": "display_data",
          "data": {
            "application/vnd.jupyter.widget-view+json": {
              "model_id": "72c243f0fea84d21b818beb4ac27b2d7",
              "version_minor": 0,
              "version_major": 2
            },
            "text/plain": [
              "HBox(children=(FloatProgress(value=0.0, max=161.0), HTML(value='')))"
            ]
          },
          "metadata": {
            "tags": []
          }
        },
        {
          "output_type": "stream",
          "text": [
            "\n",
            "Epoch 0: Training Loss: tensor(2.2392, device='cuda:0', grad_fn=<DivBackward0>)\n",
            "Evaluation: \n"
          ],
          "name": "stdout"
        },
        {
          "output_type": "display_data",
          "data": {
            "application/vnd.jupyter.widget-view+json": {
              "model_id": "a7dfc96af13847c89543cfc62568b82e",
              "version_minor": 0,
              "version_major": 2
            },
            "text/plain": [
              "HBox(children=(FloatProgress(value=0.0, max=7.0), HTML(value='')))"
            ]
          },
          "metadata": {
            "tags": []
          }
        },
        {
          "output_type": "stream",
          "text": [
            "\n",
            "0 Atelectasis 0.8989637305699482\n",
            "1 Cardiomegaly 0.8963730569948186\n",
            "2 Effusion 0.9455958549222798\n",
            "3 Infiltration 0.9715025906735751\n",
            "4 Mass 0.9961139896373057\n",
            "5 Nodule 0.966321243523316\n",
            "6 Pneumonia 0.9857512953367875\n",
            "7 Pneumothorax 0.9935233160621761\n",
            "8 Consolidation 0.9857512953367875\n",
            "9 Edema 0.9805699481865285\n",
            "10 Emphysema 0.9676165803108808\n",
            "11 Fibrosis 0.9935233160621761\n",
            "12 Pleural_Thickening 0.9792746113989638\n",
            "13 Hernia 1.0\n",
            "Averaged: 0.9686343449296818\n"
          ],
          "name": "stdout"
        },
        {
          "output_type": "display_data",
          "data": {
            "application/vnd.jupyter.widget-view+json": {
              "model_id": "07b93302c26f4706bf0ed979b2dcfdcc",
              "version_minor": 0,
              "version_major": 2
            },
            "text/plain": [
              "HBox(children=(FloatProgress(value=0.0, max=7.0), HTML(value='')))"
            ]
          },
          "metadata": {
            "tags": []
          }
        },
        {
          "output_type": "stream",
          "text": [
            "\n",
            "Epoch 1: Training Loss: tensor(1.8431, device='cuda:0', grad_fn=<DivBackward0>)\n",
            "Evaluation: \n"
          ],
          "name": "stdout"
        },
        {
          "output_type": "display_data",
          "data": {
            "application/vnd.jupyter.widget-view+json": {
              "model_id": "68b1d672ec60458e83f2ac7dcf999a78",
              "version_minor": 0,
              "version_major": 2
            },
            "text/plain": [
              "HBox(children=(FloatProgress(value=0.0, max=7.0), HTML(value='')))"
            ]
          },
          "metadata": {
            "tags": []
          }
        },
        {
          "output_type": "stream",
          "text": [
            "\n",
            "0 Atelectasis 0.8989637305699482\n",
            "1 Cardiomegaly 0.8963730569948186\n",
            "2 Effusion 0.9455958549222798\n",
            "3 Infiltration 0.9715025906735751\n",
            "4 Mass 0.9961139896373057\n",
            "5 Nodule 0.966321243523316\n",
            "6 Pneumonia 0.9857512953367875\n",
            "7 Pneumothorax 0.9935233160621761\n",
            "8 Consolidation 0.9857512953367875\n",
            "9 Edema 0.9805699481865285\n",
            "10 Emphysema 0.9676165803108808\n",
            "11 Fibrosis 0.9935233160621761\n",
            "12 Pleural_Thickening 0.9792746113989638\n",
            "13 Hernia 1.0\n",
            "Averaged: 0.9686343449296818\n"
          ],
          "name": "stdout"
        }
      ]
    }
  ]
}