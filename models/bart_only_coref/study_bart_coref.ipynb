{
 "cells": [
  {
   "cell_type": "code",
   "execution_count": 1,
   "metadata": {},
   "outputs": [],
   "source": [
    "import json\n",
    "import torch\n",
    "import re"
   ]
  },
  {
   "cell_type": "code",
   "execution_count": null,
   "metadata": {},
   "outputs": [],
   "source": []
  },
  {
   "cell_type": "code",
   "execution_count": null,
   "metadata": {},
   "outputs": [],
   "source": []
  },
  {
   "cell_type": "markdown",
   "metadata": {},
   "source": [
    "### Checking all scenes and all dialogue objects (\\<OBJ>) are in the img_embedding dict from UNITER"
   ]
  },
  {
   "cell_type": "code",
   "execution_count": 6,
   "metadata": {},
   "outputs": [
    {
     "name": "stdout",
     "output_type": "stream",
     "text": [
      "38127\n",
      "38127\n"
     ]
    }
   ],
   "source": [
    "with open(\"./data_object_special/simmc2_scenes_train.txt\", 'r') as f:\n",
    "    train_scenes = json.load(f)\n",
    "\n",
    "with open(\"./data_object_special/simmc2_dials_dstc10_train_predict.txt\", 'r') as f:\n",
    "    train_data = f.readlines()\n",
    "\n",
    "print(len(train_scenes))\n",
    "print(len(train_data))"
   ]
  },
  {
   "cell_type": "code",
   "execution_count": 14,
   "metadata": {},
   "outputs": [
    {
     "name": "stdout",
     "output_type": "stream",
     "text": [
      "8609\n",
      "8609\n"
     ]
    }
   ],
   "source": [
    "with open(\"./data_object_special/simmc2_scenes_devtest.txt\", 'r') as f:\n",
    "    devtest_scenes = json.load(f)\n",
    "\n",
    "with open(\"./data_object_special/simmc2_dials_dstc10_devtest_predict.txt\", 'r') as f:\n",
    "    devtest_data = f.readlines()\n",
    "\n",
    "print(len(devtest_scenes))\n",
    "print(len(devtest_data))"
   ]
  },
  {
   "cell_type": "code",
   "execution_count": 7,
   "metadata": {},
   "outputs": [],
   "source": [
    "CORRUPTED_IMGS = ['cloth_store_1416238_woman_4_8', 'm_cloth_store_1416238_woman_20_6', 'cloth_store_1416238_woman_20_6', 'cloth_store_1416238_woman_19_0']\n",
    "\n",
    "img_feat = torch.load(\"./data_object_special/img_features.pt\", map_location='cpu')"
   ]
  },
  {
   "cell_type": "code",
   "execution_count": 11,
   "metadata": {},
   "outputs": [],
   "source": [
    "for idx,line in enumerate(train_data):\n",
    "    if train_scenes[idx] not in CORRUPTED_IMGS:\n",
    "        l1 = len([m.start() for m in re.finditer('<OBJ>', line)])\n",
    "        l2 = len(img_feat[train_scenes[idx]+'_scene'].keys())-1\n",
    "        if l1!=l2:\n",
    "            print(line)\n",
    "            break"
   ]
  },
  {
   "cell_type": "code",
   "execution_count": 15,
   "metadata": {},
   "outputs": [],
   "source": [
    "for idx,line in enumerate(devtest_data):\n",
    "    if devtest_scenes[idx] not in CORRUPTED_IMGS:\n",
    "        l1 = len([m.start() for m in re.finditer('<OBJ>', line)])\n",
    "        l2 = len(img_feat[devtest_scenes[idx]+'_scene'].keys())-1\n",
    "        if l1!=l2:\n",
    "            print(line)\n",
    "            break"
   ]
  },
  {
   "cell_type": "code",
   "execution_count": null,
   "metadata": {},
   "outputs": [],
   "source": []
  },
  {
   "cell_type": "code",
   "execution_count": 16,
   "metadata": {},
   "outputs": [],
   "source": [
    "CORRUPTED_IMGS = ['cloth_store_1416238_woman_4_8', 'm_cloth_store_1416238_woman_20_6', 'cloth_store_1416238_woman_20_6', 'cloth_store_1416238_woman_19_0']\n",
    "\n",
    "img_feat = torch.load(\"./data_object_special/img_features.pt\", map_location='cpu')"
   ]
  },
  {
   "cell_type": "code",
   "execution_count": 35,
   "metadata": {},
   "outputs": [],
   "source": [
    "with open('./data_object_special/simmc2_scenes_train.txt', 'r') as f:\n",
    "    train_scenes = json.load(f)\n",
    "\n",
    "with open('./data_object_special/simmc2_scenes_dev.txt', 'r') as f:\n",
    "    dev_scenes = json.load(f)\n",
    "\n",
    "with open('./data_object_special/simmc2_scenes_devtest.txt', 'r') as f:\n",
    "    devtest_scenes = json.load(f)"
   ]
  },
  {
   "cell_type": "code",
   "execution_count": 39,
   "metadata": {},
   "outputs": [
    {
     "name": "stdout",
     "output_type": "stream",
     "text": [
      "Train...\n",
      "Dev...\n",
      "Devtest...\n"
     ]
    }
   ],
   "source": [
    "def check_scenes(data):\n",
    "    for scene in data:\n",
    "        if scene not in CORRUPTED_IMGS:\n",
    "            if scene+'_scene' not in img_feat:\n",
    "                print(scene+'_scene')\n",
    "                break\n",
    "\n",
    "print(\"Train...\")\n",
    "check_scenes(train_scenes)\n",
    "print(\"Dev...\")\n",
    "check_scenes(dev_scenes)\n",
    "print(\"Devtest...\")\n",
    "check_scenes(devtest_scenes)"
   ]
  },
  {
   "cell_type": "code",
   "execution_count": null,
   "metadata": {},
   "outputs": [],
   "source": []
  },
  {
   "cell_type": "markdown",
   "metadata": {},
   "source": [
    "### Count dialogues"
   ]
  },
  {
   "cell_type": "code",
   "execution_count": 2,
   "metadata": {},
   "outputs": [],
   "source": [
    "with open(\"./data/simmc2_dials_dstc10_train.json\", 'r') as f:\n",
    "    train_data =json.load(f)\n",
    "\n",
    "with open(\"./data/simmc2_dials_dstc10_dev.json\", 'r') as f:\n",
    "    dev_data =json.load(f)\n",
    "\n",
    "with open(\"./data/simmc2_dials_dstc10_devtest.json\", 'r') as f:\n",
    "    devtest_data =json.load(f)"
   ]
  },
  {
   "cell_type": "code",
   "execution_count": 8,
   "metadata": {},
   "outputs": [
    {
     "name": "stdout",
     "output_type": "stream",
     "text": [
      "7307 4667 2640\n",
      "563 563 0\n",
      "1687 1172 515\n",
      "9557\n",
      "6402\n",
      "3155\n"
     ]
    }
   ],
   "source": [
    "def calc_stats(data):\n",
    "    n_total = 0\n",
    "    n_fash = 0\n",
    "    n_furn = 0\n",
    "\n",
    "    for dial in data['dialogue_data']:\n",
    "        n_total += 1\n",
    "        if dial['domain'] == 'fashion':\n",
    "            n_fash += 1\n",
    "        else:\n",
    "            n_furn += 1\n",
    "        \n",
    "    return n_total, n_fash, n_furn\n",
    "\n",
    "n_total_train, n_fash_train, n_furn_train = calc_stats(train_data)\n",
    "n_total_dev, n_fash_dev, n_furn_dev = calc_stats(dev_data)\n",
    "n_total_devtest, n_fash_devtest, n_furn_devtest = calc_stats(devtest_data)\n",
    "\n",
    "print(n_total_train, n_fash_train, n_furn_train)\n",
    "print(n_total_dev, n_fash_dev, n_furn_dev)\n",
    "print(n_total_devtest, n_fash_devtest, n_furn_devtest)\n",
    "print(n_total_train + n_total_dev + n_total_devtest)\n",
    "print(n_fash_train + n_fash_dev + n_fash_devtest)\n",
    "print(n_furn_train + n_furn_dev + n_furn_devtest)"
   ]
  },
  {
   "cell_type": "markdown",
   "metadata": {},
   "source": [
    "### Fixing script to get BART examples splitting from UNITER splitting"
   ]
  },
  {
   "cell_type": "code",
   "execution_count": 155,
   "metadata": {},
   "outputs": [
    {
     "name": "stdout",
     "output_type": "stream",
     "text": [
      "38127\n",
      "27567 10560 38127\n"
     ]
    }
   ],
   "source": [
    "with open(\"./data_object_special/simmc2_dials_dstc10_train_predict.txt\", 'r') as f:\n",
    "    train_pred_data = f.readlines()\n",
    "\n",
    "print(len(train_pred_data))\n",
    "\n",
    "fash = 0\n",
    "furn = 0\n",
    "for line in train_pred_data:\n",
    "    k = line.find(\"<@\")\n",
    "    if line[k+2] == '1':\n",
    "        fash +=1\n",
    "    elif line[k+2] == '2':\n",
    "        furn +=1\n",
    "    else:\n",
    "        print(\"Error:\", line)\n",
    "print(fash, furn, fash+furn)\n",
    "\n",
    "# Out of domain is well built"
   ]
  },
  {
   "cell_type": "code",
   "execution_count": 156,
   "metadata": {},
   "outputs": [],
   "source": [
    "STORE_BASE_PATH = \"./data_object_special/new_datasets/\"\n",
    "REF_SETS_BASE_PATH = STORE_BASE_PATH+\"reference_sets\"\n",
    "\n",
    "TRAIN_PRED_PROCESSED_PATH = \"./data_object_special/simmc2_dials_dstc10_train_predict.txt\"\n",
    "TRAIN_TARGET_PROCESSED_PATH = \"./data_object_special/simmc2_dials_dstc10_train_target.txt\"\n",
    "\n",
    "DEV_PRED_PROCESSED_PATH = \"./data_object_special/simmc2_dials_dstc10_dev_predict.txt\"\n",
    "DEV_TARGET_PROCESSED_PATH = \"./data_object_special/simmc2_dials_dstc10_dev_target.txt\"\n",
    "\n",
    "DEVTEST_PRED_PROCESSED_PATH = \"./data_object_special/simmc2_dials_dstc10_devtest_predict.txt\"\n",
    "DEVTEST_TARGET_PROCESSED_PATH = \"./data_object_special/simmc2_dials_dstc10_devtest_target.txt\"\n",
    "\n",
    "OUT_DOMAIN_REF_PATH = REF_SETS_BASE_PATH + \"/out_of_domain_test.json\"\n",
    "IN_DOMAIN_HELD_OUT_REF_PATH = REF_SETS_BASE_PATH + \"/in_domain_held_out_test.json\"\n",
    "IN_DOMAIN_REF_PATH = REF_SETS_BASE_PATH + \"/in_domain_test.json\"\n",
    "TRAIN_REF_PATH = REF_SETS_BASE_PATH + \"/seen_unseen_OOD_train.json\"\n",
    "\n",
    "OUT_DOMAIN_PRED_STORE_PATH = STORE_BASE_PATH + \"/out_of_domain_predict.txt\"\n",
    "OUT_DOMAIN_TARGET_STORE_PATH = STORE_BASE_PATH + \"/out_of_domain_target.txt\"\n",
    "\n",
    "IN_DOMAIN_HELD_OUT_PRED_STORE_PATH = STORE_BASE_PATH + \"/in_domain_held_out_predict.txt\"\n",
    "IN_DOMAIN_HELD_OUT_TARGET_STORE_PATH = STORE_BASE_PATH + \"/in_domain_held_out_target.txt\"\n",
    "\n",
    "IN_DOMAIN_PRED_STORE_PATH = STORE_BASE_PATH + \"/in_domain_predict.txt\"\n",
    "IN_DOMAIN_TARGET_STORE_PATH = STORE_BASE_PATH + \"/in_domain_target.txt\"\n",
    "\n",
    "TRAIN_PRED_STORE_PATH = STORE_BASE_PATH + \"/train_seen_unseen_OOD_predict.txt\"\n",
    "TRAIN_TARGET_STORE_PATH = STORE_BASE_PATH + \"/train_seen_unseen_OOD_target.txt\"\n"
   ]
  },
  {
   "cell_type": "code",
   "execution_count": 157,
   "metadata": {},
   "outputs": [],
   "source": [
    "def get_all_fashion_examples(predict_path_list, target_path_list):\n",
    "    all_predict_ex = []\n",
    "    all_target_ex = []\n",
    "\n",
    "    assert len(predict_path_list) == len(target_path_list)\n",
    "\n",
    "    for i in range(len(predict_path_list)):\n",
    "        with open(target_path_list[i], 'r') as f:\n",
    "            target_data = f.readlines()\n",
    "        \n",
    "        with open(predict_path_list[i], 'r') as f:\n",
    "            for line_idx, line in enumerate(f.readlines()):\n",
    "                if len(line) > 1:\n",
    "                    idx = line.find(\"<@\")\n",
    "                    if line[idx+2] == '1': # fashion example\n",
    "                        all_predict_ex.append(line)\n",
    "                        all_target_ex.append(target_data[line_idx])\n",
    "\n",
    "    return all_predict_ex, all_target_ex"
   ]
  },
  {
   "cell_type": "code",
   "execution_count": 158,
   "metadata": {},
   "outputs": [
    {
     "name": "stdout",
     "output_type": "stream",
     "text": [
      "37610 37610\n"
     ]
    }
   ],
   "source": [
    "pred_path_list = [TRAIN_PRED_PROCESSED_PATH, DEV_PRED_PROCESSED_PATH, DEVTEST_PRED_PROCESSED_PATH]\n",
    "target_path_list = [TRAIN_TARGET_PROCESSED_PATH, DEV_TARGET_PROCESSED_PATH, DEVTEST_TARGET_PROCESSED_PATH]\n",
    "all_fash_pred_ex, all_fash_target_ex = get_all_fashion_examples(pred_path_list, target_path_list)\n",
    "\n",
    "print(len(all_fash_pred_ex), len(all_fash_target_ex))"
   ]
  },
  {
   "cell_type": "code",
   "execution_count": 228,
   "metadata": {},
   "outputs": [],
   "source": [
    "def _get_last_sys_turn(line):\n",
    "    check = line.find(\"<@\")\n",
    "    idx_sys = line.rfind('System :')\n",
    "    if check == -1: # UNITER MODEL\n",
    "        idx_som = line.rfind(' System mentions :')\n",
    "        if idx_som == -1 or idx_som < idx_sys:\n",
    "            idx_som = line.rfind(' User :')\n",
    "\n",
    "    else: # BART MODEL\n",
    "        idx_som = line.rfind(' <SOM>')\n",
    "    \n",
    "    if idx_sys != -1 and idx_som != -1:\n",
    "        return line[idx_sys+len('System : '):idx_som]\n",
    "    if idx_sys != -1:\n",
    "        return line[idx_sys+len('System : '):]\n",
    "    return -1\n",
    "\n",
    "\n",
    "def _get_last_user_turn(line):\n",
    "    idx_usr = line.rfind('User :')\n",
    "    idx_soo = line.find(' <SOO>')\n",
    "    if idx_soo != -1:\n",
    "        return line[idx_usr+len('User : '):idx_soo]\n",
    "    return line[idx_usr+len('User : '):]\n",
    "\n",
    "\n",
    "def _get_line_object_ids(line):\n",
    "    line_ids = []\n",
    "    pos = 0\n",
    "    idx = line.find(\"<@\", pos)\n",
    "    while idx != -1:\n",
    "        # get absolute object ID\n",
    "        abs_id = line[idx+3:idx+6]\n",
    "        line_ids.append(int(abs_id)+1)\n",
    "        # update pos and idx\n",
    "        pos = idx+4\n",
    "        idx = line.find(\"<@\", pos)\n",
    "    return line_ids\n",
    "\n",
    "\n",
    "from tqdm import tqdm\n",
    "\n",
    "def get_examples_given_ref(ref_path, all_fash_pred_examples, all_fash_target_examples):\n",
    "    with open(ref_path, 'r') as f:\n",
    "        ref_data = json.load(f)\n",
    "    \n",
    "    pred_examples = []\n",
    "    target_examples = []\n",
    "\n",
    "    for line in tqdm(ref_data):\n",
    "        check = False\n",
    "        aux_list = []\n",
    "        last_user_turn = _get_last_user_turn(line['dial'])\n",
    "        last_sys_turn = _get_last_sys_turn(line['dial'])\n",
    "        KB_ids = line['KB_ids']\n",
    "        temp_pred = []\n",
    "        temp_target = []\n",
    "        for idx, example in enumerate(all_fash_pred_examples):\n",
    "            if last_user_turn == _get_last_user_turn(example) and last_sys_turn == _get_last_sys_turn(example):\n",
    "                aux_list.append((example, idx))\n",
    "                if set(sorted(_get_line_object_ids(example))) <= set(sorted(KB_ids)):\n",
    "                    check = True\n",
    "                    temp_pred.append(example)\n",
    "                    temp_target.append(all_fash_target_examples[idx])\n",
    "                    #pred_examples.append(example)\n",
    "                    #target_examples.append(all_fash_target_examples[idx])\n",
    "        if not check and len(aux_list) == 1:\n",
    "            pred_examples.append(aux_list[0][0])\n",
    "            target_examples.append(all_fash_target_examples[aux_list[0][1]])\n",
    "            continue\n",
    "        if len(temp_pred) > 1:\n",
    "            if 'bad image' in last_user_turn:\n",
    "                continue\n",
    "            print(\"Warning: skipping\", len(temp_pred), \"examples\")\n",
    "            continue\n",
    "            \"\"\"\n",
    "            print(\"COUNTER\")\n",
    "            print(last_user_turn)\n",
    "            print(last_sys_turn)\n",
    "            print(line['dial'])\n",
    "            print(line['dial_idx'])\n",
    "            print(line['KB_ids'])\n",
    "            break\n",
    "            \"\"\"\n",
    "        if not check:\n",
    "            print(last_user_turn)\n",
    "            print(last_sys_turn)\n",
    "            print(line['dial'])\n",
    "            print(line['KB_ids'])\n",
    "            print(\"CHECK ERROR\")\n",
    "            break\n",
    "        pred_examples += temp_pred\n",
    "        target_examples += temp_target\n",
    "    \n",
    "    return pred_examples, target_examples"
   ]
  },
  {
   "cell_type": "code",
   "execution_count": null,
   "metadata": {},
   "outputs": [],
   "source": []
  },
  {
   "cell_type": "code",
   "execution_count": 230,
   "metadata": {},
   "outputs": [
    {
     "name": "stderr",
     "output_type": "stream",
     "text": [
      " 73%|███████▎  | 6999/9567 [04:38<01:41, 25.31it/s]"
     ]
    },
    {
     "name": "stdout",
     "output_type": "stream",
     "text": [
      "Warning: skipping 2 examples\n"
     ]
    },
    {
     "name": "stderr",
     "output_type": "stream",
     "text": [
      " 84%|████████▍ | 8058/9567 [05:20<00:59, 25.23it/s]"
     ]
    },
    {
     "name": "stdout",
     "output_type": "stream",
     "text": [
      "Warning: skipping 2 examples\n"
     ]
    },
    {
     "name": "stderr",
     "output_type": "stream",
     "text": [
      " 89%|████████▉ | 8529/9567 [05:38<00:41, 25.13it/s]"
     ]
    },
    {
     "name": "stdout",
     "output_type": "stream",
     "text": [
      "Warning: skipping 2 examples\n"
     ]
    },
    {
     "name": "stderr",
     "output_type": "stream",
     "text": [
      "100%|██████████| 9567/9567 [06:20<00:00, 25.16it/s]"
     ]
    },
    {
     "name": "stdout",
     "output_type": "stream",
     "text": [
      "9558 9558\n"
     ]
    },
    {
     "name": "stderr",
     "output_type": "stream",
     "text": [
      "\n"
     ]
    }
   ],
   "source": [
    "in_dom_held_out_predict, in_dom_held_out_target = get_examples_given_ref(IN_DOMAIN_HELD_OUT_REF_PATH, all_fash_pred_ex, all_fash_target_ex)\n",
    "\n",
    "print(len(in_dom_held_out_predict), len(in_dom_held_out_target))"
   ]
  },
  {
   "cell_type": "code",
   "execution_count": 231,
   "metadata": {},
   "outputs": [
    {
     "name": "stderr",
     "output_type": "stream",
     "text": [
      "  2%|▏         | 144/9000 [00:05<05:51, 25.23it/s]"
     ]
    },
    {
     "name": "stdout",
     "output_type": "stream",
     "text": [
      "Warning: skipping 2 examples\n",
      "Warning: skipping 2 examples\n"
     ]
    },
    {
     "name": "stderr",
     "output_type": "stream",
     "text": [
      "  6%|▌         | 498/9000 [00:19<05:36, 25.27it/s]"
     ]
    },
    {
     "name": "stdout",
     "output_type": "stream",
     "text": [
      "Warning: skipping 2 examples\n"
     ]
    },
    {
     "name": "stderr",
     "output_type": "stream",
     "text": [
      " 18%|█▊        | 1602/9000 [01:03<04:53, 25.19it/s]"
     ]
    },
    {
     "name": "stdout",
     "output_type": "stream",
     "text": [
      "Warning: skipping 2 examples\n"
     ]
    },
    {
     "name": "stderr",
     "output_type": "stream",
     "text": [
      " 23%|██▎       | 2079/9000 [01:22<04:36, 25.04it/s]"
     ]
    },
    {
     "name": "stdout",
     "output_type": "stream",
     "text": [
      "Warning: skipping 2 examples\n"
     ]
    },
    {
     "name": "stderr",
     "output_type": "stream",
     "text": [
      " 42%|████▏     | 3762/9000 [02:29<03:28, 25.13it/s]"
     ]
    },
    {
     "name": "stdout",
     "output_type": "stream",
     "text": [
      "Warning: skipping 4 examples\n",
      "Warning: skipping 4 examples\n",
      "Warning: skipping 4 examples\n"
     ]
    },
    {
     "name": "stderr",
     "output_type": "stream",
     "text": [
      " 67%|██████▋   | 6048/9000 [04:00<01:57, 25.14it/s]"
     ]
    },
    {
     "name": "stdout",
     "output_type": "stream",
     "text": [
      "Warning: skipping 2 examples\n"
     ]
    },
    {
     "name": "stderr",
     "output_type": "stream",
     "text": [
      " 99%|█████████▉| 8937/9000 [05:55<00:02, 25.18it/s]"
     ]
    },
    {
     "name": "stdout",
     "output_type": "stream",
     "text": [
      "Warning: skipping 4 examples\n",
      "Warning: skipping 4 examples\n",
      "Warning: skipping 4 examples\n",
      "Warning: skipping 4 examples\n"
     ]
    },
    {
     "name": "stderr",
     "output_type": "stream",
     "text": [
      "100%|██████████| 9000/9000 [05:57<00:00, 25.16it/s]"
     ]
    },
    {
     "name": "stdout",
     "output_type": "stream",
     "text": [
      "8987 8987\n"
     ]
    },
    {
     "name": "stderr",
     "output_type": "stream",
     "text": [
      "\n"
     ]
    }
   ],
   "source": [
    "in_dom_predict, in_dom_target = get_examples_given_ref(IN_DOMAIN_REF_PATH, all_fash_pred_ex, all_fash_target_ex)\n",
    "\n",
    "print(len(in_dom_predict), len(in_dom_target))"
   ]
  },
  {
   "cell_type": "code",
   "execution_count": 232,
   "metadata": {},
   "outputs": [
    {
     "name": "stderr",
     "output_type": "stream",
     "text": [
      " 23%|██▎       | 3375/14641 [02:13<07:24, 25.32it/s]"
     ]
    },
    {
     "name": "stdout",
     "output_type": "stream",
     "text": [
      "Warning: skipping 2 examples\n"
     ]
    },
    {
     "name": "stderr",
     "output_type": "stream",
     "text": [
      " 69%|██████▉   | 10131/14641 [06:41<02:59, 25.08it/s]"
     ]
    },
    {
     "name": "stdout",
     "output_type": "stream",
     "text": [
      "Warning: skipping 2 examples\n"
     ]
    },
    {
     "name": "stderr",
     "output_type": "stream",
     "text": [
      "100%|██████████| 14641/14641 [09:41<00:00, 25.20it/s]"
     ]
    },
    {
     "name": "stdout",
     "output_type": "stream",
     "text": [
      "14633 14633\n"
     ]
    },
    {
     "name": "stderr",
     "output_type": "stream",
     "text": [
      "\n"
     ]
    }
   ],
   "source": [
    "train_predict, train_target = get_examples_given_ref(TRAIN_REF_PATH, all_fash_pred_ex, all_fash_target_ex)\n",
    "\n",
    "print(len(train_predict), len(train_target))"
   ]
  },
  {
   "cell_type": "markdown",
   "metadata": {},
   "source": [
    "## Count number of candidate objects"
   ]
  },
  {
   "cell_type": "code",
   "execution_count": 5,
   "metadata": {},
   "outputs": [],
   "source": [
    "with open('./data_object_special/simmc2_dials_dstc10_train_predict.txt', 'r') as f:\n",
    "    train_data = f.readlines()\n",
    "\n",
    "with open('./data_object_special/simmc2_dials_dstc10_dev_predict.txt', 'r') as f:\n",
    "    dev_data = f.readlines()\n",
    "\n",
    "with open('./data_object_special/simmc2_dials_dstc10_devtest_predict.txt', 'r') as f:\n",
    "    devtest_data = f.readlines()"
   ]
  },
  {
   "cell_type": "code",
   "execution_count": 8,
   "metadata": {},
   "outputs": [],
   "source": [
    "with open('./data_object_special/new_datasets/train_seen_unseen_OOD_predict.txt', 'r') as f:\n",
    "    train_cd_data = f.readlines()\n",
    "\n",
    "with open('./data_object_special/new_datasets/in_domain_predict.txt', 'r') as f:\n",
    "    indom_data = f.readlines()\n",
    "\n",
    "with open('./data_object_special/new_datasets/in_domain_held_out_predict.txt', 'r') as f:\n",
    "    idho_data = f.readlines()\n",
    "\n",
    "with open('./data_object_special/new_datasets/out_of_domain_predict.txt', 'r') as f:\n",
    "    ood_data = f.readlines()\n",
    "\n",
    "### Added:\n",
    "with open('./data_object_special/new_datasets/all_furniture_predict.txt', 'r') as f:\n",
    "    all_furn_data = f.readlines()\n",
    "\n",
    "with open('./data_object_special/new_datasets/devtest_only_fashion_predict.txt', 'r') as f:\n",
    "    devtest_only_fash_data = f.readlines()\n",
    "\n",
    "with open('./data_object_special/new_datasets/devtest_only_furniture_predict.txt', 'r') as f:\n",
    "    devtest_only_furn_data = f.readlines()\n"
   ]
  },
  {
   "cell_type": "code",
   "execution_count": 30,
   "metadata": {},
   "outputs": [],
   "source": [
    "import numpy as np\n",
    "\n",
    "def count_mean_objs(data):\n",
    "    n_objs = []\n",
    "    for line in data:\n",
    "        n = 0\n",
    "        pos = line.find('<OBJ>')\n",
    "        while pos != -1:\n",
    "            n += 1\n",
    "            pos = line.find('<OBJ>', pos+1)\n",
    "        pos = line.find('<PREVIOBJ>')\n",
    "        while pos != -1:\n",
    "            n += 1\n",
    "            pos = line.find('<PREVIOBJ>', pos+1)\n",
    "        n_objs.append(n)\n",
    "    return np.mean(n_objs), np.std(n_objs)"
   ]
  },
  {
   "cell_type": "code",
   "execution_count": 31,
   "metadata": {},
   "outputs": [
    {
     "name": "stdout",
     "output_type": "stream",
     "text": [
      "24.22089333018596\n",
      "31.029765311963367\n",
      "25.475316529213615\n",
      "32.880954008063966\n",
      "32.504006231916314\n",
      "24.012662201758058\n",
      "9.039772727272727\n",
      "30.66620858146282\n",
      "8.972815533980583\n",
      "9.028843106180666\n"
     ]
    }
   ],
   "source": [
    "print(count_mean_objs(train_data)[0])\n",
    "print(count_mean_objs(dev_data)[0])\n",
    "print(count_mean_objs(devtest_data)[0])\n",
    "\n",
    "print(count_mean_objs(train_cd_data)[0])\n",
    "print(count_mean_objs(indom_data)[0])\n",
    "print(count_mean_objs(idho_data)[0])\n",
    "print(count_mean_objs(ood_data)[0])\n",
    "\n",
    "\n",
    "print(count_mean_objs(devtest_only_fash_data)[0])\n",
    "print(count_mean_objs(devtest_only_furn_data)[0])\n",
    "print(count_mean_objs(all_furn_data)[0])"
   ]
  },
  {
   "cell_type": "code",
   "execution_count": 22,
   "metadata": {},
   "outputs": [
    {
     "name": "stdout",
     "output_type": "stream",
     "text": [
      "22.558003514569727\n",
      "31.029765311963367\n",
      "24.267510744569638\n",
      "31.07144446917427\n",
      "20.941816659690247\n"
     ]
    }
   ],
   "source": [
    "print(count_mean_objs(train_data)[0])\n",
    "print(count_mean_objs(dev_data)[0])\n",
    "print(count_mean_objs(devtest_data)[0])\n",
    "print(count_mean_objs(indom_data)[0])\n",
    "print(count_mean_objs(idho_data)[0])\n"
   ]
  },
  {
   "cell_type": "markdown",
   "metadata": {},
   "source": [
    "The average number of objects per scene in the 'in domain' dataset is around 31, but the mean number of items per scene in the 'in domain held out' dataset is around 20.\n",
    "\n",
    "Examples: cloth_store_1498649_woman_3_2"
   ]
  },
  {
   "cell_type": "code",
   "execution_count": 7,
   "metadata": {},
   "outputs": [
    {
     "data": {
      "image/png": "[encoded data removed]",
      "text/plain": [
       "<Figure size 432x288 with 1 Axes>"
      ]
     },
     "metadata": {
      "needs_background": "light"
     },
     "output_type": "display_data"
    }
   ],
   "source": [
    "import numpy as np\n",
    "import matplotlib.pyplot as plt\n",
    "import matplotlib as mpl\n",
    "mpl.rcParams['figure.dpi'] = 120 # iamge resolution\n",
    "import seaborn as sns\n",
    "sns.set_theme()\n",
    "\n",
    "train_cd_mean, train_cd_std = count_mean_objs(train_cd_data)\n",
    "indom_mean, indom_std = count_mean_objs(indom_data)\n",
    "idho_mean, idho_std = count_mean_objs(idho_data)\n",
    "ood_mean, ood_std = count_mean_objs(ood_data)\n",
    "\n",
    "means = [train_cd_mean, indom_mean, idho_mean, ood_mean]\n",
    "stds = [train_cd_std, indom_std, idho_std, ood_std]\n",
    "names = ['train-cd', 'in-domain', 'in-dom held-out', 'out domain']\n",
    "x_pos = np.arange(len(names))\n",
    "\n",
    "fig, ax = plt.subplots()\n",
    "ax.bar(x_pos, means, yerr=stds, alpha=0.9)\n",
    "ax.set_xticks(x_pos)\n",
    "ax.set_xticklabels(names)\n",
    "ax.set_ylabel('Average no. objects per scene', weight='bold')\n",
    "ax.set_xlabel('Dataset', weight='bold')\n",
    "ax.set_title('Average no. objects per scene in cross-domain datasets', weight='bold')\n",
    "\n",
    "plt.show()"
   ]
  },
  {
   "cell_type": "code",
   "execution_count": null,
   "metadata": {},
   "outputs": [],
   "source": []
  }
 ],
 "metadata": {
  "kernelspec": {
   "display_name": "Python 3.9.0 ('venv': venv)",
   "language": "python",
   "name": "python3"
  },
  "language_info": {
   "codemirror_mode": {
    "name": "ipython",
    "version": 3
   },
   "file_extension": ".py",
   "mimetype": "text/x-python",
   "name": "python",
   "nbconvert_exporter": "python",
   "pygments_lexer": "ipython3",
   "version": "3.9.0"
  },
  "orig_nbformat": 4,
  "vscode": {
   "interpreter": {
    "hash": "b67ed9e9af8edfed5c6ad12438b07039e5eeda5b93411503796bc35acfdbeaa1"
   }
  }
 },
 "nbformat": 4,
 "nbformat_minor": 2
}
